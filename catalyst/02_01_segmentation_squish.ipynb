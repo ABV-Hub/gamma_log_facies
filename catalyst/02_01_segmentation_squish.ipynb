{
 "cells": [
  {
   "cell_type": "markdown",
   "metadata": {},
   "source": [
    "# Segmentation"
   ]
  },
  {
   "cell_type": "markdown",
   "metadata": {},
   "source": [
    "If you have Unet, all CV is segmentation now."
   ]
  },
  {
   "cell_type": "markdown",
   "metadata": {},
   "source": [
    "## Goals\n",
    "\n",
    "- train Unet on isbi dataset\n",
    "- visualize the predictions"
   ]
  },
  {
   "cell_type": "markdown",
   "metadata": {},
   "source": [
    "# Preparation"
   ]
  },
  {
   "cell_type": "markdown",
   "metadata": {},
   "source": [
    "Final folder structure with training data:\n",
    "```bash\n",
    "catalyst-examples/\n",
    "    data/\n",
    "        isbi/\n",
    "            train-volume.tif\n",
    "            train-labels.tif\n",
    "```"
   ]
  },
  {
   "cell_type": "code",
   "execution_count": 88,
   "metadata": {},
   "outputs": [
    {
     "name": "stdout",
     "output_type": "stream",
     "text": [
      "torch: 1.3.1, catalyst: 19.12.1\n"
     ]
    }
   ],
   "source": [
    "import collections\n",
    "from pathlib import Path\n",
    "from typing import Callable, List, Tuple\n",
    "import os\n",
    "import random\n",
    "\n",
    "import matplotlib.pyplot as plt\n",
    "import numpy as np\n",
    "from skimage.io import imread as gif_imread\n",
    "from sklearn.model_selection import train_test_split\n",
    "\n",
    "import torch\n",
    "import torch.nn as nn\n",
    "import torchvision\n",
    "import torchvision.transforms as transforms\n",
    "from torch.utils.data import Dataset\n",
    "from torch.utils.data import DataLoader\n",
    "\n",
    "import catalyst\n",
    "from catalyst.data import Augmentor\n",
    "from catalyst.dl import utils as dl_utils\n",
    "from catalyst import utils\n",
    "from catalyst.contrib.models.segmentation import Unet\n",
    "\n",
    "from catalyst.dl.runner import SupervisedRunner\n",
    "\n",
    "import albumentations as albu\n",
    "from albumentations.pytorch import ToTensor\n",
    "\n",
    "print(f\"torch: {torch.__version__}, catalyst: {catalyst.__version__}\")\n",
    "\n",
    "os.environ[\"CUDA_VISIBLE_DEVICES\"] = \"2\"  # \"\" - CPU, \"0\" - 1 GPU, \"0,1\" - MultiGPU\n",
    "\n",
    "SEED = 42\n",
    "utils.set_global_seed(SEED)\n",
    "utils.prepare_cudnn(deterministic=True)"
   ]
  },
  {
   "cell_type": "code",
   "execution_count": 73,
   "metadata": {},
   "outputs": [],
   "source": [
    "import os\n",
    "os.environ[\"CUDA_VISIBLE_DEVICES\"] = \"0\""
   ]
  },
  {
   "cell_type": "code",
   "execution_count": 74,
   "metadata": {},
   "outputs": [],
   "source": [
    "# this variable will be used in `runner.train` and by default we disable FP16 mode\n",
    "is_fp16_used = True"
   ]
  },
  {
   "cell_type": "markdown",
   "metadata": {},
   "source": [
    "# Data"
   ]
  },
  {
   "cell_type": "code",
   "execution_count": 75,
   "metadata": {},
   "outputs": [],
   "source": [
    "\n",
    "tgt_height = 256\n",
    "data_dir = Path('../data')\n",
    "train_images = data_dir/'train_images'\n",
    "test_img = train_images/'mask_fill/test'\n",
    "\n",
    "train_path = train_images/'mask_fill/train'\n",
    "train_mask = train_path/'masks'\n",
    "train_img = train_path/'images'\n"
   ]
  },
  {
   "cell_type": "code",
   "execution_count": 76,
   "metadata": {},
   "outputs": [
    {
     "data": {
      "text/plain": [
       "4000"
      ]
     },
     "execution_count": 76,
     "metadata": {},
     "output_type": "execute_result"
    }
   ],
   "source": [
    "ALL_IMAGES = sorted(train_img.glob(\"*.png\"))\n",
    "len(ALL_IMAGES)"
   ]
  },
  {
   "cell_type": "code",
   "execution_count": 77,
   "metadata": {},
   "outputs": [
    {
     "data": {
      "text/plain": [
       "4000"
      ]
     },
     "execution_count": 77,
     "metadata": {},
     "output_type": "execute_result"
    }
   ],
   "source": [
    "ALL_MASKS = sorted(train_mask.glob(\"*.png\"))\n",
    "len(ALL_MASKS)"
   ]
  },
  {
   "cell_type": "code",
   "execution_count": 78,
   "metadata": {},
   "outputs": [],
   "source": [
    "def show_examples(name: str, image: np.ndarray, mask: np.ndarray):\n",
    "    plt.figure(figsize=(10, 14))\n",
    "    plt.subplot(1, 2, 1)\n",
    "    plt.imshow(image)\n",
    "    plt.title(f\"Image: {name}\")\n",
    "\n",
    "    plt.subplot(1, 2, 2)\n",
    "    plt.imshow(mask)\n",
    "    plt.title(f\"Mask: {name}\")"
   ]
  },
  {
   "cell_type": "code",
   "execution_count": 79,
   "metadata": {},
   "outputs": [],
   "source": [
    "def show(index: int, images: List[Path], masks: List[Path], transforms=None) -> None:\n",
    "    image_path = images[index]\n",
    "    name = image_path.name\n",
    "\n",
    "    image = utils.imread(image_path)\n",
    "    mask = gif_imread(masks[index])\n",
    "\n",
    "    if transforms is not None:\n",
    "        temp = transforms(image=image, mask=mask)\n",
    "        image = temp[\"image\"]\n",
    "        mask = temp[\"mask\"]\n",
    "\n",
    "    show_examples(name, image, mask)"
   ]
  },
  {
   "cell_type": "code",
   "execution_count": 80,
   "metadata": {},
   "outputs": [],
   "source": [
    "def show_random(images: List[Path], masks: List[Path], transforms=None) -> None:\n",
    "    length = len(images)\n",
    "    index = random.randint(0, length - 1)\n",
    "    show(index, images, masks, transforms)"
   ]
  },
  {
   "cell_type": "code",
   "execution_count": 81,
   "metadata": {},
   "outputs": [
    {
     "data": {
      "image/png": "[encoded data removed]",
      "text/plain": [
       "<Figure size 720x1008 with 2 Axes>"
      ]
     },
     "metadata": {
      "needs_background": "light"
     },
     "output_type": "display_data"
    }
   ],
   "source": [
    "show_random(ALL_IMAGES, ALL_MASKS)"
   ]
  },
  {
   "cell_type": "markdown",
   "metadata": {},
   "source": [
    "### Dataset"
   ]
  },
  {
   "cell_type": "code",
   "execution_count": 82,
   "metadata": {},
   "outputs": [],
   "source": [
    "class SegmentationDataset(Dataset):\n",
    "    def __init__(\n",
    "        self,\n",
    "        images: List[Path],\n",
    "        masks: List[Path] = None,\n",
    "        transforms=None\n",
    "    ) -> None:\n",
    "        self.images = images\n",
    "        self.masks = masks\n",
    "        self.transforms = transforms\n",
    "\n",
    "    def __len__(self) -> int:\n",
    "        return len(self.images)\n",
    "\n",
    "    def __getitem__(self, idx: int) -> dict:\n",
    "        image_path = self.images[idx]\n",
    "        image = utils.imread(image_path)\n",
    "        \n",
    "        result = {\"image\": image}\n",
    "        \n",
    "        if self.masks is not None:\n",
    "            mask = gif_imread(self.masks[idx])\n",
    "            result[\"mask\"] = mask\n",
    "        \n",
    "        if self.transforms is not None:\n",
    "            result = self.transforms(**result)\n",
    "        \n",
    "        result[\"filename\"] = image_path.name\n",
    "\n",
    "        return result"
   ]
  },
  {
   "cell_type": "markdown",
   "metadata": {},
   "source": [
    "### Transforms"
   ]
  },
  {
   "cell_type": "code",
   "execution_count": 83,
   "metadata": {},
   "outputs": [],
   "source": [
    "def pre_transforms(image_size=224):\n",
    "    return [albu.Resize(image_size, image_size, p=1)]\n",
    "\n",
    "\n",
    "def hard_transforms():\n",
    "    result = [\n",
    "      albu.RandomRotate90(),\n",
    "      albu.Cutout(),\n",
    "      albu.RandomBrightnessContrast(\n",
    "          brightness_limit=0.2, contrast_limit=0.2, p=0.3\n",
    "      ),\n",
    "      albu.GridDistortion(p=0.3),\n",
    "      albu.HueSaturationValue(p=0.3)\n",
    "    ]\n",
    "\n",
    "    return result\n",
    "  \n",
    "\n",
    "def resize_transforms(image_size=224):\n",
    "    BORDER_CONSTANT = 0\n",
    "    pre_size = int(image_size * 1.5)\n",
    "\n",
    "    random_crop = albu.Compose([\n",
    "      albu.SmallestMaxSize(pre_size, p=1),\n",
    "      albu.RandomCrop(\n",
    "          image_size, image_size, p=1\n",
    "      )\n",
    "\n",
    "    ])\n",
    "\n",
    "    rescale = albu.Compose([albu.Resize(image_size, image_size, p=1)])\n",
    "\n",
    "    random_crop_big = albu.Compose([\n",
    "      albu.LongestMaxSize(pre_size, p=1),\n",
    "      albu.RandomCrop(\n",
    "          image_size, image_size, p=1\n",
    "      )\n",
    "\n",
    "    ])\n",
    "\n",
    "    # Converts the image to a square of size image_size x image_size\n",
    "    result = [\n",
    "      albu.OneOf([\n",
    "          random_crop,\n",
    "          rescale,\n",
    "          random_crop_big\n",
    "      ], p=1)\n",
    "    ]\n",
    "\n",
    "    return result\n",
    "  \n",
    "def post_transforms():\n",
    "    # we use ImageNet image normalization\n",
    "    # and convert it to torch.Tensor\n",
    "    return [albu.Normalize(), ToTensor()]\n",
    "  \n",
    "def compose(transforms_to_compose):\n",
    "    # combine all augmentations into one single pipeline\n",
    "    result = albu.Compose([\n",
    "      item for sublist in transforms_to_compose for item in sublist\n",
    "    ])\n",
    "    return result"
   ]
  },
  {
   "cell_type": "code",
   "execution_count": 84,
   "metadata": {},
   "outputs": [],
   "source": [
    "train_transforms = compose([\n",
    "    resize_transforms(), \n",
    "    hard_transforms(), \n",
    "    post_transforms()\n",
    "])\n",
    "valid_transforms = compose([pre_transforms(), post_transforms()])\n",
    "\n",
    "show_transforms = compose([resize_transforms(), hard_transforms()])"
   ]
  },
  {
   "cell_type": "code",
   "execution_count": 85,
   "metadata": {},
   "outputs": [
    {
     "data": {
      "image/png": "[encoded data removed]",
      "text/plain": [
       "<Figure size 720x1008 with 2 Axes>"
      ]
     },
     "metadata": {
      "needs_background": "light"
     },
     "output_type": "display_data"
    }
   ],
   "source": [
    "show_random(ALL_IMAGES, ALL_MASKS, transforms=show_transforms)"
   ]
  },
  {
   "cell_type": "markdown",
   "metadata": {},
   "source": [
    "### Loaders"
   ]
  },
  {
   "cell_type": "code",
   "execution_count": 86,
   "metadata": {},
   "outputs": [],
   "source": [
    "def get_loaders(\n",
    "    images: List[Path],\n",
    "    masks: List[Path],\n",
    "    random_state: int,\n",
    "    valid_size: float = 0.2,\n",
    "    batch_size: int = 32,\n",
    "    num_workers: int = 4,\n",
    "    train_transforms_fn = None,\n",
    "    valid_transforms_fn = None,\n",
    ") -> dict:\n",
    "\n",
    "    indices = np.arange(len(images))\n",
    "\n",
    "    # Let's divide the data set into train and valid parts.\n",
    "    train_indices, valid_indices = train_test_split(\n",
    "      indices, test_size=valid_size, random_state=random_state, shuffle=True\n",
    "    )\n",
    "\n",
    "    np_images = np.array(images)\n",
    "    np_masks = np.array(masks)\n",
    "\n",
    "    # Creates our train dataset\n",
    "    train_dataset = SegmentationDataset(\n",
    "      images = np_images[train_indices].tolist(),\n",
    "      masks = np_masks[train_indices].tolist(),\n",
    "      transforms = train_transforms_fn\n",
    "    )\n",
    "\n",
    "    # Creates our valid dataset\n",
    "    valid_dataset = SegmentationDataset(\n",
    "      images = np_images[valid_indices].tolist(),\n",
    "      masks = np_masks[valid_indices].tolist(),\n",
    "      transforms = valid_transforms_fn\n",
    "    )\n",
    "\n",
    "    # Catalyst uses normal torch.data.DataLoader\n",
    "    train_loader = DataLoader(\n",
    "      train_dataset,\n",
    "      batch_size=batch_size,\n",
    "      shuffle=True,\n",
    "      num_workers=num_workers,\n",
    "      drop_last=True,\n",
    "    )\n",
    "\n",
    "    valid_loader = DataLoader(\n",
    "      valid_dataset,\n",
    "      batch_size=batch_size,\n",
    "      shuffle=False,\n",
    "      num_workers=num_workers,\n",
    "      drop_last=True,\n",
    "    )\n",
    "\n",
    "    # And excpect to get an OrderedDict of loaders\n",
    "    loaders = collections.OrderedDict()\n",
    "    loaders[\"train\"] = train_loader\n",
    "    loaders[\"valid\"] = valid_loader\n",
    "\n",
    "    return loaders"
   ]
  },
  {
   "cell_type": "code",
   "execution_count": 87,
   "metadata": {},
   "outputs": [
    {
     "name": "stdout",
     "output_type": "stream",
     "text": [
      "batch_size: 64\n"
     ]
    }
   ],
   "source": [
    "if is_fp16_used:\n",
    "    batch_size = 64\n",
    "else:\n",
    "    batch_size = 32\n",
    "\n",
    "print(f\"batch_size: {batch_size}\")\n",
    "\n",
    "loaders = get_loaders(\n",
    "    images=ALL_IMAGES,\n",
    "    masks=ALL_MASKS,\n",
    "    random_state=SEED,\n",
    "    train_transforms_fn=train_transforms,\n",
    "    valid_transforms_fn=valid_transforms,\n",
    "    batch_size=batch_size\n",
    ")"
   ]
  },
  {
   "cell_type": "markdown",
   "metadata": {},
   "source": [
    "# Model"
   ]
  },
  {
   "cell_type": "code",
   "execution_count": null,
   "metadata": {
    "scrolled": true
   },
   "outputs": [
    {
     "data": {
      "application/javascript": [
       "IPython.notebook.save_checkpoint();"
      ],
      "text/plain": [
       "<IPython.core.display.Javascript object>"
      ]
     },
     "metadata": {},
     "output_type": "display_data"
    },
    {
     "data": {
      "application/javascript": [
       "IPython.notebook.save_checkpoint();"
      ],
      "text/plain": [
       "<IPython.core.display.Javascript object>"
      ]
     },
     "metadata": {},
     "output_type": "display_data"
    },
    {
     "data": {
      "application/javascript": [
       "IPython.notebook.save_checkpoint();"
      ],
      "text/plain": [
       "<IPython.core.display.Javascript object>"
      ]
     },
     "metadata": {},
     "output_type": "display_data"
    },
    {
     "data": {
      "application/javascript": [
       "IPython.notebook.save_checkpoint();"
      ],
      "text/plain": [
       "<IPython.core.display.Javascript object>"
      ]
     },
     "metadata": {},
     "output_type": "display_data"
    },
    {
     "name": "stdout",
     "output_type": "stream",
     "text": [
      "1/50 * Epoch (train): 100% 7/7 [00:02<00:00,  2.61it/s, loss=0.397]\n",
      "1/50 * Epoch (valid): 100% 1/1 [00:00<00:00,  3.32it/s, loss=0.895]\n",
      "[2019-12-14 22:08:55,901] \n",
      "1/50 * Epoch 1 (train): _base/lr=0.0010 | _base/momentum=0.9000 | _timers/_fps=571.8035 | _timers/batch_time=0.0336 | _timers/data_time=0.0216 | _timers/model_time=0.0119 | loss=0.4898\n",
      "1/50 * Epoch 1 (valid): _base/lr=0.0010 | _base/momentum=0.9000 | _timers/_fps=29.5010 | _timers/batch_time=0.1356 | _timers/data_time=0.1263 | _timers/model_time=0.0090 | loss=0.8954\n",
      "2/50 * Epoch (train): 100% 7/7 [00:02<00:00,  2.61it/s, loss=0.327]\n",
      "2/50 * Epoch (valid): 100% 1/1 [00:00<00:00,  3.09it/s, loss=0.576]\n",
      "[2019-12-14 22:09:07,649] \n",
      "2/50 * Epoch 2 (train): _base/lr=0.0010 | _base/momentum=0.9000 | _timers/_fps=536.5173 | _timers/batch_time=0.0312 | _timers/data_time=0.0236 | _timers/model_time=0.0075 | loss=0.3571\n",
      "2/50 * Epoch 2 (valid): _base/lr=0.0010 | _base/momentum=0.9000 | _timers/_fps=25.6064 | _timers/batch_time=0.1562 | _timers/data_time=0.1471 | _timers/model_time=0.0088 | loss=0.5756\n",
      "3/50 * Epoch (train): 100% 7/7 [00:02<00:00,  2.60it/s, loss=0.302]\n",
      "3/50 * Epoch (valid): 100% 1/1 [00:00<00:00,  3.28it/s, loss=0.370]\n",
      "[2019-12-14 22:09:19,234] \n",
      "3/50 * Epoch 3 (train): _base/lr=0.0010 | _base/momentum=0.9000 | _timers/_fps=547.4947 | _timers/batch_time=0.0305 | _timers/data_time=0.0230 | _timers/model_time=0.0075 | loss=0.3215\n",
      "3/50 * Epoch 3 (valid): _base/lr=0.0010 | _base/momentum=0.9000 | _timers/_fps=29.2974 | _timers/batch_time=0.1365 | _timers/data_time=0.1270 | _timers/model_time=0.0092 | loss=0.3700\n",
      "4/50 * Epoch (train): 100% 7/7 [00:02<00:00,  2.61it/s, loss=0.276]\n",
      "4/50 * Epoch (valid): 100% 1/1 [00:00<00:00,  3.20it/s, loss=0.345]\n",
      "[2019-12-14 22:09:30,961] \n",
      "4/50 * Epoch 4 (train): _base/lr=0.0010 | _base/momentum=0.9000 | _timers/_fps=586.8874 | _timers/batch_time=0.0282 | _timers/data_time=0.0214 | _timers/model_time=0.0067 | loss=0.2902\n",
      "4/50 * Epoch 4 (valid): _base/lr=0.0010 | _base/momentum=0.9000 | _timers/_fps=27.8111 | _timers/batch_time=0.1438 | _timers/data_time=0.1353 | _timers/model_time=0.0083 | loss=0.3451\n",
      "5/50 * Epoch (train): 100% 7/7 [00:02<00:00,  2.59it/s, loss=0.276]\n",
      "5/50 * Epoch (valid): 100% 1/1 [00:00<00:00,  3.08it/s, loss=0.340]\n",
      "[2019-12-14 22:09:42,723] \n",
      "5/50 * Epoch 5 (train): _base/lr=0.0010 | _base/momentum=0.9000 | _timers/_fps=543.4114 | _timers/batch_time=0.0291 | _timers/data_time=0.0218 | _timers/model_time=0.0073 | loss=0.2739\n",
      "5/50 * Epoch 5 (valid): _base/lr=0.0010 | _base/momentum=0.9000 | _timers/_fps=26.0052 | _timers/batch_time=0.1538 | _timers/data_time=0.1459 | _timers/model_time=0.0077 | loss=0.3401\n",
      "6/50 * Epoch (train): 100% 7/7 [00:02<00:00,  2.61it/s, loss=0.252]\n",
      "6/50 * Epoch (valid): 100% 1/1 [00:00<00:00,  3.29it/s, loss=0.270]\n",
      "[2019-12-14 22:09:54,520] \n",
      "6/50 * Epoch 6 (train): _base/lr=0.0010 | _base/momentum=0.9000 | _timers/_fps=551.2341 | _timers/batch_time=0.0298 | _timers/data_time=0.0224 | _timers/model_time=0.0074 | loss=0.2561\n",
      "6/50 * Epoch 6 (valid): _base/lr=0.0010 | _base/momentum=0.9000 | _timers/_fps=28.5739 | _timers/batch_time=0.1400 | _timers/data_time=0.1276 | _timers/model_time=0.0121 | loss=0.2699\n",
      "7/50 * Epoch (train): 100% 7/7 [00:02<00:00,  2.59it/s, loss=0.248]\n",
      "7/50 * Epoch (valid): 100% 1/1 [00:00<00:00,  3.12it/s, loss=0.238]\n",
      "[2019-12-14 22:10:06,460] \n",
      "7/50 * Epoch 7 (train): _base/lr=0.0010 | _base/momentum=0.9000 | _timers/_fps=561.0327 | _timers/batch_time=0.0295 | _timers/data_time=0.0224 | _timers/model_time=0.0071 | loss=0.2551\n",
      "7/50 * Epoch 7 (valid): _base/lr=0.0010 | _base/momentum=0.9000 | _timers/_fps=25.2409 | _timers/batch_time=0.1585 | _timers/data_time=0.1469 | _timers/model_time=0.0113 | loss=0.2377\n",
      "8/50 * Epoch (train): 100% 7/7 [00:02<00:00,  2.59it/s, loss=0.229]\n",
      "8/50 * Epoch (valid): 100% 1/1 [00:00<00:00,  3.14it/s, loss=0.264]\n",
      "[2019-12-14 22:10:13,997] \n",
      "8/50 * Epoch 8 (train): _base/lr=0.0010 | _base/momentum=0.9000 | _timers/_fps=541.1565 | _timers/batch_time=0.0304 | _timers/data_time=0.0229 | _timers/model_time=0.0074 | loss=0.2412\n",
      "8/50 * Epoch 8 (valid): _base/lr=0.0010 | _base/momentum=0.9000 | _timers/_fps=25.8409 | _timers/batch_time=0.1548 | _timers/data_time=0.1442 | _timers/model_time=0.0104 | loss=0.2636\n",
      "9/50 * Epoch (train): 100% 7/7 [00:02<00:00,  2.59it/s, loss=0.244]\n",
      "9/50 * Epoch (valid): 100% 1/1 [00:00<00:00,  3.24it/s, loss=0.229]\n",
      "[2019-12-14 22:10:25,752] \n",
      "9/50 * Epoch 9 (train): _base/lr=0.0010 | _base/momentum=0.9000 | _timers/_fps=586.3902 | _timers/batch_time=0.0266 | _timers/data_time=0.0198 | _timers/model_time=0.0067 | loss=0.2286\n",
      "9/50 * Epoch 9 (valid): _base/lr=0.0010 | _base/momentum=0.9000 | _timers/_fps=28.2500 | _timers/batch_time=0.1416 | _timers/data_time=0.1328 | _timers/model_time=0.0085 | loss=0.2290\n",
      "10/50 * Epoch (train): 100% 7/7 [00:02<00:00,  2.59it/s, loss=0.205]\n",
      "10/50 * Epoch (valid): 100% 1/1 [00:00<00:00,  3.25it/s, loss=0.212]\n",
      "[2019-12-14 22:10:37,589] \n",
      "10/50 * Epoch 10 (train): _base/lr=0.0010 | _base/momentum=0.9000 | _timers/_fps=550.9160 | _timers/batch_time=0.0296 | _timers/data_time=0.0224 | _timers/model_time=0.0071 | loss=0.2198\n",
      "10/50 * Epoch 10 (valid): _base/lr=0.0010 | _base/momentum=0.9000 | _timers/_fps=28.2767 | _timers/batch_time=0.1415 | _timers/data_time=0.1321 | _timers/model_time=0.0091 | loss=0.2124\n",
      "11/50 * Epoch (train): 100% 7/7 [00:02<00:00,  2.58it/s, loss=0.205]\n",
      "11/50 * Epoch (valid): 100% 1/1 [00:00<00:00,  3.26it/s, loss=0.223]\n",
      "[2019-12-14 22:10:45,279] \n",
      "11/50 * Epoch 11 (train): _base/lr=0.0010 | _base/momentum=0.9000 | _timers/_fps=561.5006 | _timers/batch_time=0.0312 | _timers/data_time=0.0239 | _timers/model_time=0.0073 | loss=0.2175\n",
      "11/50 * Epoch 11 (valid): _base/lr=0.0010 | _base/momentum=0.9000 | _timers/_fps=29.3739 | _timers/batch_time=0.1362 | _timers/data_time=0.1297 | _timers/model_time=0.0063 | loss=0.2229\n",
      "12/50 * Epoch (train): 100% 7/7 [00:02<00:00,  2.57it/s, loss=0.239]\n",
      "12/50 * Epoch (valid): 100% 1/1 [00:00<00:00,  3.03it/s, loss=0.226]\n"
     ]
    }
   ],
   "source": [
    "\n",
    "\n",
    "# experiment setup\n",
    "num_epochs = 50\n",
    "logdir = \"./logs/segmentation_notebook\"\n",
    "\n",
    "# model, criterion, optimizer\n",
    "model = Unet(num_classes=6, in_channels=1, num_channels=64, num_blocks=4)\n",
    "criterion = nn.CEWithLogitsLoss()\n",
    "optimizer = torch.optim.Adam(model.parameters(), lr=1e-3)\n",
    "scheduler = torch.optim.lr_scheduler.MultiStepLR(optimizer, milestones=[10, 20, 40], gamma=0.3)\n",
    "\n",
    "\n",
    "# model runner\n",
    "runner = SupervisedRunner()\n",
    "\n",
    "# model training\n",
    "runner.train(\n",
    "    model=model,\n",
    "    criterion=criterion,\n",
    "    optimizer=optimizer,\n",
    "    loaders=loaders,\n",
    "    logdir=logdir,\n",
    "    num_epochs=num_epochs,\n",
    "    verbose=True\n",
    ")"
   ]
  },
  {
   "cell_type": "markdown",
   "metadata": {},
   "source": [
    "# Inference"
   ]
  },
  {
   "cell_type": "code",
   "execution_count": null,
   "metadata": {},
   "outputs": [],
   "source": [
    "runner_out = runner.predict_loader(\n",
    "    model, loaders[\"valid\"], resume=f\"{logdir}/checkpoints/best.pth\"\n",
    ")"
   ]
  },
  {
   "cell_type": "markdown",
   "metadata": {},
   "source": [
    "# Predictions visualization"
   ]
  },
  {
   "cell_type": "code",
   "execution_count": null,
   "metadata": {},
   "outputs": [],
   "source": [
    "import matplotlib.pyplot as plt\n",
    "plt.style.use(\"ggplot\")\n",
    "%matplotlib inline"
   ]
  },
  {
   "cell_type": "code",
   "execution_count": null,
   "metadata": {},
   "outputs": [],
   "source": [
    "sigmoid = lambda x: 1/(1 + np.exp(-x))\n",
    "\n",
    "for i, (input, output) in enumerate(zip(valid_data, runner_out)):\n",
    "    image, mask = input\n",
    "    \n",
    "    threshold = 0.5\n",
    "    \n",
    "    plt.figure(figsize=(10,8))\n",
    "    \n",
    "    plt.subplot(1, 3, 1)\n",
    "    plt.imshow(image, 'gray')\n",
    "    \n",
    "    plt.subplot(1, 3, 2)\n",
    "    output = sigmoid(output[0].copy())\n",
    "    output = (output > threshold).astype(np.uint8)\n",
    "    plt.imshow(output, 'gray')\n",
    "    \n",
    "    plt.subplot(1, 3, 3)\n",
    "    plt.imshow(mask, 'gray')\n",
    "    \n",
    "    plt.show()"
   ]
  },
  {
   "cell_type": "code",
   "execution_count": null,
   "metadata": {},
   "outputs": [],
   "source": []
  }
 ],
 "metadata": {
  "kernelspec": {
   "display_name": "Python 3",
   "language": "python",
   "name": "python3"
  },
  "language_info": {
   "codemirror_mode": {
    "name": "ipython",
    "version": 3
   },
   "file_extension": ".py",
   "mimetype": "text/x-python",
   "name": "python",
   "nbconvert_exporter": "python",
   "pygments_lexer": "ipython3",
   "version": "3.7.3"
  }
 },
 "nbformat": 4,
 "nbformat_minor": 2
}
