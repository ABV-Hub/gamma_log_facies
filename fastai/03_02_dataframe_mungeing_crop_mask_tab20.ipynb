{
 "cells": [
  {
   "cell_type": "markdown",
   "metadata": {},
   "source": [
    "# Image segmentaion with masked facies\n",
    "\n",
    "Squish rectangular images to square\n",
    "\n",
    "Using mask images processed in 01_02_mask_processing\n",
    "\n",
    "550x550 size"
   ]
  },
  {
   "cell_type": "code",
   "execution_count": 1,
   "metadata": {},
   "outputs": [],
   "source": [
    "%reload_ext autoreload\n",
    "%autoreload 2\n",
    "%matplotlib inline"
   ]
  },
  {
   "cell_type": "code",
   "execution_count": 2,
   "metadata": {
    "_cell_guid": "b1076dfc-b9ad-4769-8c92-a6c4dae69d19",
    "_uuid": "8f2839f25d086af736a60e9eeb907d3b93b6e0e5"
   },
   "outputs": [],
   "source": [
    "import sys\n",
    "from numbers import Integral\n",
    "from random import uniform\n",
    "from PIL import Image as pil_image\n",
    "import fastai\n",
    "from fastai.vision import *\n",
    "from fastai.vision import Image\n",
    "from fastai.vision.transform import _minus_epsilon\n",
    "from fastai.vision.data import SegmentationProcessor\n",
    "from fastai.vision.interpret import SegmentationInterpretation\n",
    "from fastai.callbacks.tracker import SaveModelCallback\n",
    "from mask_functions import *\n",
    "from collections import defaultdict\n",
    "import cv2\n",
    "from IPython.display import display \n",
    "import datetime\n",
    "import uuid\n",
    "from scipy.stats import mode\n",
    "import os\n",
    "import psutil\n",
    "import time"
   ]
  },
  {
   "cell_type": "code",
   "execution_count": 3,
   "metadata": {},
   "outputs": [
    {
     "data": {
      "text/plain": [
       "'1.0.60.dev0'"
      ]
     },
     "execution_count": 3,
     "metadata": {},
     "output_type": "execute_result"
    }
   ],
   "source": [
    "fastai.__version__"
   ]
  },
  {
   "cell_type": "code",
   "execution_count": 4,
   "metadata": {},
   "outputs": [],
   "source": [
    "torch.cuda.set_device(2)"
   ]
  },
  {
   "cell_type": "code",
   "execution_count": 5,
   "metadata": {},
   "outputs": [],
   "source": [
    "pid = os.getpid()\n",
    "py = psutil.Process(pid)"
   ]
  },
  {
   "cell_type": "code",
   "execution_count": 6,
   "metadata": {},
   "outputs": [
    {
     "name": "stdout",
     "output_type": "stream",
     "text": [
      "UID: 5ca07634, DATE: 20191223\n"
     ]
    }
   ],
   "source": [
    "DATE = datetime.datetime.today().strftime('%Y%m%d')\n",
    "UID=str(uuid.uuid4())[:8]\n",
    "print(f'UID: {UID}, DATE: {DATE}')    "
   ]
  },
  {
   "cell_type": "code",
   "execution_count": 7,
   "metadata": {},
   "outputs": [],
   "source": [
    "#UID='37c69040'\n",
    "#DATE='20191217'\n",
    "NB='03_01'"
   ]
  },
  {
   "cell_type": "code",
   "execution_count": 8,
   "metadata": {},
   "outputs": [],
   "source": [
    "#uses images in images_256 folder\n",
    "INFERENCE_MODEL='02_10_2-94b27c81_rn34_256-s2-r0-20191222'\n",
    "#INFERENCE_MODEL='02_10_1-be4a9fe2_rn34_256-s2-r0-20191222'"
   ]
  },
  {
   "cell_type": "code",
   "execution_count": 9,
   "metadata": {},
   "outputs": [],
   "source": [
    "SUBSET_DATA=False\n",
    "SUBSET_LEN=171\n",
    "\n",
    "VAL_FILE='val_20pct_0.csv'\n",
    "\n",
    "TGT_HEIGHT = 256\n",
    "IMAGE_WIDTH = 1100"
   ]
  },
  {
   "cell_type": "code",
   "execution_count": 10,
   "metadata": {},
   "outputs": [],
   "source": [
    "data_dir = Path('../data')\n",
    "train_images = data_dir/'train_images'\n",
    "train_path = train_images/'cropped_512/train'\n",
    "train_mask = train_path/'masks'\n",
    "train_img = train_path/'images'\n",
    "\n",
    "test_img = train_images/'cropped_512/test'\n",
    "\n",
    "preds_path = data_dir/'preds'\n",
    "preds_path.mkdir(exist_ok=True)\n",
    "\n"
   ]
  },
  {
   "cell_type": "code",
   "execution_count": 11,
   "metadata": {},
   "outputs": [],
   "source": [
    "filename = data_dir/'CAX_LogFacies_Train_File.csv'"
   ]
  },
  {
   "cell_type": "code",
   "execution_count": 12,
   "metadata": {},
   "outputs": [],
   "source": [
    "file_test = data_dir/'CAX_LogFacies_Test_File.csv'"
   ]
  },
  {
   "cell_type": "code",
   "execution_count": 13,
   "metadata": {},
   "outputs": [],
   "source": [
    "codes = array(['Background', 'Funnel', 'None', 'Cylindrical', 'Symmetrical', 'Bell'])"
   ]
  },
  {
   "cell_type": "markdown",
   "metadata": {},
   "source": [
    "#### all data"
   ]
  },
  {
   "cell_type": "code",
   "execution_count": 14,
   "metadata": {},
   "outputs": [
    {
     "data": {
      "text/html": [
       "<div>\n",
       "<style scoped>\n",
       "    .dataframe tbody tr th:only-of-type {\n",
       "        vertical-align: middle;\n",
       "    }\n",
       "\n",
       "    .dataframe tbody tr th {\n",
       "        vertical-align: top;\n",
       "    }\n",
       "\n",
       "    .dataframe thead th {\n",
       "        text-align: right;\n",
       "    }\n",
       "</style>\n",
       "<table border=\"1\" class=\"dataframe\">\n",
       "  <thead>\n",
       "    <tr style=\"text-align: right;\">\n",
       "      <th></th>\n",
       "      <th>0</th>\n",
       "    </tr>\n",
       "  </thead>\n",
       "  <tbody>\n",
       "    <tr>\n",
       "      <td>0</td>\n",
       "      <td>well_0.png</td>\n",
       "    </tr>\n",
       "    <tr>\n",
       "      <td>1</td>\n",
       "      <td>well_1.png</td>\n",
       "    </tr>\n",
       "    <tr>\n",
       "      <td>2</td>\n",
       "      <td>well_2.png</td>\n",
       "    </tr>\n",
       "    <tr>\n",
       "      <td>3</td>\n",
       "      <td>well_3.png</td>\n",
       "    </tr>\n",
       "    <tr>\n",
       "      <td>4</td>\n",
       "      <td>well_4.png</td>\n",
       "    </tr>\n",
       "  </tbody>\n",
       "</table>\n",
       "</div>"
      ],
      "text/plain": [
       "            0\n",
       "0  well_0.png\n",
       "1  well_1.png\n",
       "2  well_2.png\n",
       "3  well_3.png\n",
       "4  well_4.png"
      ]
     },
     "execution_count": 14,
     "metadata": {},
     "output_type": "execute_result"
    }
   ],
   "source": [
    "training_data = pd.read_csv(filename)\n",
    "training_data.head()\n",
    "training_data['well_file']='well_'+training_data['well_id'].astype(str)+'.png'\n",
    "wells=training_data['well_file'].unique()\n",
    "all_wells_df=pd.DataFrame(wells)\n",
    "all_wells_df.head()\n"
   ]
  },
  {
   "cell_type": "code",
   "execution_count": 15,
   "metadata": {},
   "outputs": [
    {
     "data": {
      "text/html": [
       "<div>\n",
       "<style scoped>\n",
       "    .dataframe tbody tr th:only-of-type {\n",
       "        vertical-align: middle;\n",
       "    }\n",
       "\n",
       "    .dataframe tbody tr th {\n",
       "        vertical-align: top;\n",
       "    }\n",
       "\n",
       "    .dataframe thead th {\n",
       "        text-align: right;\n",
       "    }\n",
       "</style>\n",
       "<table border=\"1\" class=\"dataframe\">\n",
       "  <thead>\n",
       "    <tr style=\"text-align: right;\">\n",
       "      <th></th>\n",
       "      <th>unique_id</th>\n",
       "      <th>row_id</th>\n",
       "      <th>well_id</th>\n",
       "      <th>GR</th>\n",
       "    </tr>\n",
       "  </thead>\n",
       "  <tbody>\n",
       "    <tr>\n",
       "      <td>0</td>\n",
       "      <td>CAX_0</td>\n",
       "      <td>0</td>\n",
       "      <td>5000</td>\n",
       "      <td>113.950000</td>\n",
       "    </tr>\n",
       "    <tr>\n",
       "      <td>1</td>\n",
       "      <td>CAX_1</td>\n",
       "      <td>1</td>\n",
       "      <td>5000</td>\n",
       "      <td>120.896397</td>\n",
       "    </tr>\n",
       "    <tr>\n",
       "      <td>2</td>\n",
       "      <td>CAX_2</td>\n",
       "      <td>2</td>\n",
       "      <td>5000</td>\n",
       "      <td>115.342793</td>\n",
       "    </tr>\n",
       "    <tr>\n",
       "      <td>3</td>\n",
       "      <td>CAX_3</td>\n",
       "      <td>3</td>\n",
       "      <td>5000</td>\n",
       "      <td>118.859190</td>\n",
       "    </tr>\n",
       "    <tr>\n",
       "      <td>4</td>\n",
       "      <td>CAX_4</td>\n",
       "      <td>4</td>\n",
       "      <td>5000</td>\n",
       "      <td>127.735587</td>\n",
       "    </tr>\n",
       "  </tbody>\n",
       "</table>\n",
       "</div>"
      ],
      "text/plain": [
       "  unique_id  row_id  well_id          GR\n",
       "0     CAX_0       0     5000  113.950000\n",
       "1     CAX_1       1     5000  120.896397\n",
       "2     CAX_2       2     5000  115.342793\n",
       "3     CAX_3       3     5000  118.859190\n",
       "4     CAX_4       4     5000  127.735587"
      ]
     },
     "execution_count": 15,
     "metadata": {},
     "output_type": "execute_result"
    }
   ],
   "source": [
    "test_df = pd.read_csv(file_test)\n",
    "test_df.head()"
   ]
  },
  {
   "cell_type": "code",
   "execution_count": 16,
   "metadata": {},
   "outputs": [],
   "source": [
    "### Read preds"
   ]
  },
  {
   "cell_type": "code",
   "execution_count": 17,
   "metadata": {},
   "outputs": [],
   "source": [
    "df_crops=pd.read_csv(preds_path/f'{INFERENCE_MODEL}.csv')"
   ]
  },
  {
   "cell_type": "code",
   "execution_count": 18,
   "metadata": {},
   "outputs": [
    {
     "data": {
      "text/html": [
       "<div>\n",
       "<style scoped>\n",
       "    .dataframe tbody tr th:only-of-type {\n",
       "        vertical-align: middle;\n",
       "    }\n",
       "\n",
       "    .dataframe tbody tr th {\n",
       "        vertical-align: top;\n",
       "    }\n",
       "\n",
       "    .dataframe thead th {\n",
       "        text-align: right;\n",
       "    }\n",
       "</style>\n",
       "<table border=\"1\" class=\"dataframe\">\n",
       "  <thead>\n",
       "    <tr style=\"text-align: right;\">\n",
       "      <th></th>\n",
       "      <th>Unnamed: 0</th>\n",
       "      <th>row_id</th>\n",
       "      <th>facies</th>\n",
       "      <th>well_id</th>\n",
       "      <th>crop_idx</th>\n",
       "    </tr>\n",
       "  </thead>\n",
       "  <tbody>\n",
       "    <tr>\n",
       "      <td>0</td>\n",
       "      <td>0</td>\n",
       "      <td>0</td>\n",
       "      <td>2</td>\n",
       "      <td>well_5540</td>\n",
       "      <td>2</td>\n",
       "    </tr>\n",
       "    <tr>\n",
       "      <td>1</td>\n",
       "      <td>1</td>\n",
       "      <td>1</td>\n",
       "      <td>2</td>\n",
       "      <td>well_5540</td>\n",
       "      <td>2</td>\n",
       "    </tr>\n",
       "    <tr>\n",
       "      <td>2</td>\n",
       "      <td>2</td>\n",
       "      <td>2</td>\n",
       "      <td>2</td>\n",
       "      <td>well_5540</td>\n",
       "      <td>2</td>\n",
       "    </tr>\n",
       "    <tr>\n",
       "      <td>3</td>\n",
       "      <td>3</td>\n",
       "      <td>3</td>\n",
       "      <td>2</td>\n",
       "      <td>well_5540</td>\n",
       "      <td>2</td>\n",
       "    </tr>\n",
       "    <tr>\n",
       "      <td>4</td>\n",
       "      <td>4</td>\n",
       "      <td>4</td>\n",
       "      <td>2</td>\n",
       "      <td>well_5540</td>\n",
       "      <td>2</td>\n",
       "    </tr>\n",
       "  </tbody>\n",
       "</table>\n",
       "</div>"
      ],
      "text/plain": [
       "   Unnamed: 0  row_id  facies    well_id  crop_idx\n",
       "0           0       0       2  well_5540         2\n",
       "1           1       1       2  well_5540         2\n",
       "2           2       2       2  well_5540         2\n",
       "3           3       3       2  well_5540         2\n",
       "4           4       4       2  well_5540         2"
      ]
     },
     "execution_count": 18,
     "metadata": {},
     "output_type": "execute_result"
    }
   ],
   "source": [
    "df_crops.head()"
   ]
  },
  {
   "cell_type": "code",
   "execution_count": 19,
   "metadata": {},
   "outputs": [
    {
     "data": {
      "text/plain": [
       "255"
      ]
     },
     "execution_count": 19,
     "metadata": {},
     "output_type": "execute_result"
    }
   ],
   "source": [
    "df_crops.row_id.max()"
   ]
  },
  {
   "cell_type": "code",
   "execution_count": 20,
   "metadata": {},
   "outputs": [],
   "source": [
    "df_crops.drop(columns=['Unnamed: 0'],inplace=True)"
   ]
  },
  {
   "cell_type": "code",
   "execution_count": 21,
   "metadata": {},
   "outputs": [
    {
     "data": {
      "text/plain": [
       "\"\\nFrom 01_04_image_mask_2200_cropping.ipynb\\ndef crop_n(img, crop_start):\\n    #(left, top, right, bottom)\\n    img_width, img_height = img.size\\n    if crop_start<4:\\n        cs = crop_start*(img_height)\\n    elif crop_start==7:\\n        cs = img_width-img_height\\n    else:\\n        cs = int(((crop_start-4)+0.5)*(img_height))\\n    #print(f'w {img_width}, h {img_height}, crop_start: {crop_start}, cs: {cs}')\\n    crop=((cs),0,(cs + img_height), img_height)\\n    #print(crop)\\n    return img.crop(crop)\\n\""
      ]
     },
     "execution_count": 21,
     "metadata": {},
     "output_type": "execute_result"
    }
   ],
   "source": [
    "'''\n",
    "From 01_04_image_mask_2200_cropping.ipynb\n",
    "def crop_n(img, crop_start):\n",
    "    #(left, top, right, bottom)\n",
    "    img_width, img_height = img.size\n",
    "    if crop_start<4:\n",
    "        cs = crop_start*(img_height)\n",
    "    elif crop_start==7:\n",
    "        cs = img_width-img_height\n",
    "    else:\n",
    "        cs = int(((crop_start-4)+0.5)*(img_height))\n",
    "    #print(f'w {img_width}, h {img_height}, crop_start: {crop_start}, cs: {cs}')\n",
    "    crop=((cs),0,(cs + img_height), img_height)\n",
    "    #print(crop)\n",
    "    return img.crop(crop)\n",
    "'''"
   ]
  },
  {
   "cell_type": "code",
   "execution_count": 22,
   "metadata": {},
   "outputs": [
    {
     "data": {
      "text/plain": [
       "\"            \\n            if c_ix==0:\\n                start=0\\n                end = TGT_HEIGHT-int(TGT_HEIGHT*0.2)\\n                start_odd = int(TGT_HEIGHT*0.5)-int(TGT_HEIGHT*0.2)\\n                end_odd = int(TGT_HEIGHT*0.5)+int(TGT_HEIGHT*0.2)\\n            elif c_ix==3:\\n                \\n            print(f'start: {start}, end: {end}')\\n\""
      ]
     },
     "execution_count": 22,
     "metadata": {},
     "output_type": "execute_result"
    }
   ],
   "source": [
    "'''            \n",
    "            if c_ix==0:\n",
    "                start=0\n",
    "                end = TGT_HEIGHT-int(TGT_HEIGHT*0.2)\n",
    "                start_odd = int(TGT_HEIGHT*0.5)-int(TGT_HEIGHT*0.2)\n",
    "                end_odd = int(TGT_HEIGHT*0.5)+int(TGT_HEIGHT*0.2)\n",
    "            elif c_ix==3:\n",
    "                \n",
    "            print(f'start: {start}, end: {end}')\n",
    "'''"
   ]
  },
  {
   "cell_type": "code",
   "execution_count": 23,
   "metadata": {},
   "outputs": [
    {
     "data": {
      "text/plain": [
       "array([                   2,                    5,                    1,                    3,                    4,\n",
       "       -9223372036854775808])"
      ]
     },
     "execution_count": 23,
     "metadata": {},
     "output_type": "execute_result"
    }
   ],
   "source": [
    "df_crops.facies.unique()"
   ]
  },
  {
   "cell_type": "code",
   "execution_count": 24,
   "metadata": {},
   "outputs": [],
   "source": [
    "df_bad_preds=df_crops.loc[df_crops.facies == -9223372036854775808]"
   ]
  },
  {
   "cell_type": "code",
   "execution_count": 25,
   "metadata": {},
   "outputs": [
    {
     "data": {
      "text/html": [
       "<div>\n",
       "<style scoped>\n",
       "    .dataframe tbody tr th:only-of-type {\n",
       "        vertical-align: middle;\n",
       "    }\n",
       "\n",
       "    .dataframe tbody tr th {\n",
       "        vertical-align: top;\n",
       "    }\n",
       "\n",
       "    .dataframe thead th {\n",
       "        text-align: right;\n",
       "    }\n",
       "</style>\n",
       "<table border=\"1\" class=\"dataframe\">\n",
       "  <thead>\n",
       "    <tr style=\"text-align: right;\">\n",
       "      <th></th>\n",
       "      <th>row_id</th>\n",
       "      <th>facies</th>\n",
       "      <th>well_id</th>\n",
       "      <th>crop_idx</th>\n",
       "    </tr>\n",
       "  </thead>\n",
       "  <tbody>\n",
       "    <tr>\n",
       "      <td>2526</td>\n",
       "      <td>222</td>\n",
       "      <td>-9223372036854775808</td>\n",
       "      <td>well_6922</td>\n",
       "      <td>0</td>\n",
       "    </tr>\n",
       "    <tr>\n",
       "      <td>4574</td>\n",
       "      <td>222</td>\n",
       "      <td>-9223372036854775808</td>\n",
       "      <td>well_5607</td>\n",
       "      <td>0</td>\n",
       "    </tr>\n",
       "    <tr>\n",
       "      <td>6110</td>\n",
       "      <td>222</td>\n",
       "      <td>-9223372036854775808</td>\n",
       "      <td>well_5569</td>\n",
       "      <td>0</td>\n",
       "    </tr>\n",
       "    <tr>\n",
       "      <td>8926</td>\n",
       "      <td>222</td>\n",
       "      <td>-9223372036854775808</td>\n",
       "      <td>well_5145</td>\n",
       "      <td>0</td>\n",
       "    </tr>\n",
       "    <tr>\n",
       "      <td>9694</td>\n",
       "      <td>222</td>\n",
       "      <td>-9223372036854775808</td>\n",
       "      <td>well_6905</td>\n",
       "      <td>0</td>\n",
       "    </tr>\n",
       "  </tbody>\n",
       "</table>\n",
       "</div>"
      ],
      "text/plain": [
       "      row_id               facies    well_id  crop_idx\n",
       "2526     222 -9223372036854775808  well_6922         0\n",
       "4574     222 -9223372036854775808  well_5607         0\n",
       "6110     222 -9223372036854775808  well_5569         0\n",
       "8926     222 -9223372036854775808  well_5145         0\n",
       "9694     222 -9223372036854775808  well_6905         0"
      ]
     },
     "execution_count": 25,
     "metadata": {},
     "output_type": "execute_result"
    }
   ],
   "source": [
    "df_bad_preds.head()"
   ]
  },
  {
   "cell_type": "code",
   "execution_count": 26,
   "metadata": {},
   "outputs": [],
   "source": [
    "def missing_elements(L):\n",
    "    start, end = L[0], L[-1]\n",
    "    return sorted(set(range(start, end + 1)).difference(L))"
   ]
  },
  {
   "cell_type": "code",
   "execution_count": 27,
   "metadata": {},
   "outputs": [],
   "source": [
    "def combine_wells(df, wells):\n",
    "    well_frames=[]\n",
    "    start_time = time.time()\n",
    "    for j, well in enumerate(wells):\n",
    "        memoryUse = py.memory_info()[0] / 2. ** 30\n",
    "        if j==0:\n",
    "           print(f'starting memory use: {memoryUse}') \n",
    "        elif memoryUse>86.0:\n",
    "            print(f'killing process at image {j}, memory use: {memoryUse}')\n",
    "            break\n",
    "        if (j %100)==0:\n",
    "            mid_time = time.time()\n",
    "            print(f'well: {well} time: {mid_time-start_time}')\n",
    "            \n",
    "        df_w = df.loc[df['well_id'] == well]\n",
    "        first_frames=[]\n",
    "        for c_idx in range(4):\n",
    "            df_r = df_w.loc[df_w['crop_idx'] == c_idx]\n",
    "            df_r.row_id=df_r.row_id+(TGT_HEIGHT*c_idx)\n",
    "            #print(f'c_idx: {c_idx}, row min: {df_r.row_id.min()}, max: {df_r.row_id.max()}')\n",
    "            first_frames.append(df_r)\n",
    "        df_first=pd.concat(first_frames)\n",
    "        assert len(df_first)==TGT_HEIGHT*4\n",
    "        #print(f'df_first, row min: {df_first.row_id.min()}, max: {df_first.row_id.max()}')\n",
    "        first_facies=df_first.facies.unique().tolist()\n",
    "        \n",
    "        second_frames=[]\n",
    "        for c_idx in range(4,7):\n",
    "            df_r = df_w.loc[df_w['crop_idx'] == c_idx]\n",
    "            df_r.row_id=df_r.row_id+(TGT_HEIGHT*(c_idx-4))+int(TGT_HEIGHT*0.5)\n",
    "            second_frames.append(df_r)\n",
    "            #print(f'c_idx: {c_idx}, row min: {df_r.row_id.min()}, max: {df_r.row_id.max()}')\n",
    "        df_second=pd.concat(second_frames)\n",
    "        assert len(df_second)==TGT_HEIGHT*3\n",
    "        #print(f'df_second, row min: {df_second.row_id.min()}, max: {df_second.row_id.max()}')\n",
    "        second_facies=df_second.facies.unique().tolist()\n",
    "        \n",
    "        df_last = df_w.loc[df_w['crop_idx'] == 7]\n",
    "        df_last.row_id=df_last.row_id+IMAGE_WIDTH-TGT_HEIGHT\n",
    "        assert len(df_last)==TGT_HEIGHT\n",
    "        #print(f'c_idx: 7, row min: {df_last.row_id.min()}, max: {df_last.row_id.max()}')\n",
    "        \n",
    "        #drop last 10% \n",
    "        #print(f'df_first pre drop: {len(df_first)},  row min: {df_first.row_id.min()}, max: {df_first.row_id.max()}')\n",
    "        #print(f'int(IMAGE_WIDTH*0.90): {int(IMAGE_WIDTH*0.90)}, max rows: {df_first.row_id.max()}')\n",
    "        idxs=df_first[df_first['row_id']>int(IMAGE_WIDTH*0.90)].index\n",
    "        df_first.drop(idxs, inplace=True)\n",
    "        #print(f'df_first after drop: {len(df_first)}, idxs: {len(idxs)},  row min: {df_first.row_id.min()}, max: {df_first.row_id.max()}')\n",
    "        \n",
    "        #print(f'df_last pre drop: {len(df_last)},  row min: {df_last.row_id.min()}, max: {df_last.row_id.max()}')\n",
    "        idxs=df_last[df_last['row_id']<=int(IMAGE_WIDTH*0.90)].index\n",
    "        df_last.drop(idxs, inplace=True)\n",
    "        #print(f'df_last after drop: {len(df_last)}, idxs: {len(idxs)},  row min: {df_last.row_id.min()}, max: {df_last.row_id.max()}')\n",
    "        \n",
    "        frames=[df_first, df_last]\n",
    "        df_s=pd.concat(frames)\n",
    "        df_s = df_s.reset_index(drop=True)\n",
    "        dup=df_s[df_s.duplicated(['row_id'])]\n",
    "        #print(f'df_s dup: {dup}')\n",
    "        #print(f'df_s: {len(df_s)}, {df_s.row_id.min()}, max: {df_s.row_id.max()}')\n",
    "        \n",
    "        start=int(TGT_HEIGHT*0.8)\n",
    "        end=int(TGT_HEIGHT*0.2)+TGT_HEIGHT\n",
    "\n",
    "        #replace ends\n",
    "        df_s.reset_index(inplace=True)\n",
    "        for c_idx in range(3):\n",
    "            rs=start+(TGT_HEIGHT*c_idx)\n",
    "            ed=end+(TGT_HEIGHT*c_idx)\n",
    "            #print(f'c_idx: {c_idx}, rs: {rs}, ed: {ed}')\n",
    "            for i in df_s.index:\n",
    "                if (df_s.iloc[i].row_id>start) and (df_s.iloc[i].row_id<ed):\n",
    "                    for b in df_second.index:\n",
    "                        if i == b:\n",
    "                            df_s.at[i, 'facies'] = df_second.at[b, 'facies'] \n",
    "                            df_s.at[i, 'crop_idx'] = df_second.at[b, 'crop_idx'] \n",
    "        u=df_s.facies.unique().tolist()\n",
    "        bad_count=0\n",
    "        f_bad=list(set(u) - set(range(7)))\n",
    "        if len(f_bad)>0:\n",
    "            for f in f_bad:\n",
    "                idxs=df_s[df_s['facies']==f].index\n",
    "                for i in idxs:\n",
    "                    df_s.at[i, 'facies'] = '2'\n",
    "                    bad_count+=1\n",
    "        #print(f'{bad_count} bad facies pred in well: {well}')\n",
    "        \n",
    "        if len(df_s)!=1100:\n",
    "            print(f'rows: {len(df_s)} {df.index}')\n",
    "            m=missing_elements(df_s.index)\n",
    "            print(m)\n",
    "            assert True==False\n",
    "        well_frames.append(df_s)\n",
    "    df_t = pd.concat(well_frames)\n",
    "    end_time = time.time()\n",
    "    print(f'elapsed: {end_time-start_time}')\n",
    "    return df_t"
   ]
  },
  {
   "cell_type": "code",
   "execution_count": null,
   "metadata": {},
   "outputs": [
    {
     "name": "stdout",
     "output_type": "stream",
     "text": [
      "starting memory use: 1.2862930297851562\n",
      "well: well_5540 time: 0.0001862049102783203\n"
     ]
    },
    {
     "name": "stderr",
     "output_type": "stream",
     "text": [
      "/home/walle/miniconda3/envs/fastai-dev/lib/python3.7/site-packages/pandas/core/generic.py:5208: SettingWithCopyWarning: \n",
      "A value is trying to be set on a copy of a slice from a DataFrame.\n",
      "Try using .loc[row_indexer,col_indexer] = value instead\n",
      "\n",
      "See the caveats in the documentation: http://pandas.pydata.org/pandas-docs/stable/user_guide/indexing.html#returning-a-view-versus-a-copy\n",
      "  self[name] = value\n",
      "/home/walle/miniconda3/envs/fastai-dev/lib/python3.7/site-packages/pandas/core/frame.py:4102: SettingWithCopyWarning: \n",
      "A value is trying to be set on a copy of a slice from a DataFrame\n",
      "\n",
      "See the caveats in the documentation: http://pandas.pydata.org/pandas-docs/stable/user_guide/indexing.html#returning-a-view-versus-a-copy\n",
      "  errors=errors,\n"
     ]
    },
    {
     "name": "stdout",
     "output_type": "stream",
     "text": [
      "well: well_6802 time: 132.5225579738617\n",
      "well: well_6000 time: 263.1425287723541\n",
      "well: well_5841 time: 393.7736248970032\n",
      "well: well_6416 time: 527.3672618865967\n",
      "well: well_5489 time: 661.8840916156769\n",
      "well: well_6197 time: 825.2553133964539\n",
      "well: well_6816 time: 1018.9061479568481\n",
      "well: well_6490 time: 1217.506361246109\n",
      "well: well_5236 time: 1412.9937238693237\n",
      "well: well_5994 time: 1606.4418354034424\n",
      "well: well_5660 time: 1800.353830575943\n",
      "well: well_6574 time: 1996.3105218410492\n",
      "well: well_6311 time: 2187.0226180553436\n"
     ]
    }
   ],
   "source": [
    "wells=df_crops.well_id.unique()\n",
    "#wells=wells[:10]\n",
    "df = combine_wells(df_crops, wells)"
   ]
  },
  {
   "cell_type": "code",
   "execution_count": null,
   "metadata": {},
   "outputs": [],
   "source": [
    "df.to_csv(preds_path/f'{INFERENCE_MODEL}_patched.csv')"
   ]
  },
  {
   "cell_type": "code",
   "execution_count": null,
   "metadata": {},
   "outputs": [],
   "source": [
    "df.head(n=500)"
   ]
  },
  {
   "cell_type": "code",
   "execution_count": null,
   "metadata": {},
   "outputs": [],
   "source": [
    "df.facies.unique()"
   ]
  },
  {
   "cell_type": "code",
   "execution_count": null,
   "metadata": {},
   "outputs": [],
   "source": [
    "w=df.loc[df['well_id'] == 'well_5540']\n",
    "ax1 = w.plot.line(x='row_id',\n",
    "                       y='facies',\n",
    "                       c='DarkBlue', figsize=(15,4))\n",
    "#ax1.set_ylim(0,7)"
   ]
  },
  {
   "cell_type": "code",
   "execution_count": null,
   "metadata": {},
   "outputs": [],
   "source": [
    "img_f = 'well_5540_GR.png'\n",
    "p='train_images/mask_fill/test/'\n",
    "print(img_f)\n",
    "img_gr = open_image(data_dir/p/img_f)\n",
    "img_gr.show(figsize=(18,4))"
   ]
  },
  {
   "cell_type": "code",
   "execution_count": null,
   "metadata": {},
   "outputs": [],
   "source": [
    "len(df.well_id.unique())"
   ]
  },
  {
   "cell_type": "code",
   "execution_count": null,
   "metadata": {},
   "outputs": [],
   "source": [
    "len(df)"
   ]
  },
  {
   "cell_type": "code",
   "execution_count": null,
   "metadata": {},
   "outputs": [],
   "source": [
    "2000*1100"
   ]
  },
  {
   "cell_type": "code",
   "execution_count": null,
   "metadata": {},
   "outputs": [],
   "source": []
  }
 ],
 "metadata": {
  "kernelspec": {
   "display_name": "Python 3",
   "language": "python",
   "name": "python3"
  },
  "language_info": {
   "codemirror_mode": {
    "name": "ipython",
    "version": 3
   },
   "file_extension": ".py",
   "mimetype": "text/x-python",
   "name": "python",
   "nbconvert_exporter": "python",
   "pygments_lexer": "ipython3",
   "version": "3.7.4"
  },
  "varInspector": {
   "cols": {
    "lenName": 16,
    "lenType": 16,
    "lenVar": 40
   },
   "kernels_config": {
    "python": {
     "delete_cmd_postfix": "",
     "delete_cmd_prefix": "del ",
     "library": "var_list.py",
     "varRefreshCmd": "print(var_dic_list())"
    },
    "r": {
     "delete_cmd_postfix": ") ",
     "delete_cmd_prefix": "rm(",
     "library": "var_list.r",
     "varRefreshCmd": "cat(var_dic_list()) "
    }
   },
   "types_to_exclude": [
    "module",
    "function",
    "builtin_function_or_method",
    "instance",
    "_Feature"
   ],
   "window_display": false
  }
 },
 "nbformat": 4,
 "nbformat_minor": 1
}
