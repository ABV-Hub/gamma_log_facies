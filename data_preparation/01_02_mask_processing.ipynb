{
 "cells": [
  {
   "cell_type": "markdown",
   "metadata": {},
   "source": [
    "# Image segmentaion with masked facies\n",
    "\n",
    "Squish rectangular images to square"
   ]
  },
  {
   "cell_type": "code",
   "execution_count": 1,
   "metadata": {},
   "outputs": [],
   "source": [
    "%reload_ext autoreload\n",
    "%autoreload 2\n",
    "%matplotlib inline"
   ]
  },
  {
   "cell_type": "code",
   "execution_count": 2,
   "metadata": {
    "_cell_guid": "b1076dfc-b9ad-4769-8c92-a6c4dae69d19",
    "_uuid": "8f2839f25d086af736a60e9eeb907d3b93b6e0e5"
   },
   "outputs": [],
   "source": [
    "import sys\n",
    "from numbers import Integral\n",
    "from random import uniform\n",
    "from PIL import Image as pil_image\n",
    "import fastai\n",
    "from fastai.vision import *\n",
    "from fastai.vision import Image\n",
    "from fastai.vision.transform import _minus_epsilon\n",
    "from fastai.vision.data import SegmentationProcessor\n",
    "from fastai.vision.interpret import SegmentationInterpretation\n",
    "from mask_functions import *\n",
    "from collections import defaultdict\n",
    "import cv2\n",
    "from IPython.display import display \n",
    "import datetime\n",
    "import uuid"
   ]
  },
  {
   "cell_type": "code",
   "execution_count": 3,
   "metadata": {},
   "outputs": [
    {
     "data": {
      "text/plain": [
       "'1.0.60.dev0'"
      ]
     },
     "execution_count": 3,
     "metadata": {},
     "output_type": "execute_result"
    }
   ],
   "source": [
    "fastai.__version__"
   ]
  },
  {
   "cell_type": "code",
   "execution_count": 4,
   "metadata": {},
   "outputs": [],
   "source": [
    "#np.set_printoptions(threshold=sys.maxsize)"
   ]
  },
  {
   "cell_type": "code",
   "execution_count": 5,
   "metadata": {},
   "outputs": [],
   "source": [
    "torch.cuda.set_device(0)"
   ]
  },
  {
   "cell_type": "code",
   "execution_count": 6,
   "metadata": {},
   "outputs": [
    {
     "name": "stdout",
     "output_type": "stream",
     "text": [
      "UID: 704604a6, DATE: 20191215\n"
     ]
    }
   ],
   "source": [
    "DATE = datetime.datetime.today().strftime('%Y%m%d')\n",
    "UID=str(uuid.uuid4())[:8]\n",
    "print(f'UID: {UID}, DATE: {DATE}')    "
   ]
  },
  {
   "cell_type": "code",
   "execution_count": 7,
   "metadata": {},
   "outputs": [],
   "source": [
    "UID='0d3edb45'\n",
    "DATE='20191214'"
   ]
  },
  {
   "cell_type": "code",
   "execution_count": 8,
   "metadata": {},
   "outputs": [],
   "source": [
    "SUBSET_DATA=False\n",
    "SUBSET_LEN=171"
   ]
  },
  {
   "cell_type": "code",
   "execution_count": 9,
   "metadata": {},
   "outputs": [],
   "source": [
    "tgt_height = 256\n",
    "data_dir = Path('data')\n",
    "train_images = data_dir/'train_images'\n",
    "test_img = train_images/'mask_fill/test'\n",
    "\n",
    "train_path = train_images/'mask_fill/train'\n",
    "train_mask = train_path/'masks'\n",
    "train_img = train_path/'images'\n",
    "\n",
    "\n",
    "#subset\n",
    "train_sub_path = train_images/'mask_fill/subset/train'\n",
    "train_sub_mask = train_sub_path/'masks'\n",
    "train_sub_img = train_sub_path/'images'\n",
    "\n",
    "#train_path = train_sub_path\n",
    "#train_mask = train_sub_mask\n",
    "#train_img = train_sub_img\n"
   ]
  },
  {
   "cell_type": "code",
   "execution_count": 10,
   "metadata": {},
   "outputs": [],
   "source": [
    "filename = 'data/CAX_LogFacies_Train_File.csv'"
   ]
  },
  {
   "cell_type": "markdown",
   "metadata": {},
   "source": [
    "#### all data"
   ]
  },
  {
   "cell_type": "code",
   "execution_count": 11,
   "metadata": {},
   "outputs": [],
   "source": [
    "training_data = pd.read_csv(filename)\n",
    "training_data.head()\n",
    "training_data['well_file']='well_'+training_data['well_id'].astype(str)+'.png'\n",
    "wells=training_data['well_file'].unique()\n",
    "all_wells_df=pd.DataFrame(wells)\n",
    "all_wells_df.head()\n",
    "    \n",
    "df_val = all_wells_df.sample(frac=0.2)\n",
    "idx=df_val.index\n",
    "df_trn=all_wells_df[~all_wells_df.index.isin(idx)]\n",
    "assert len(df_val)+len(df_trn)==len(all_wells_df)\n",
    "#df_val.to_csv(train_path/'val_20pct.csv', index=False, header=False)"
   ]
  },
  {
   "cell_type": "code",
   "execution_count": 12,
   "metadata": {},
   "outputs": [
    {
     "data": {
      "text/html": [
       "<div>\n",
       "<style scoped>\n",
       "    .dataframe tbody tr th:only-of-type {\n",
       "        vertical-align: middle;\n",
       "    }\n",
       "\n",
       "    .dataframe tbody tr th {\n",
       "        vertical-align: top;\n",
       "    }\n",
       "\n",
       "    .dataframe thead th {\n",
       "        text-align: right;\n",
       "    }\n",
       "</style>\n",
       "<table border=\"1\" class=\"dataframe\">\n",
       "  <thead>\n",
       "    <tr style=\"text-align: right;\">\n",
       "      <th></th>\n",
       "      <th>0</th>\n",
       "    </tr>\n",
       "  </thead>\n",
       "  <tbody>\n",
       "    <tr>\n",
       "      <td>3916</td>\n",
       "      <td>well_3916.png</td>\n",
       "    </tr>\n",
       "    <tr>\n",
       "      <td>3253</td>\n",
       "      <td>well_3253.png</td>\n",
       "    </tr>\n",
       "    <tr>\n",
       "      <td>1614</td>\n",
       "      <td>well_1614.png</td>\n",
       "    </tr>\n",
       "    <tr>\n",
       "      <td>1069</td>\n",
       "      <td>well_1069.png</td>\n",
       "    </tr>\n",
       "    <tr>\n",
       "      <td>3758</td>\n",
       "      <td>well_3758.png</td>\n",
       "    </tr>\n",
       "  </tbody>\n",
       "</table>\n",
       "</div>"
      ],
      "text/plain": [
       "                  0\n",
       "3916  well_3916.png\n",
       "3253  well_3253.png\n",
       "1614  well_1614.png\n",
       "1069  well_1069.png\n",
       "3758  well_3758.png"
      ]
     },
     "execution_count": 12,
     "metadata": {},
     "output_type": "execute_result"
    }
   ],
   "source": [
    "df_val.tail()"
   ]
  },
  {
   "cell_type": "markdown",
   "metadata": {},
   "source": [
    "#### Subset"
   ]
  },
  {
   "cell_type": "code",
   "execution_count": 13,
   "metadata": {},
   "outputs": [],
   "source": [
    "df_val = pd.read_csv(train_images/'mask_fill/train/val_20pct.csv', names=[\"well_id\"])\n",
    "ids=range(0,SUBSET_LEN)\n",
    "well_names=[]\n",
    "for i in ids:\n",
    "    well_names.append('well_'+str(i)+'.png')\n",
    "df_sub_val=df_val.loc[df_val['well_id'].isin(well_names)]\n",
    "#df_sub_val.to_csv(train_sub_path/'val_sub_20pct.csv', index=False, header=False)"
   ]
  },
  {
   "cell_type": "markdown",
   "metadata": {},
   "source": [
    "### Data"
   ]
  },
  {
   "cell_type": "code",
   "execution_count": 14,
   "metadata": {},
   "outputs": [
    {
     "data": {
      "text/plain": [
       "4000"
      ]
     },
     "execution_count": 14,
     "metadata": {},
     "output_type": "execute_result"
    }
   ],
   "source": [
    "train_img_names = get_image_files(train_img)\n",
    "len(train_img_names)"
   ]
  },
  {
   "cell_type": "code",
   "execution_count": 15,
   "metadata": {},
   "outputs": [
    {
     "data": {
      "text/plain": [
       "[PosixPath('data/train_images/mask_fill/train/images/well_2640.png'),\n",
       " PosixPath('data/train_images/mask_fill/train/images/well_2552.png'),\n",
       " PosixPath('data/train_images/mask_fill/train/images/well_1321.png')]"
      ]
     },
     "execution_count": 15,
     "metadata": {},
     "output_type": "execute_result"
    }
   ],
   "source": [
    "train_img_names[:3]"
   ]
  },
  {
   "cell_type": "code",
   "execution_count": 16,
   "metadata": {},
   "outputs": [],
   "source": [
    "for im in train_img_names:\n",
    "    assert 'crop' not in str(im)"
   ]
  },
  {
   "cell_type": "code",
   "execution_count": 17,
   "metadata": {},
   "outputs": [
    {
     "data": {
      "text/plain": [
       "[PosixPath('data/train_images/mask_fill/train/masks/well_2640.png'),\n",
       " PosixPath('data/train_images/mask_fill/train/masks/well_2552.png'),\n",
       " PosixPath('data/train_images/mask_fill/train/masks/well_1321.png')]"
      ]
     },
     "execution_count": 17,
     "metadata": {},
     "output_type": "execute_result"
    }
   ],
   "source": [
    "train_mask_names = get_image_files(train_mask)\n",
    "train_mask_names[:3]"
   ]
  },
  {
   "cell_type": "code",
   "execution_count": 18,
   "metadata": {},
   "outputs": [],
   "source": [
    "for im in train_mask_names:\n",
    "    assert 'crop' not in str(im)"
   ]
  },
  {
   "cell_type": "markdown",
   "metadata": {},
   "source": [
    "#### Resize\n",
    "\n",
    "If required"
   ]
  },
  {
   "cell_type": "code",
   "execution_count": 19,
   "metadata": {},
   "outputs": [],
   "source": [
    "def resize_to(to_w, to_h, from_w, from_h, im_folder, postfix='_resized'):\n",
    "    w_ratio = to_w/from_w\n",
    "    h_ratio = to_h/from_h\n",
    "\n",
    "    for infile in im_folder:\n",
    "        name=str(infile).split('/')[-1].split('.png')[0]\n",
    "        img = cv2.imread(str(infile), cv2.IMREAD_UNCHANGED) \n",
    "        width = int(img.shape[1] * w_ratio )\n",
    "        height = int(img.shape[0] * h_ratio) \n",
    "        dim = (width, height) \n",
    "        #INTER_AREA introduces extra colours\n",
    "        resized = cv2.resize(img, dim, interpolation = cv2.INTER_NEAREST) \n",
    "        pim = cv2.cvtColor(resized, cv2.COLOR_BGR2RGB)\n",
    "        im_pil = pil_image.fromarray(pim)\n",
    "        im_pil.save(train_mask/f'{name}{postfix}.png')"
   ]
  },
  {
   "cell_type": "code",
   "execution_count": 20,
   "metadata": {},
   "outputs": [],
   "source": [
    "#resize_to(1100, 275, 1528, 390, train_mask, postfix='_resized')"
   ]
  },
  {
   "cell_type": "markdown",
   "metadata": {},
   "source": [
    "### Data QC"
   ]
  },
  {
   "cell_type": "code",
   "execution_count": 21,
   "metadata": {},
   "outputs": [],
   "source": [
    "inames=[]\n",
    "mnames=[]\n",
    "for im in train_img_names:\n",
    "    inames.append(im.name)\n",
    "for im in train_mask_names:\n",
    "    mnames.append(im.name)"
   ]
  },
  {
   "cell_type": "code",
   "execution_count": 22,
   "metadata": {},
   "outputs": [
    {
     "data": {
      "text/plain": [
       "PosixPath('data/train_images/mask_fill/train/images/well_2640.png')"
      ]
     },
     "execution_count": 22,
     "metadata": {},
     "output_type": "execute_result"
    }
   ],
   "source": [
    "train_img_names[0]"
   ]
  },
  {
   "cell_type": "code",
   "execution_count": 23,
   "metadata": {},
   "outputs": [],
   "source": [
    "missing_i_m=set(inames) - set(mnames)"
   ]
  },
  {
   "cell_type": "code",
   "execution_count": 24,
   "metadata": {},
   "outputs": [],
   "source": [
    "missing_m_i= set(mnames)-set(inames) "
   ]
  },
  {
   "cell_type": "code",
   "execution_count": 25,
   "metadata": {},
   "outputs": [],
   "source": [
    "assert len(missing_i_m)==len(missing_m_i)==0"
   ]
  },
  {
   "cell_type": "code",
   "execution_count": 26,
   "metadata": {},
   "outputs": [
    {
     "data": {
      "text/plain": [
       "4000"
      ]
     },
     "execution_count": 26,
     "metadata": {},
     "output_type": "execute_result"
    }
   ],
   "source": [
    "len(inames)"
   ]
  },
  {
   "cell_type": "code",
   "execution_count": 27,
   "metadata": {},
   "outputs": [
    {
     "data": {
      "text/plain": [
       "4000"
      ]
     },
     "execution_count": 27,
     "metadata": {},
     "output_type": "execute_result"
    }
   ],
   "source": [
    "len(mnames)"
   ]
  },
  {
   "cell_type": "code",
   "execution_count": 28,
   "metadata": {},
   "outputs": [],
   "source": [
    "inames.sort()\n",
    "mnames.sort()"
   ]
  },
  {
   "cell_type": "code",
   "execution_count": 29,
   "metadata": {},
   "outputs": [
    {
     "data": {
      "text/plain": [
       "4000"
      ]
     },
     "execution_count": 29,
     "metadata": {},
     "output_type": "execute_result"
    }
   ],
   "source": [
    "len(inames)"
   ]
  },
  {
   "cell_type": "code",
   "execution_count": 30,
   "metadata": {},
   "outputs": [],
   "source": [
    "for im,mm in zip(inames, mnames):\n",
    "    assert im==mm\n",
    "    img=train_img/f'{im}'\n",
    "    mmg=train_mask/f'{mm}'\n",
    "    img_ =pil_image.open(img)\n",
    "    mmg_ =pil_image.open(mmg)\n",
    "    if img_.size != mmg_.size:\n",
    "        print(f'img_.size: {img_.size} != mmg_.size: {mmg_.size}')"
   ]
  },
  {
   "cell_type": "code",
   "execution_count": 31,
   "metadata": {
    "scrolled": false
   },
   "outputs": [
    {
     "name": "stdout",
     "output_type": "stream",
     "text": [
      "data/train_images/mask_fill/train/images/well_1770.png\n"
     ]
    },
    {
     "data": {
      "image/png": "[encoded data removed]",
      "text/plain": [
       "<Figure size 1296x288 with 1 Axes>"
      ]
     },
     "metadata": {
      "needs_background": "light"
     },
     "output_type": "display_data"
    }
   ],
   "source": [
    "img_f = train_img_names[5]\n",
    "print(img_f)\n",
    "img_gr = open_image(img_f)\n",
    "img_gr.show(figsize=(18,4))"
   ]
  },
  {
   "cell_type": "code",
   "execution_count": 32,
   "metadata": {},
   "outputs": [],
   "source": [
    "img_h, img_w=img_gr.size"
   ]
  },
  {
   "cell_type": "code",
   "execution_count": 33,
   "metadata": {},
   "outputs": [
    {
     "data": {
      "text/plain": [
       "1100"
      ]
     },
     "execution_count": 33,
     "metadata": {},
     "output_type": "execute_result"
    }
   ],
   "source": [
    "img_w"
   ]
  },
  {
   "cell_type": "code",
   "execution_count": 34,
   "metadata": {},
   "outputs": [
    {
     "data": {
      "text/plain": [
       "275"
      ]
     },
     "execution_count": 34,
     "metadata": {},
     "output_type": "execute_result"
    }
   ],
   "source": [
    "img_h"
   ]
  },
  {
   "cell_type": "code",
   "execution_count": 35,
   "metadata": {},
   "outputs": [],
   "source": [
    "get_y_fn = lambda x: train_mask/f'{x.stem}{x.suffix}' # converts from image to mask file namez"
   ]
  },
  {
   "cell_type": "code",
   "execution_count": 36,
   "metadata": {},
   "outputs": [
    {
     "data": {
      "image/png": "[encoded data removed]",
      "text/plain": [
       "<Figure size 1296x288 with 1 Axes>"
      ]
     },
     "metadata": {
      "needs_background": "light"
     },
     "output_type": "display_data"
    }
   ],
   "source": [
    "mask = open_mask(get_y_fn(img_f))\n",
    "mask.show(figsize=(18,4), alpha=1)"
   ]
  },
  {
   "cell_type": "code",
   "execution_count": 37,
   "metadata": {},
   "outputs": [
    {
     "data": {
      "text/plain": [
       "(array([ 275, 1100]), tensor([[[5, 5, 5,  ..., 5, 5, 5],\n",
       "          [5, 5, 5,  ..., 5, 5, 5],\n",
       "          [5, 5, 5,  ..., 5, 5, 5],\n",
       "          ...,\n",
       "          [2, 2, 2,  ..., 2, 2, 2],\n",
       "          [2, 2, 2,  ..., 2, 2, 2],\n",
       "          [2, 2, 2,  ..., 2, 2, 2]]]))"
      ]
     },
     "execution_count": 37,
     "metadata": {},
     "output_type": "execute_result"
    }
   ],
   "source": [
    "src_size = np.array(mask.shape[1:])\n",
    "src_size,mask.data"
   ]
  },
  {
   "cell_type": "code",
   "execution_count": 38,
   "metadata": {},
   "outputs": [
    {
     "data": {
      "text/plain": [
       "torch.Size([1, 275, 1100])"
      ]
     },
     "execution_count": 38,
     "metadata": {},
     "output_type": "execute_result"
    }
   ],
   "source": [
    "mask.data.shape"
   ]
  },
  {
   "cell_type": "code",
   "execution_count": 39,
   "metadata": {},
   "outputs": [
    {
     "data": {
      "text/plain": [
       "array([0, 1, 2, 4, 5])"
      ]
     },
     "execution_count": 39,
     "metadata": {},
     "output_type": "execute_result"
    }
   ],
   "source": [
    "np.unique(mask.data.numpy())"
   ]
  },
  {
   "cell_type": "markdown",
   "metadata": {},
   "source": [
    "### Convert masks to n color values only"
   ]
  },
  {
   "cell_type": "code",
   "execution_count": 40,
   "metadata": {},
   "outputs": [],
   "source": [
    "f_u_values=[]\n",
    "def fai_get_all_uniques(images):\n",
    "    for im in images:\n",
    "        mask = open_mask(get_y_fn(im))\n",
    "        f_u_values.extend(np.unique(mask.data.numpy().tolist()))\n",
    "    return f_u_values"
   ]
  },
  {
   "cell_type": "code",
   "execution_count": 41,
   "metadata": {},
   "outputs": [
    {
     "data": {
      "text/plain": [
       "[PosixPath('data/train_images/mask_fill/train/masks/well_2640.png'),\n",
       " PosixPath('data/train_images/mask_fill/train/masks/well_2552.png'),\n",
       " PosixPath('data/train_images/mask_fill/train/masks/well_1321.png'),\n",
       " PosixPath('data/train_images/mask_fill/train/masks/well_1001.png'),\n",
       " PosixPath('data/train_images/mask_fill/train/masks/well_2711.png'),\n",
       " PosixPath('data/train_images/mask_fill/train/masks/well_1770.png'),\n",
       " PosixPath('data/train_images/mask_fill/train/masks/well_2758.png'),\n",
       " PosixPath('data/train_images/mask_fill/train/masks/well_674.png'),\n",
       " PosixPath('data/train_images/mask_fill/train/masks/well_605.png'),\n",
       " PosixPath('data/train_images/mask_fill/train/masks/well_3079.png'),\n",
       " PosixPath('data/train_images/mask_fill/train/masks/well_984.png'),\n",
       " PosixPath('data/train_images/mask_fill/train/masks/well_3031.png'),\n",
       " PosixPath('data/train_images/mask_fill/train/masks/well_1303.png'),\n",
       " PosixPath('data/train_images/mask_fill/train/masks/well_51.png'),\n",
       " PosixPath('data/train_images/mask_fill/train/masks/well_2389.png'),\n",
       " PosixPath('data/train_images/mask_fill/train/masks/well_3176.png'),\n",
       " PosixPath('data/train_images/mask_fill/train/masks/well_3441.png'),\n",
       " PosixPath('data/train_images/mask_fill/train/masks/well_1757.png'),\n",
       " PosixPath('data/train_images/mask_fill/train/masks/well_3834.png'),\n",
       " PosixPath('data/train_images/mask_fill/train/masks/well_774.png'),\n",
       " PosixPath('data/train_images/mask_fill/train/masks/well_437.png'),\n",
       " PosixPath('data/train_images/mask_fill/train/masks/well_579.png'),\n",
       " PosixPath('data/train_images/mask_fill/train/masks/well_1680.png'),\n",
       " PosixPath('data/train_images/mask_fill/train/masks/well_645.png'),\n",
       " PosixPath('data/train_images/mask_fill/train/masks/well_703.png'),\n",
       " PosixPath('data/train_images/mask_fill/train/masks/well_3541.png'),\n",
       " PosixPath('data/train_images/mask_fill/train/masks/well_375.png'),\n",
       " PosixPath('data/train_images/mask_fill/train/masks/well_2289.png'),\n",
       " PosixPath('data/train_images/mask_fill/train/masks/well_2698.png'),\n",
       " PosixPath('data/train_images/mask_fill/train/masks/well_3300.png'),\n",
       " PosixPath('data/train_images/mask_fill/train/masks/well_3802.png'),\n",
       " PosixPath('data/train_images/mask_fill/train/masks/well_2500.png'),\n",
       " PosixPath('data/train_images/mask_fill/train/masks/well_3274.png'),\n",
       " PosixPath('data/train_images/mask_fill/train/masks/well_2087.png'),\n",
       " PosixPath('data/train_images/mask_fill/train/masks/well_2326.png'),\n",
       " PosixPath('data/train_images/mask_fill/train/masks/well_2321.png'),\n",
       " PosixPath('data/train_images/mask_fill/train/masks/well_3804.png'),\n",
       " PosixPath('data/train_images/mask_fill/train/masks/well_1343.png'),\n",
       " PosixPath('data/train_images/mask_fill/train/masks/well_748.png'),\n",
       " PosixPath('data/train_images/mask_fill/train/masks/well_2413.png'),\n",
       " PosixPath('data/train_images/mask_fill/train/masks/well_3873.png'),\n",
       " PosixPath('data/train_images/mask_fill/train/masks/well_2457.png'),\n",
       " PosixPath('data/train_images/mask_fill/train/masks/well_2143.png'),\n",
       " PosixPath('data/train_images/mask_fill/train/masks/well_1787.png'),\n",
       " PosixPath('data/train_images/mask_fill/train/masks/well_949.png'),\n",
       " PosixPath('data/train_images/mask_fill/train/masks/well_2010.png'),\n",
       " PosixPath('data/train_images/mask_fill/train/masks/well_1289.png'),\n",
       " PosixPath('data/train_images/mask_fill/train/masks/well_3125.png'),\n",
       " PosixPath('data/train_images/mask_fill/train/masks/well_1049.png'),\n",
       " PosixPath('data/train_images/mask_fill/train/masks/well_1206.png'),\n",
       " PosixPath('data/train_images/mask_fill/train/masks/well_2089.png'),\n",
       " PosixPath('data/train_images/mask_fill/train/masks/well_2189.png'),\n",
       " PosixPath('data/train_images/mask_fill/train/masks/well_2481.png'),\n",
       " PosixPath('data/train_images/mask_fill/train/masks/well_668.png'),\n",
       " PosixPath('data/train_images/mask_fill/train/masks/well_1175.png'),\n",
       " PosixPath('data/train_images/mask_fill/train/masks/well_3908.png'),\n",
       " PosixPath('data/train_images/mask_fill/train/masks/well_1261.png'),\n",
       " PosixPath('data/train_images/mask_fill/train/masks/well_1489.png'),\n",
       " PosixPath('data/train_images/mask_fill/train/masks/well_191.png'),\n",
       " PosixPath('data/train_images/mask_fill/train/masks/well_1738.png'),\n",
       " PosixPath('data/train_images/mask_fill/train/masks/well_1622.png'),\n",
       " PosixPath('data/train_images/mask_fill/train/masks/well_2784.png'),\n",
       " PosixPath('data/train_images/mask_fill/train/masks/well_2834.png'),\n",
       " PosixPath('data/train_images/mask_fill/train/masks/well_3676.png'),\n",
       " PosixPath('data/train_images/mask_fill/train/masks/well_3515.png'),\n",
       " PosixPath('data/train_images/mask_fill/train/masks/well_560.png'),\n",
       " PosixPath('data/train_images/mask_fill/train/masks/well_1125.png'),\n",
       " PosixPath('data/train_images/mask_fill/train/masks/well_2179.png'),\n",
       " PosixPath('data/train_images/mask_fill/train/masks/well_2985.png'),\n",
       " PosixPath('data/train_images/mask_fill/train/masks/well_872.png'),\n",
       " PosixPath('data/train_images/mask_fill/train/masks/well_625.png'),\n",
       " PosixPath('data/train_images/mask_fill/train/masks/well_3479.png'),\n",
       " PosixPath('data/train_images/mask_fill/train/masks/well_487.png'),\n",
       " PosixPath('data/train_images/mask_fill/train/masks/well_369.png'),\n",
       " PosixPath('data/train_images/mask_fill/train/masks/well_808.png'),\n",
       " PosixPath('data/train_images/mask_fill/train/masks/well_2643.png'),\n",
       " PosixPath('data/train_images/mask_fill/train/masks/well_2832.png'),\n",
       " PosixPath('data/train_images/mask_fill/train/masks/well_2012.png'),\n",
       " PosixPath('data/train_images/mask_fill/train/masks/well_2971.png'),\n",
       " PosixPath('data/train_images/mask_fill/train/masks/well_3982.png'),\n",
       " PosixPath('data/train_images/mask_fill/train/masks/well_789.png'),\n",
       " PosixPath('data/train_images/mask_fill/train/masks/well_501.png'),\n",
       " PosixPath('data/train_images/mask_fill/train/masks/well_1841.png'),\n",
       " PosixPath('data/train_images/mask_fill/train/masks/well_2210.png'),\n",
       " PosixPath('data/train_images/mask_fill/train/masks/well_3881.png'),\n",
       " PosixPath('data/train_images/mask_fill/train/masks/well_566.png'),\n",
       " PosixPath('data/train_images/mask_fill/train/masks/well_427.png'),\n",
       " PosixPath('data/train_images/mask_fill/train/masks/well_1605.png'),\n",
       " PosixPath('data/train_images/mask_fill/train/masks/well_73.png'),\n",
       " PosixPath('data/train_images/mask_fill/train/masks/well_2173.png'),\n",
       " PosixPath('data/train_images/mask_fill/train/masks/well_2568.png'),\n",
       " PosixPath('data/train_images/mask_fill/train/masks/well_2028.png'),\n",
       " PosixPath('data/train_images/mask_fill/train/masks/well_2339.png'),\n",
       " PosixPath('data/train_images/mask_fill/train/masks/well_305.png'),\n",
       " PosixPath('data/train_images/mask_fill/train/masks/well_142.png'),\n",
       " PosixPath('data/train_images/mask_fill/train/masks/well_2312.png'),\n",
       " PosixPath('data/train_images/mask_fill/train/masks/well_1773.png'),\n",
       " PosixPath('data/train_images/mask_fill/train/masks/well_2288.png'),\n",
       " PosixPath('data/train_images/mask_fill/train/masks/well_996.png'),\n",
       " PosixPath('data/train_images/mask_fill/train/masks/well_77.png'),\n",
       " PosixPath('data/train_images/mask_fill/train/masks/well_1846.png'),\n",
       " PosixPath('data/train_images/mask_fill/train/masks/well_3795.png'),\n",
       " PosixPath('data/train_images/mask_fill/train/masks/well_3565.png'),\n",
       " PosixPath('data/train_images/mask_fill/train/masks/well_3941.png'),\n",
       " PosixPath('data/train_images/mask_fill/train/masks/well_2046.png'),\n",
       " PosixPath('data/train_images/mask_fill/train/masks/well_3186.png'),\n",
       " PosixPath('data/train_images/mask_fill/train/masks/well_2555.png'),\n",
       " PosixPath('data/train_images/mask_fill/train/masks/well_461.png'),\n",
       " PosixPath('data/train_images/mask_fill/train/masks/well_1013.png'),\n",
       " PosixPath('data/train_images/mask_fill/train/masks/well_1943.png'),\n",
       " PosixPath('data/train_images/mask_fill/train/masks/well_1538.png'),\n",
       " PosixPath('data/train_images/mask_fill/train/masks/well_1162.png'),\n",
       " PosixPath('data/train_images/mask_fill/train/masks/well_2174.png'),\n",
       " PosixPath('data/train_images/mask_fill/train/masks/well_621.png'),\n",
       " PosixPath('data/train_images/mask_fill/train/masks/well_2819.png'),\n",
       " PosixPath('data/train_images/mask_fill/train/masks/well_1252.png'),\n",
       " PosixPath('data/train_images/mask_fill/train/masks/well_3256.png'),\n",
       " PosixPath('data/train_images/mask_fill/train/masks/well_1319.png'),\n",
       " PosixPath('data/train_images/mask_fill/train/masks/well_249.png'),\n",
       " PosixPath('data/train_images/mask_fill/train/masks/well_1687.png'),\n",
       " PosixPath('data/train_images/mask_fill/train/masks/well_3952.png'),\n",
       " PosixPath('data/train_images/mask_fill/train/masks/well_356.png'),\n",
       " PosixPath('data/train_images/mask_fill/train/masks/well_2840.png'),\n",
       " PosixPath('data/train_images/mask_fill/train/masks/well_3034.png'),\n",
       " PosixPath('data/train_images/mask_fill/train/masks/well_3993.png'),\n",
       " PosixPath('data/train_images/mask_fill/train/masks/well_1677.png'),\n",
       " PosixPath('data/train_images/mask_fill/train/masks/well_1235.png'),\n",
       " PosixPath('data/train_images/mask_fill/train/masks/well_1877.png'),\n",
       " PosixPath('data/train_images/mask_fill/train/masks/well_2745.png'),\n",
       " PosixPath('data/train_images/mask_fill/train/masks/well_2313.png'),\n",
       " PosixPath('data/train_images/mask_fill/train/masks/well_3199.png'),\n",
       " PosixPath('data/train_images/mask_fill/train/masks/well_3944.png'),\n",
       " PosixPath('data/train_images/mask_fill/train/masks/well_813.png'),\n",
       " PosixPath('data/train_images/mask_fill/train/masks/well_1233.png'),\n",
       " PosixPath('data/train_images/mask_fill/train/masks/well_1868.png'),\n",
       " PosixPath('data/train_images/mask_fill/train/masks/well_459.png'),\n",
       " PosixPath('data/train_images/mask_fill/train/masks/well_580.png'),\n",
       " PosixPath('data/train_images/mask_fill/train/masks/well_3338.png'),\n",
       " PosixPath('data/train_images/mask_fill/train/masks/well_1376.png'),\n",
       " PosixPath('data/train_images/mask_fill/train/masks/well_850.png'),\n",
       " PosixPath('data/train_images/mask_fill/train/masks/well_588.png'),\n",
       " PosixPath('data/train_images/mask_fill/train/masks/well_3283.png'),\n",
       " PosixPath('data/train_images/mask_fill/train/masks/well_3508.png'),\n",
       " PosixPath('data/train_images/mask_fill/train/masks/well_2274.png'),\n",
       " PosixPath('data/train_images/mask_fill/train/masks/well_1264.png'),\n",
       " PosixPath('data/train_images/mask_fill/train/masks/well_1688.png'),\n",
       " PosixPath('data/train_images/mask_fill/train/masks/well_1060.png'),\n",
       " PosixPath('data/train_images/mask_fill/train/masks/well_2684.png'),\n",
       " PosixPath('data/train_images/mask_fill/train/masks/well_2352.png'),\n",
       " PosixPath('data/train_images/mask_fill/train/masks/well_1090.png'),\n",
       " PosixPath('data/train_images/mask_fill/train/masks/well_3638.png'),\n",
       " PosixPath('data/train_images/mask_fill/train/masks/well_242.png'),\n",
       " PosixPath('data/train_images/mask_fill/train/masks/well_107.png'),\n",
       " PosixPath('data/train_images/mask_fill/train/masks/well_631.png'),\n",
       " PosixPath('data/train_images/mask_fill/train/masks/well_15.png'),\n",
       " PosixPath('data/train_images/mask_fill/train/masks/well_3400.png'),\n",
       " PosixPath('data/train_images/mask_fill/train/masks/well_1570.png'),\n",
       " PosixPath('data/train_images/mask_fill/train/masks/well_3331.png'),\n",
       " PosixPath('data/train_images/mask_fill/train/masks/well_2911.png'),\n",
       " PosixPath('data/train_images/mask_fill/train/masks/well_2880.png'),\n",
       " PosixPath('data/train_images/mask_fill/train/masks/well_476.png'),\n",
       " PosixPath('data/train_images/mask_fill/train/masks/well_2923.png'),\n",
       " PosixPath('data/train_images/mask_fill/train/masks/well_2300.png'),\n",
       " PosixPath('data/train_images/mask_fill/train/masks/well_3653.png'),\n",
       " PosixPath('data/train_images/mask_fill/train/masks/well_1829.png'),\n",
       " PosixPath('data/train_images/mask_fill/train/masks/well_2636.png'),\n",
       " PosixPath('data/train_images/mask_fill/train/masks/well_320.png'),\n",
       " PosixPath('data/train_images/mask_fill/train/masks/well_2474.png'),\n",
       " PosixPath('data/train_images/mask_fill/train/masks/well_2959.png'),\n",
       " PosixPath('data/train_images/mask_fill/train/masks/well_342.png'),\n",
       " PosixPath('data/train_images/mask_fill/train/masks/well_968.png'),\n",
       " PosixPath('data/train_images/mask_fill/train/masks/well_534.png'),\n",
       " PosixPath('data/train_images/mask_fill/train/masks/well_3220.png'),\n",
       " PosixPath('data/train_images/mask_fill/train/masks/well_1422.png'),\n",
       " PosixPath('data/train_images/mask_fill/train/masks/well_498.png'),\n",
       " PosixPath('data/train_images/mask_fill/train/masks/well_1815.png'),\n",
       " PosixPath('data/train_images/mask_fill/train/masks/well_76.png'),\n",
       " PosixPath('data/train_images/mask_fill/train/masks/well_3358.png'),\n",
       " PosixPath('data/train_images/mask_fill/train/masks/well_3688.png'),\n",
       " PosixPath('data/train_images/mask_fill/train/masks/well_1337.png'),\n",
       " PosixPath('data/train_images/mask_fill/train/masks/well_500.png'),\n",
       " PosixPath('data/train_images/mask_fill/train/masks/well_3137.png'),\n",
       " PosixPath('data/train_images/mask_fill/train/masks/well_349.png'),\n",
       " PosixPath('data/train_images/mask_fill/train/masks/well_3988.png'),\n",
       " PosixPath('data/train_images/mask_fill/train/masks/well_3749.png'),\n",
       " PosixPath('data/train_images/mask_fill/train/masks/well_3218.png'),\n",
       " PosixPath('data/train_images/mask_fill/train/masks/well_3476.png'),\n",
       " PosixPath('data/train_images/mask_fill/train/masks/well_1002.png'),\n",
       " PosixPath('data/train_images/mask_fill/train/masks/well_3161.png'),\n",
       " PosixPath('data/train_images/mask_fill/train/masks/well_2130.png'),\n",
       " PosixPath('data/train_images/mask_fill/train/masks/well_2760.png'),\n",
       " PosixPath('data/train_images/mask_fill/train/masks/well_2533.png'),\n",
       " PosixPath('data/train_images/mask_fill/train/masks/well_225.png'),\n",
       " PosixPath('data/train_images/mask_fill/train/masks/well_1850.png'),\n",
       " PosixPath('data/train_images/mask_fill/train/masks/well_1411.png'),\n",
       " PosixPath('data/train_images/mask_fill/train/masks/well_1749.png'),\n",
       " PosixPath('data/train_images/mask_fill/train/masks/well_3770.png'),\n",
       " PosixPath('data/train_images/mask_fill/train/masks/well_807.png'),\n",
       " PosixPath('data/train_images/mask_fill/train/masks/well_1539.png'),\n",
       " PosixPath('data/train_images/mask_fill/train/masks/well_2717.png'),\n",
       " PosixPath('data/train_images/mask_fill/train/masks/well_3121.png'),\n",
       " PosixPath('data/train_images/mask_fill/train/masks/well_2488.png'),\n",
       " PosixPath('data/train_images/mask_fill/train/masks/well_2335.png'),\n",
       " PosixPath('data/train_images/mask_fill/train/masks/well_74.png'),\n",
       " PosixPath('data/train_images/mask_fill/train/masks/well_2731.png'),\n",
       " PosixPath('data/train_images/mask_fill/train/masks/well_809.png'),\n",
       " PosixPath('data/train_images/mask_fill/train/masks/well_3278.png'),\n",
       " PosixPath('data/train_images/mask_fill/train/masks/well_3230.png'),\n",
       " PosixPath('data/train_images/mask_fill/train/masks/well_2682.png'),\n",
       " PosixPath('data/train_images/mask_fill/train/masks/well_3425.png'),\n",
       " PosixPath('data/train_images/mask_fill/train/masks/well_203.png'),\n",
       " PosixPath('data/train_images/mask_fill/train/masks/well_3439.png'),\n",
       " PosixPath('data/train_images/mask_fill/train/masks/well_3239.png'),\n",
       " PosixPath('data/train_images/mask_fill/train/masks/well_389.png'),\n",
       " PosixPath('data/train_images/mask_fill/train/masks/well_460.png'),\n",
       " PosixPath('data/train_images/mask_fill/train/masks/well_3909.png'),\n",
       " PosixPath('data/train_images/mask_fill/train/masks/well_725.png'),\n",
       " PosixPath('data/train_images/mask_fill/train/masks/well_3055.png'),\n",
       " PosixPath('data/train_images/mask_fill/train/masks/well_2097.png'),\n",
       " PosixPath('data/train_images/mask_fill/train/masks/well_445.png'),\n",
       " PosixPath('data/train_images/mask_fill/train/masks/well_3637.png'),\n",
       " PosixPath('data/train_images/mask_fill/train/masks/well_336.png'),\n",
       " PosixPath('data/train_images/mask_fill/train/masks/well_1414.png'),\n",
       " PosixPath('data/train_images/mask_fill/train/masks/well_3355.png'),\n",
       " PosixPath('data/train_images/mask_fill/train/masks/well_3970.png'),\n",
       " PosixPath('data/train_images/mask_fill/train/masks/well_72.png'),\n",
       " PosixPath('data/train_images/mask_fill/train/masks/well_1469.png'),\n",
       " PosixPath('data/train_images/mask_fill/train/masks/well_2586.png'),\n",
       " PosixPath('data/train_images/mask_fill/train/masks/well_930.png'),\n",
       " PosixPath('data/train_images/mask_fill/train/masks/well_3365.png'),\n",
       " PosixPath('data/train_images/mask_fill/train/masks/well_298.png'),\n",
       " PosixPath('data/train_images/mask_fill/train/masks/well_1891.png'),\n",
       " PosixPath('data/train_images/mask_fill/train/masks/well_303.png'),\n",
       " PosixPath('data/train_images/mask_fill/train/masks/well_1573.png'),\n",
       " PosixPath('data/train_images/mask_fill/train/masks/well_2417.png'),\n",
       " PosixPath('data/train_images/mask_fill/train/masks/well_3715.png'),\n",
       " PosixPath('data/train_images/mask_fill/train/masks/well_2919.png'),\n",
       " PosixPath('data/train_images/mask_fill/train/masks/well_3763.png'),\n",
       " PosixPath('data/train_images/mask_fill/train/masks/well_1251.png'),\n",
       " PosixPath('data/train_images/mask_fill/train/masks/well_3934.png'),\n",
       " PosixPath('data/train_images/mask_fill/train/masks/well_113.png'),\n",
       " PosixPath('data/train_images/mask_fill/train/masks/well_1000.png'),\n",
       " PosixPath('data/train_images/mask_fill/train/masks/well_2107.png'),\n",
       " PosixPath('data/train_images/mask_fill/train/masks/well_2807.png'),\n",
       " PosixPath('data/train_images/mask_fill/train/masks/well_181.png'),\n",
       " PosixPath('data/train_images/mask_fill/train/masks/well_3447.png'),\n",
       " PosixPath('data/train_images/mask_fill/train/masks/well_1774.png'),\n",
       " PosixPath('data/train_images/mask_fill/train/masks/well_3931.png'),\n",
       " PosixPath('data/train_images/mask_fill/train/masks/well_3180.png'),\n",
       " PosixPath('data/train_images/mask_fill/train/masks/well_1784.png'),\n",
       " PosixPath('data/train_images/mask_fill/train/masks/well_162.png'),\n",
       " PosixPath('data/train_images/mask_fill/train/masks/well_2992.png'),\n",
       " PosixPath('data/train_images/mask_fill/train/masks/well_959.png'),\n",
       " PosixPath('data/train_images/mask_fill/train/masks/well_507.png'),\n",
       " PosixPath('data/train_images/mask_fill/train/masks/well_3442.png'),\n",
       " PosixPath('data/train_images/mask_fill/train/masks/well_2251.png'),\n",
       " PosixPath('data/train_images/mask_fill/train/masks/well_1335.png'),\n",
       " PosixPath('data/train_images/mask_fill/train/masks/well_2204.png'),\n",
       " PosixPath('data/train_images/mask_fill/train/masks/well_2768.png'),\n",
       " PosixPath('data/train_images/mask_fill/train/masks/well_2730.png'),\n",
       " PosixPath('data/train_images/mask_fill/train/masks/well_2392.png'),\n",
       " PosixPath('data/train_images/mask_fill/train/masks/well_2279.png'),\n",
       " PosixPath('data/train_images/mask_fill/train/masks/well_423.png'),\n",
       " PosixPath('data/train_images/mask_fill/train/masks/well_3459.png'),\n",
       " PosixPath('data/train_images/mask_fill/train/masks/well_3174.png'),\n",
       " PosixPath('data/train_images/mask_fill/train/masks/well_360.png'),\n",
       " PosixPath('data/train_images/mask_fill/train/masks/well_992.png'),\n",
       " PosixPath('data/train_images/mask_fill/train/masks/well_2328.png'),\n",
       " PosixPath('data/train_images/mask_fill/train/masks/well_3157.png'),\n",
       " PosixPath('data/train_images/mask_fill/train/masks/well_2217.png'),\n",
       " PosixPath('data/train_images/mask_fill/train/masks/well_2393.png'),\n",
       " PosixPath('data/train_images/mask_fill/train/masks/well_720.png'),\n",
       " PosixPath('data/train_images/mask_fill/train/masks/well_3894.png'),\n",
       " PosixPath('data/train_images/mask_fill/train/masks/well_2182.png'),\n",
       " PosixPath('data/train_images/mask_fill/train/masks/well_2779.png'),\n",
       " PosixPath('data/train_images/mask_fill/train/masks/well_2487.png'),\n",
       " PosixPath('data/train_images/mask_fill/train/masks/well_428.png'),\n",
       " PosixPath('data/train_images/mask_fill/train/masks/well_1925.png'),\n",
       " PosixPath('data/train_images/mask_fill/train/masks/well_2014.png'),\n",
       " PosixPath('data/train_images/mask_fill/train/masks/well_2178.png'),\n",
       " PosixPath('data/train_images/mask_fill/train/masks/well_3557.png'),\n",
       " PosixPath('data/train_images/mask_fill/train/masks/well_1203.png'),\n",
       " PosixPath('data/train_images/mask_fill/train/masks/well_2646.png'),\n",
       " PosixPath('data/train_images/mask_fill/train/masks/well_3114.png'),\n",
       " PosixPath('data/train_images/mask_fill/train/masks/well_497.png'),\n",
       " PosixPath('data/train_images/mask_fill/train/masks/well_3744.png'),\n",
       " PosixPath('data/train_images/mask_fill/train/masks/well_3466.png'),\n",
       " PosixPath('data/train_images/mask_fill/train/masks/well_2377.png'),\n",
       " PosixPath('data/train_images/mask_fill/train/masks/well_1771.png'),\n",
       " PosixPath('data/train_images/mask_fill/train/masks/well_2269.png'),\n",
       " PosixPath('data/train_images/mask_fill/train/masks/well_3122.png'),\n",
       " PosixPath('data/train_images/mask_fill/train/masks/well_3411.png'),\n",
       " PosixPath('data/train_images/mask_fill/train/masks/well_659.png'),\n",
       " PosixPath('data/train_images/mask_fill/train/masks/well_2299.png'),\n",
       " PosixPath('data/train_images/mask_fill/train/masks/well_2019.png'),\n",
       " PosixPath('data/train_images/mask_fill/train/masks/well_963.png'),\n",
       " PosixPath('data/train_images/mask_fill/train/masks/well_2705.png'),\n",
       " PosixPath('data/train_images/mask_fill/train/masks/well_2704.png'),\n",
       " PosixPath('data/train_images/mask_fill/train/masks/well_3398.png'),\n",
       " PosixPath('data/train_images/mask_fill/train/masks/well_1012.png'),\n",
       " PosixPath('data/train_images/mask_fill/train/masks/well_619.png'),\n",
       " PosixPath('data/train_images/mask_fill/train/masks/well_0.png'),\n",
       " PosixPath('data/train_images/mask_fill/train/masks/well_1185.png'),\n",
       " PosixPath('data/train_images/mask_fill/train/masks/well_2804.png'),\n",
       " PosixPath('data/train_images/mask_fill/train/masks/well_45.png'),\n",
       " PosixPath('data/train_images/mask_fill/train/masks/well_3538.png'),\n",
       " PosixPath('data/train_images/mask_fill/train/masks/well_455.png'),\n",
       " PosixPath('data/train_images/mask_fill/train/masks/well_117.png'),\n",
       " PosixPath('data/train_images/mask_fill/train/masks/well_679.png'),\n",
       " PosixPath('data/train_images/mask_fill/train/masks/well_934.png'),\n",
       " PosixPath('data/train_images/mask_fill/train/masks/well_1737.png'),\n",
       " PosixPath('data/train_images/mask_fill/train/masks/well_913.png'),\n",
       " PosixPath('data/train_images/mask_fill/train/masks/well_2983.png'),\n",
       " PosixPath('data/train_images/mask_fill/train/masks/well_2802.png'),\n",
       " PosixPath('data/train_images/mask_fill/train/masks/well_3056.png'),\n",
       " PosixPath('data/train_images/mask_fill/train/masks/well_365.png'),\n",
       " PosixPath('data/train_images/mask_fill/train/masks/well_1340.png'),\n",
       " PosixPath('data/train_images/mask_fill/train/masks/well_1342.png'),\n",
       " PosixPath('data/train_images/mask_fill/train/masks/well_799.png'),\n",
       " PosixPath('data/train_images/mask_fill/train/masks/well_866.png'),\n",
       " PosixPath('data/train_images/mask_fill/train/masks/well_1568.png'),\n",
       " PosixPath('data/train_images/mask_fill/train/masks/well_3351.png'),\n",
       " PosixPath('data/train_images/mask_fill/train/masks/well_3452.png'),\n",
       " PosixPath('data/train_images/mask_fill/train/masks/well_3775.png'),\n",
       " PosixPath('data/train_images/mask_fill/train/masks/well_1221.png'),\n",
       " PosixPath('data/train_images/mask_fill/train/masks/well_3678.png'),\n",
       " PosixPath('data/train_images/mask_fill/train/masks/well_935.png'),\n",
       " PosixPath('data/train_images/mask_fill/train/masks/well_259.png'),\n",
       " PosixPath('data/train_images/mask_fill/train/masks/well_3626.png'),\n",
       " PosixPath('data/train_images/mask_fill/train/masks/well_543.png'),\n",
       " PosixPath('data/train_images/mask_fill/train/masks/well_2599.png'),\n",
       " PosixPath('data/train_images/mask_fill/train/masks/well_1085.png'),\n",
       " PosixPath('data/train_images/mask_fill/train/masks/well_2796.png'),\n",
       " PosixPath('data/train_images/mask_fill/train/masks/well_3146.png'),\n",
       " PosixPath('data/train_images/mask_fill/train/masks/well_2720.png'),\n",
       " PosixPath('data/train_images/mask_fill/train/masks/well_3860.png'),\n",
       " PosixPath('data/train_images/mask_fill/train/masks/well_1662.png'),\n",
       " PosixPath('data/train_images/mask_fill/train/masks/well_3848.png'),\n",
       " PosixPath('data/train_images/mask_fill/train/masks/well_1930.png'),\n",
       " PosixPath('data/train_images/mask_fill/train/masks/well_481.png'),\n",
       " PosixPath('data/train_images/mask_fill/train/masks/well_3531.png'),\n",
       " PosixPath('data/train_images/mask_fill/train/masks/well_1005.png'),\n",
       " PosixPath('data/train_images/mask_fill/train/masks/well_3689.png'),\n",
       " PosixPath('data/train_images/mask_fill/train/masks/well_2004.png'),\n",
       " PosixPath('data/train_images/mask_fill/train/masks/well_94.png'),\n",
       " PosixPath('data/train_images/mask_fill/train/masks/well_1257.png'),\n",
       " PosixPath('data/train_images/mask_fill/train/masks/well_2473.png'),\n",
       " PosixPath('data/train_images/mask_fill/train/masks/well_1792.png'),\n",
       " PosixPath('data/train_images/mask_fill/train/masks/well_697.png'),\n",
       " PosixPath('data/train_images/mask_fill/train/masks/well_2541.png'),\n",
       " PosixPath('data/train_images/mask_fill/train/masks/well_1427.png'),\n",
       " PosixPath('data/train_images/mask_fill/train/masks/well_1811.png'),\n",
       " PosixPath('data/train_images/mask_fill/train/masks/well_1826.png'),\n",
       " PosixPath('data/train_images/mask_fill/train/masks/well_2092.png'),\n",
       " PosixPath('data/train_images/mask_fill/train/masks/well_3263.png'),\n",
       " PosixPath('data/train_images/mask_fill/train/masks/well_1381.png'),\n",
       " PosixPath('data/train_images/mask_fill/train/masks/well_2996.png'),\n",
       " PosixPath('data/train_images/mask_fill/train/masks/well_890.png'),\n",
       " PosixPath('data/train_images/mask_fill/train/masks/well_1267.png'),\n",
       " PosixPath('data/train_images/mask_fill/train/masks/well_1195.png'),\n",
       " PosixPath('data/train_images/mask_fill/train/masks/well_2901.png'),\n",
       " PosixPath('data/train_images/mask_fill/train/masks/well_390.png'),\n",
       " PosixPath('data/train_images/mask_fill/train/masks/well_719.png'),\n",
       " PosixPath('data/train_images/mask_fill/train/masks/well_3063.png'),\n",
       " PosixPath('data/train_images/mask_fill/train/masks/well_2826.png'),\n",
       " PosixPath('data/train_images/mask_fill/train/masks/well_2199.png'),\n",
       " PosixPath('data/train_images/mask_fill/train/masks/well_159.png'),\n",
       " PosixPath('data/train_images/mask_fill/train/masks/well_3242.png'),\n",
       " PosixPath('data/train_images/mask_fill/train/masks/well_3383.png'),\n",
       " PosixPath('data/train_images/mask_fill/train/masks/well_3815.png'),\n",
       " PosixPath('data/train_images/mask_fill/train/masks/well_1051.png'),\n",
       " PosixPath('data/train_images/mask_fill/train/masks/well_1352.png'),\n",
       " PosixPath('data/train_images/mask_fill/train/masks/well_2811.png'),\n",
       " PosixPath('data/train_images/mask_fill/train/masks/well_3270.png'),\n",
       " PosixPath('data/train_images/mask_fill/train/masks/well_2623.png'),\n",
       " PosixPath('data/train_images/mask_fill/train/masks/well_2600.png'),\n",
       " PosixPath('data/train_images/mask_fill/train/masks/well_3889.png'),\n",
       " PosixPath('data/train_images/mask_fill/train/masks/well_1440.png'),\n",
       " PosixPath('data/train_images/mask_fill/train/masks/well_3181.png'),\n",
       " PosixPath('data/train_images/mask_fill/train/masks/well_2676.png'),\n",
       " PosixPath('data/train_images/mask_fill/train/masks/well_3875.png'),\n",
       " PosixPath('data/train_images/mask_fill/train/masks/well_564.png'),\n",
       " PosixPath('data/train_images/mask_fill/train/masks/well_2029.png'),\n",
       " PosixPath('data/train_images/mask_fill/train/masks/well_3077.png'),\n",
       " PosixPath('data/train_images/mask_fill/train/masks/well_2044.png'),\n",
       " PosixPath('data/train_images/mask_fill/train/masks/well_3333.png'),\n",
       " PosixPath('data/train_images/mask_fill/train/masks/well_3306.png'),\n",
       " PosixPath('data/train_images/mask_fill/train/masks/well_3266.png'),\n",
       " PosixPath('data/train_images/mask_fill/train/masks/well_3660.png'),\n",
       " PosixPath('data/train_images/mask_fill/train/masks/well_3530.png'),\n",
       " PosixPath('data/train_images/mask_fill/train/masks/well_1690.png'),\n",
       " PosixPath('data/train_images/mask_fill/train/masks/well_646.png'),\n",
       " PosixPath('data/train_images/mask_fill/train/masks/well_2384.png'),\n",
       " PosixPath('data/train_images/mask_fill/train/masks/well_541.png'),\n",
       " PosixPath('data/train_images/mask_fill/train/masks/well_1809.png'),\n",
       " PosixPath('data/train_images/mask_fill/train/masks/well_2551.png'),\n",
       " PosixPath('data/train_images/mask_fill/train/masks/well_1898.png'),\n",
       " PosixPath('data/train_images/mask_fill/train/masks/well_2909.png'),\n",
       " PosixPath('data/train_images/mask_fill/train/masks/well_1610.png'),\n",
       " PosixPath('data/train_images/mask_fill/train/masks/well_2051.png'),\n",
       " PosixPath('data/train_images/mask_fill/train/masks/well_981.png'),\n",
       " PosixPath('data/train_images/mask_fill/train/masks/well_2341.png'),\n",
       " PosixPath('data/train_images/mask_fill/train/masks/well_2910.png'),\n",
       " PosixPath('data/train_images/mask_fill/train/masks/well_1100.png'),\n",
       " PosixPath('data/train_images/mask_fill/train/masks/well_2002.png'),\n",
       " PosixPath('data/train_images/mask_fill/train/masks/well_616.png'),\n",
       " PosixPath('data/train_images/mask_fill/train/masks/well_3107.png'),\n",
       " PosixPath('data/train_images/mask_fill/train/masks/well_1326.png'),\n",
       " PosixPath('data/train_images/mask_fill/train/masks/well_1220.png'),\n",
       " PosixPath('data/train_images/mask_fill/train/masks/well_1268.png'),\n",
       " PosixPath('data/train_images/mask_fill/train/masks/well_3556.png'),\n",
       " PosixPath('data/train_images/mask_fill/train/masks/well_3105.png'),\n",
       " PosixPath('data/train_images/mask_fill/train/masks/well_2595.png'),\n",
       " PosixPath('data/train_images/mask_fill/train/masks/well_2000.png'),\n",
       " PosixPath('data/train_images/mask_fill/train/masks/well_263.png'),\n",
       " PosixPath('data/train_images/mask_fill/train/masks/well_2616.png'),\n",
       " PosixPath('data/train_images/mask_fill/train/masks/well_2798.png'),\n",
       " PosixPath('data/train_images/mask_fill/train/masks/well_2015.png'),\n",
       " PosixPath('data/train_images/mask_fill/train/masks/well_1669.png'),\n",
       " PosixPath('data/train_images/mask_fill/train/masks/well_144.png'),\n",
       " PosixPath('data/train_images/mask_fill/train/masks/well_1140.png'),\n",
       " PosixPath('data/train_images/mask_fill/train/masks/well_1551.png'),\n",
       " PosixPath('data/train_images/mask_fill/train/masks/well_3159.png'),\n",
       " PosixPath('data/train_images/mask_fill/train/masks/well_764.png'),\n",
       " PosixPath('data/train_images/mask_fill/train/masks/well_2165.png'),\n",
       " PosixPath('data/train_images/mask_fill/train/masks/well_188.png'),\n",
       " PosixPath('data/train_images/mask_fill/train/masks/well_2192.png'),\n",
       " PosixPath('data/train_images/mask_fill/train/masks/well_3234.png'),\n",
       " PosixPath('data/train_images/mask_fill/train/masks/well_3066.png'),\n",
       " PosixPath('data/train_images/mask_fill/train/masks/well_2257.png'),\n",
       " PosixPath('data/train_images/mask_fill/train/masks/well_3015.png'),\n",
       " PosixPath('data/train_images/mask_fill/train/masks/well_664.png'),\n",
       " PosixPath('data/train_images/mask_fill/train/masks/well_299.png'),\n",
       " PosixPath('data/train_images/mask_fill/train/masks/well_3645.png'),\n",
       " PosixPath('data/train_images/mask_fill/train/masks/well_2466.png'),\n",
       " PosixPath('data/train_images/mask_fill/train/masks/well_2974.png'),\n",
       " PosixPath('data/train_images/mask_fill/train/masks/well_1966.png'),\n",
       " PosixPath('data/train_images/mask_fill/train/masks/well_3232.png'),\n",
       " PosixPath('data/train_images/mask_fill/train/masks/well_883.png'),\n",
       " PosixPath('data/train_images/mask_fill/train/masks/well_1575.png'),\n",
       " PosixPath('data/train_images/mask_fill/train/masks/well_244.png'),\n",
       " PosixPath('data/train_images/mask_fill/train/masks/well_2138.png'),\n",
       " PosixPath('data/train_images/mask_fill/train/masks/well_3796.png'),\n",
       " PosixPath('data/train_images/mask_fill/train/masks/well_2433.png'),\n",
       " PosixPath('data/train_images/mask_fill/train/masks/well_2931.png'),\n",
       " PosixPath('data/train_images/mask_fill/train/masks/well_709.png'),\n",
       " PosixPath('data/train_images/mask_fill/train/masks/well_675.png'),\n",
       " PosixPath('data/train_images/mask_fill/train/masks/well_2546.png'),\n",
       " PosixPath('data/train_images/mask_fill/train/masks/well_1615.png'),\n",
       " PosixPath('data/train_images/mask_fill/train/masks/well_519.png'),\n",
       " PosixPath('data/train_images/mask_fill/train/masks/well_1652.png'),\n",
       " PosixPath('data/train_images/mask_fill/train/masks/well_2424.png'),\n",
       " PosixPath('data/train_images/mask_fill/train/masks/well_3927.png'),\n",
       " PosixPath('data/train_images/mask_fill/train/masks/well_3057.png'),\n",
       " PosixPath('data/train_images/mask_fill/train/masks/well_977.png'),\n",
       " PosixPath('data/train_images/mask_fill/train/masks/well_838.png'),\n",
       " PosixPath('data/train_images/mask_fill/train/masks/well_2362.png'),\n",
       " PosixPath('data/train_images/mask_fill/train/masks/well_849.png'),\n",
       " PosixPath('data/train_images/mask_fill/train/masks/well_3690.png'),\n",
       " PosixPath('data/train_images/mask_fill/train/masks/well_3008.png'),\n",
       " PosixPath('data/train_images/mask_fill/train/masks/well_1408.png'),\n",
       " PosixPath('data/train_images/mask_fill/train/masks/well_207.png'),\n",
       " PosixPath('data/train_images/mask_fill/train/masks/well_2370.png'),\n",
       " PosixPath('data/train_images/mask_fill/train/masks/well_1873.png'),\n",
       " PosixPath('data/train_images/mask_fill/train/masks/well_2839.png'),\n",
       " PosixPath('data/train_images/mask_fill/train/masks/well_214.png'),\n",
       " PosixPath('data/train_images/mask_fill/train/masks/well_266.png'),\n",
       " PosixPath('data/train_images/mask_fill/train/masks/well_200.png'),\n",
       " PosixPath('data/train_images/mask_fill/train/masks/well_958.png'),\n",
       " PosixPath('data/train_images/mask_fill/train/masks/well_395.png'),\n",
       " PosixPath('data/train_images/mask_fill/train/masks/well_379.png'),\n",
       " PosixPath('data/train_images/mask_fill/train/masks/well_3155.png'),\n",
       " PosixPath('data/train_images/mask_fill/train/masks/well_1579.png'),\n",
       " PosixPath('data/train_images/mask_fill/train/masks/well_3212.png'),\n",
       " PosixPath('data/train_images/mask_fill/train/masks/well_1828.png'),\n",
       " PosixPath('data/train_images/mask_fill/train/masks/well_274.png'),\n",
       " PosixPath('data/train_images/mask_fill/train/masks/well_937.png'),\n",
       " PosixPath('data/train_images/mask_fill/train/masks/well_1236.png'),\n",
       " PosixPath('data/train_images/mask_fill/train/masks/well_1725.png'),\n",
       " PosixPath('data/train_images/mask_fill/train/masks/well_3823.png'),\n",
       " PosixPath('data/train_images/mask_fill/train/masks/well_3124.png'),\n",
       " PosixPath('data/train_images/mask_fill/train/masks/well_2943.png'),\n",
       " PosixPath('data/train_images/mask_fill/train/masks/well_2453.png'),\n",
       " PosixPath('data/train_images/mask_fill/train/masks/well_1761.png'),\n",
       " PosixPath('data/train_images/mask_fill/train/masks/well_1499.png'),\n",
       " PosixPath('data/train_images/mask_fill/train/masks/well_286.png'),\n",
       " PosixPath('data/train_images/mask_fill/train/masks/well_233.png'),\n",
       " PosixPath('data/train_images/mask_fill/train/masks/well_2163.png'),\n",
       " PosixPath('data/train_images/mask_fill/train/masks/well_3308.png'),\n",
       " PosixPath('data/train_images/mask_fill/train/masks/well_3252.png'),\n",
       " PosixPath('data/train_images/mask_fill/train/masks/well_289.png'),\n",
       " PosixPath('data/train_images/mask_fill/train/masks/well_721.png'),\n",
       " PosixPath('data/train_images/mask_fill/train/masks/well_43.png'),\n",
       " PosixPath('data/train_images/mask_fill/train/masks/well_84.png'),\n",
       " PosixPath('data/train_images/mask_fill/train/masks/well_3829.png'),\n",
       " PosixPath('data/train_images/mask_fill/train/masks/well_734.png'),\n",
       " PosixPath('data/train_images/mask_fill/train/masks/well_3027.png'),\n",
       " PosixPath('data/train_images/mask_fill/train/masks/well_746.png'),\n",
       " PosixPath('data/train_images/mask_fill/train/masks/well_1931.png'),\n",
       " PosixPath('data/train_images/mask_fill/train/masks/well_3401.png'),\n",
       " PosixPath('data/train_images/mask_fill/train/masks/well_2508.png'),\n",
       " PosixPath('data/train_images/mask_fill/train/masks/well_903.png'),\n",
       " PosixPath('data/train_images/mask_fill/train/masks/well_1797.png'),\n",
       " PosixPath('data/train_images/mask_fill/train/masks/well_2310.png'),\n",
       " PosixPath('data/train_images/mask_fill/train/masks/well_114.png'),\n",
       " PosixPath('data/train_images/mask_fill/train/masks/well_1654.png'),\n",
       " PosixPath('data/train_images/mask_fill/train/masks/well_715.png'),\n",
       " PosixPath('data/train_images/mask_fill/train/masks/well_490.png'),\n",
       " PosixPath('data/train_images/mask_fill/train/masks/well_371.png'),\n",
       " PosixPath('data/train_images/mask_fill/train/masks/well_1424.png'),\n",
       " PosixPath('data/train_images/mask_fill/train/masks/well_1554.png'),\n",
       " PosixPath('data/train_images/mask_fill/train/masks/well_2403.png'),\n",
       " PosixPath('data/train_images/mask_fill/train/masks/well_3687.png'),\n",
       " PosixPath('data/train_images/mask_fill/train/masks/well_568.png'),\n",
       " PosixPath('data/train_images/mask_fill/train/masks/well_1475.png'),\n",
       " PosixPath('data/train_images/mask_fill/train/masks/well_1360.png'),\n",
       " PosixPath('data/train_images/mask_fill/train/masks/well_642.png'),\n",
       " PosixPath('data/train_images/mask_fill/train/masks/well_677.png'),\n",
       " PosixPath('data/train_images/mask_fill/train/masks/well_3570.png'),\n",
       " PosixPath('data/train_images/mask_fill/train/masks/well_3292.png'),\n",
       " PosixPath('data/train_images/mask_fill/train/masks/well_1742.png'),\n",
       " PosixPath('data/train_images/mask_fill/train/masks/well_512.png'),\n",
       " PosixPath('data/train_images/mask_fill/train/masks/well_1528.png'),\n",
       " PosixPath('data/train_images/mask_fill/train/masks/well_2353.png'),\n",
       " PosixPath('data/train_images/mask_fill/train/masks/well_2556.png'),\n",
       " PosixPath('data/train_images/mask_fill/train/masks/well_3781.png'),\n",
       " PosixPath('data/train_images/mask_fill/train/masks/well_620.png'),\n",
       " PosixPath('data/train_images/mask_fill/train/masks/well_2132.png'),\n",
       " PosixPath('data/train_images/mask_fill/train/masks/well_2036.png'),\n",
       " PosixPath('data/train_images/mask_fill/train/masks/well_2575.png'),\n",
       " PosixPath('data/train_images/mask_fill/train/masks/well_2696.png'),\n",
       " PosixPath('data/train_images/mask_fill/train/masks/well_2844.png'),\n",
       " PosixPath('data/train_images/mask_fill/train/masks/well_2762.png'),\n",
       " PosixPath('data/train_images/mask_fill/train/masks/well_3916.png'),\n",
       " PosixPath('data/train_images/mask_fill/train/masks/well_2942.png'),\n",
       " PosixPath('data/train_images/mask_fill/train/masks/well_1111.png'),\n",
       " PosixPath('data/train_images/mask_fill/train/masks/well_3839.png'),\n",
       " PosixPath('data/train_images/mask_fill/train/masks/well_3104.png'),\n",
       " PosixPath('data/train_images/mask_fill/train/masks/well_2242.png'),\n",
       " PosixPath('data/train_images/mask_fill/train/masks/well_1034.png'),\n",
       " PosixPath('data/train_images/mask_fill/train/masks/well_582.png'),\n",
       " PosixPath('data/train_images/mask_fill/train/masks/well_2694.png'),\n",
       " PosixPath('data/train_images/mask_fill/train/masks/well_1959.png'),\n",
       " PosixPath('data/train_images/mask_fill/train/masks/well_3006.png'),\n",
       " PosixPath('data/train_images/mask_fill/train/masks/well_3876.png'),\n",
       " PosixPath('data/train_images/mask_fill/train/masks/well_2388.png'),\n",
       " PosixPath('data/train_images/mask_fill/train/masks/well_350.png'),\n",
       " PosixPath('data/train_images/mask_fill/train/masks/well_57.png'),\n",
       " PosixPath('data/train_images/mask_fill/train/masks/well_1648.png'),\n",
       " PosixPath('data/train_images/mask_fill/train/masks/well_2034.png'),\n",
       " PosixPath('data/train_images/mask_fill/train/masks/well_945.png'),\n",
       " PosixPath('data/train_images/mask_fill/train/masks/well_2921.png'),\n",
       " PosixPath('data/train_images/mask_fill/train/masks/well_1117.png'),\n",
       " PosixPath('data/train_images/mask_fill/train/masks/well_1542.png'),\n",
       " PosixPath('data/train_images/mask_fill/train/masks/well_309.png'),\n",
       " PosixPath('data/train_images/mask_fill/train/masks/well_1169.png'),\n",
       " PosixPath('data/train_images/mask_fill/train/masks/well_189.png'),\n",
       " PosixPath('data/train_images/mask_fill/train/masks/well_474.png'),\n",
       " PosixPath('data/train_images/mask_fill/train/masks/well_333.png'),\n",
       " PosixPath('data/train_images/mask_fill/train/masks/well_327.png'),\n",
       " PosixPath('data/train_images/mask_fill/train/masks/well_1821.png'),\n",
       " PosixPath('data/train_images/mask_fill/train/masks/well_1580.png'),\n",
       " PosixPath('data/train_images/mask_fill/train/masks/well_3821.png'),\n",
       " PosixPath('data/train_images/mask_fill/train/masks/well_2398.png'),\n",
       " PosixPath('data/train_images/mask_fill/train/masks/well_3443.png'),\n",
       " PosixPath('data/train_images/mask_fill/train/masks/well_2701.png'),\n",
       " PosixPath('data/train_images/mask_fill/train/masks/well_2172.png'),\n",
       " PosixPath('data/train_images/mask_fill/train/masks/well_3140.png'),\n",
       " PosixPath('data/train_images/mask_fill/train/masks/well_33.png'),\n",
       " PosixPath('data/train_images/mask_fill/train/masks/well_355.png'),\n",
       " PosixPath('data/train_images/mask_fill/train/masks/well_258.png'),\n",
       " PosixPath('data/train_images/mask_fill/train/masks/well_3432.png'),\n",
       " PosixPath('data/train_images/mask_fill/train/masks/well_321.png'),\n",
       " PosixPath('data/train_images/mask_fill/train/masks/well_737.png'),\n",
       " PosixPath('data/train_images/mask_fill/train/masks/well_3011.png'),\n",
       " PosixPath('data/train_images/mask_fill/train/masks/well_1022.png'),\n",
       " PosixPath('data/train_images/mask_fill/train/masks/well_1379.png'),\n",
       " PosixPath('data/train_images/mask_fill/train/masks/well_2057.png'),\n",
       " PosixPath('data/train_images/mask_fill/train/masks/well_2490.png'),\n",
       " PosixPath('data/train_images/mask_fill/train/masks/well_3340.png'),\n",
       " PosixPath('data/train_images/mask_fill/train/masks/well_833.png'),\n",
       " PosixPath('data/train_images/mask_fill/train/masks/well_3766.png'),\n",
       " PosixPath('data/train_images/mask_fill/train/masks/well_1476.png'),\n",
       " PosixPath('data/train_images/mask_fill/train/masks/well_2642.png'),\n",
       " PosixPath('data/train_images/mask_fill/train/masks/well_1104.png'),\n",
       " PosixPath('data/train_images/mask_fill/train/masks/well_649.png'),\n",
       " PosixPath('data/train_images/mask_fill/train/masks/well_2545.png'),\n",
       " PosixPath('data/train_images/mask_fill/train/masks/well_1785.png'),\n",
       " PosixPath('data/train_images/mask_fill/train/masks/well_2896.png'),\n",
       " PosixPath('data/train_images/mask_fill/train/masks/well_2767.png'),\n",
       " PosixPath('data/train_images/mask_fill/train/masks/well_2721.png'),\n",
       " PosixPath('data/train_images/mask_fill/train/masks/well_3182.png'),\n",
       " PosixPath('data/train_images/mask_fill/train/masks/well_3478.png'),\n",
       " PosixPath('data/train_images/mask_fill/train/masks/well_1325.png'),\n",
       " PosixPath('data/train_images/mask_fill/train/masks/well_2746.png'),\n",
       " PosixPath('data/train_images/mask_fill/train/masks/well_475.png'),\n",
       " PosixPath('data/train_images/mask_fill/train/masks/well_1949.png'),\n",
       " PosixPath('data/train_images/mask_fill/train/masks/well_821.png'),\n",
       " PosixPath('data/train_images/mask_fill/train/masks/well_3395.png'),\n",
       " PosixPath('data/train_images/mask_fill/train/masks/well_815.png'),\n",
       " PosixPath('data/train_images/mask_fill/train/masks/well_1529.png'),\n",
       " PosixPath('data/train_images/mask_fill/train/masks/well_535.png'),\n",
       " PosixPath('data/train_images/mask_fill/train/masks/well_2007.png'),\n",
       " PosixPath('data/train_images/mask_fill/train/masks/well_3786.png'),\n",
       " PosixPath('data/train_images/mask_fill/train/masks/well_1450.png'),\n",
       " PosixPath('data/train_images/mask_fill/train/masks/well_2430.png'),\n",
       " PosixPath('data/train_images/mask_fill/train/masks/well_3495.png'),\n",
       " PosixPath('data/train_images/mask_fill/train/masks/well_1506.png'),\n",
       " PosixPath('data/train_images/mask_fill/train/masks/well_1386.png'),\n",
       " PosixPath('data/train_images/mask_fill/train/masks/well_2588.png'),\n",
       " PosixPath('data/train_images/mask_fill/train/masks/well_364.png'),\n",
       " PosixPath('data/train_images/mask_fill/train/masks/well_1484.png'),\n",
       " PosixPath('data/train_images/mask_fill/train/masks/well_2719.png'),\n",
       " PosixPath('data/train_images/mask_fill/train/masks/well_898.png'),\n",
       " PosixPath('data/train_images/mask_fill/train/masks/well_2835.png'),\n",
       " PosixPath('data/train_images/mask_fill/train/masks/well_641.png'),\n",
       " PosixPath('data/train_images/mask_fill/train/masks/well_578.png'),\n",
       " PosixPath('data/train_images/mask_fill/train/masks/well_2925.png'),\n",
       " PosixPath('data/train_images/mask_fill/train/masks/well_1250.png'),\n",
       " PosixPath('data/train_images/mask_fill/train/masks/well_2224.png'),\n",
       " PosixPath('data/train_images/mask_fill/train/masks/well_3580.png'),\n",
       " PosixPath('data/train_images/mask_fill/train/masks/well_1541.png'),\n",
       " PosixPath('data/train_images/mask_fill/train/masks/well_1037.png'),\n",
       " PosixPath('data/train_images/mask_fill/train/masks/well_1728.png'),\n",
       " PosixPath('data/train_images/mask_fill/train/masks/well_3435.png'),\n",
       " PosixPath('data/train_images/mask_fill/train/masks/well_1912.png'),\n",
       " PosixPath('data/train_images/mask_fill/train/masks/well_3528.png'),\n",
       " PosixPath('data/train_images/mask_fill/train/masks/well_3835.png'),\n",
       " PosixPath('data/train_images/mask_fill/train/masks/well_2118.png'),\n",
       " PosixPath('data/train_images/mask_fill/train/masks/well_3424.png'),\n",
       " PosixPath('data/train_images/mask_fill/train/masks/well_2429.png'),\n",
       " PosixPath('data/train_images/mask_fill/train/masks/well_401.png'),\n",
       " PosixPath('data/train_images/mask_fill/train/masks/well_2882.png'),\n",
       " PosixPath('data/train_images/mask_fill/train/masks/well_489.png'),\n",
       " PosixPath('data/train_images/mask_fill/train/masks/well_3044.png'),\n",
       " PosixPath('data/train_images/mask_fill/train/masks/well_3973.png'),\n",
       " PosixPath('data/train_images/mask_fill/train/masks/well_129.png'),\n",
       " PosixPath('data/train_images/mask_fill/train/masks/well_3741.png'),\n",
       " PosixPath('data/train_images/mask_fill/train/masks/well_825.png'),\n",
       " PosixPath('data/train_images/mask_fill/train/masks/well_1256.png'),\n",
       " PosixPath('data/train_images/mask_fill/train/masks/well_1574.png'),\n",
       " PosixPath('data/train_images/mask_fill/train/masks/well_3569.png'),\n",
       " PosixPath('data/train_images/mask_fill/train/masks/well_585.png'),\n",
       " PosixPath('data/train_images/mask_fill/train/masks/well_3082.png'),\n",
       " PosixPath('data/train_images/mask_fill/train/masks/well_758.png'),\n",
       " PosixPath('data/train_images/mask_fill/train/masks/well_3752.png'),\n",
       " PosixPath('data/train_images/mask_fill/train/masks/well_2209.png'),\n",
       " PosixPath('data/train_images/mask_fill/train/masks/well_1420.png'),\n",
       " PosixPath('data/train_images/mask_fill/train/masks/well_997.png'),\n",
       " PosixPath('data/train_images/mask_fill/train/masks/well_2801.png'),\n",
       " PosixPath('data/train_images/mask_fill/train/masks/well_2408.png'),\n",
       " PosixPath('data/train_images/mask_fill/train/masks/well_270.png'),\n",
       " PosixPath('data/train_images/mask_fill/train/masks/well_1230.png'),\n",
       " PosixPath('data/train_images/mask_fill/train/masks/well_2954.png'),\n",
       " PosixPath('data/train_images/mask_fill/train/masks/well_3704.png'),\n",
       " PosixPath('data/train_images/mask_fill/train/masks/well_1061.png'),\n",
       " PosixPath('data/train_images/mask_fill/train/masks/well_1840.png'),\n",
       " PosixPath('data/train_images/mask_fill/train/masks/well_2659.png'),\n",
       " PosixPath('data/train_images/mask_fill/train/masks/well_1505.png'),\n",
       " PosixPath('data/train_images/mask_fill/train/masks/well_1084.png'),\n",
       " PosixPath('data/train_images/mask_fill/train/masks/well_2497.png'),\n",
       " PosixPath('data/train_images/mask_fill/train/masks/well_577.png'),\n",
       " PosixPath('data/train_images/mask_fill/train/masks/well_2690.png'),\n",
       " PosixPath('data/train_images/mask_fill/train/masks/well_3664.png'),\n",
       " PosixPath('data/train_images/mask_fill/train/masks/well_948.png'),\n",
       " PosixPath('data/train_images/mask_fill/train/masks/well_3641.png'),\n",
       " PosixPath('data/train_images/mask_fill/train/masks/well_2757.png'),\n",
       " PosixPath('data/train_images/mask_fill/train/masks/well_50.png'),\n",
       " PosixPath('data/train_images/mask_fill/train/masks/well_2472.png'),\n",
       " PosixPath('data/train_images/mask_fill/train/masks/well_2188.png'),\n",
       " PosixPath('data/train_images/mask_fill/train/masks/well_1657.png'),\n",
       " PosixPath('data/train_images/mask_fill/train/masks/well_2437.png'),\n",
       " PosixPath('data/train_images/mask_fill/train/masks/well_472.png'),\n",
       " PosixPath('data/train_images/mask_fill/train/masks/well_2857.png'),\n",
       " PosixPath('data/train_images/mask_fill/train/masks/well_614.png'),\n",
       " PosixPath('data/train_images/mask_fill/train/masks/well_3739.png'),\n",
       " PosixPath('data/train_images/mask_fill/train/masks/well_3498.png'),\n",
       " PosixPath('data/train_images/mask_fill/train/masks/well_148.png'),\n",
       " PosixPath('data/train_images/mask_fill/train/masks/well_1409.png'),\n",
       " PosixPath('data/train_images/mask_fill/train/masks/well_453.png'),\n",
       " PosixPath('data/train_images/mask_fill/train/masks/well_2126.png'),\n",
       " PosixPath('data/train_images/mask_fill/train/masks/well_1896.png'),\n",
       " PosixPath('data/train_images/mask_fill/train/masks/well_410.png'),\n",
       " PosixPath('data/train_images/mask_fill/train/masks/well_2478.png'),\n",
       " PosixPath('data/train_images/mask_fill/train/masks/well_3865.png'),\n",
       " PosixPath('data/train_images/mask_fill/train/masks/well_85.png'),\n",
       " PosixPath('data/train_images/mask_fill/train/masks/well_1632.png'),\n",
       " PosixPath('data/train_images/mask_fill/train/masks/well_328.png'),\n",
       " PosixPath('data/train_images/mask_fill/train/masks/well_2147.png'),\n",
       " PosixPath('data/train_images/mask_fill/train/masks/well_3885.png'),\n",
       " PosixPath('data/train_images/mask_fill/train/masks/well_2415.png'),\n",
       " PosixPath('data/train_images/mask_fill/train/masks/well_661.png'),\n",
       " PosixPath('data/train_images/mask_fill/train/masks/well_301.png'),\n",
       " PosixPath('data/train_images/mask_fill/train/masks/well_2330.png'),\n",
       " PosixPath('data/train_images/mask_fill/train/masks/well_3276.png'),\n",
       " PosixPath('data/train_images/mask_fill/train/masks/well_2946.png'),\n",
       " PosixPath('data/train_images/mask_fill/train/masks/well_2064.png'),\n",
       " PosixPath('data/train_images/mask_fill/train/masks/well_3827.png'),\n",
       " PosixPath('data/train_images/mask_fill/train/masks/well_1280.png'),\n",
       " PosixPath('data/train_images/mask_fill/train/masks/well_3106.png'),\n",
       " PosixPath('data/train_images/mask_fill/train/masks/well_2645.png'),\n",
       " PosixPath('data/train_images/mask_fill/train/masks/well_131.png'),\n",
       " PosixPath('data/train_images/mask_fill/train/masks/well_2936.png'),\n",
       " PosixPath('data/train_images/mask_fill/train/masks/well_3706.png'),\n",
       " PosixPath('data/train_images/mask_fill/train/masks/well_1062.png'),\n",
       " PosixPath('data/train_images/mask_fill/train/masks/well_1620.png'),\n",
       " PosixPath('data/train_images/mask_fill/train/masks/well_824.png'),\n",
       " PosixPath('data/train_images/mask_fill/train/masks/well_1812.png'),\n",
       " PosixPath('data/train_images/mask_fill/train/masks/well_277.png'),\n",
       " PosixPath('data/train_images/mask_fill/train/masks/well_2683.png'),\n",
       " PosixPath('data/train_images/mask_fill/train/masks/well_3665.png'),\n",
       " PosixPath('data/train_images/mask_fill/train/masks/well_3919.png'),\n",
       " PosixPath('data/train_images/mask_fill/train/masks/well_3738.png'),\n",
       " PosixPath('data/train_images/mask_fill/train/masks/well_2298.png'),\n",
       " PosixPath('data/train_images/mask_fill/train/masks/well_134.png'),\n",
       " PosixPath('data/train_images/mask_fill/train/masks/well_2109.png'),\n",
       " PosixPath('data/train_images/mask_fill/train/masks/well_3844.png'),\n",
       " PosixPath('data/train_images/mask_fill/train/masks/well_447.png'),\n",
       " PosixPath('data/train_images/mask_fill/train/masks/well_1763.png'),\n",
       " PosixPath('data/train_images/mask_fill/train/masks/well_2613.png'),\n",
       " PosixPath('data/train_images/mask_fill/train/masks/well_1732.png'),\n",
       " PosixPath('data/train_images/mask_fill/train/masks/well_2367.png'),\n",
       " PosixPath('data/train_images/mask_fill/train/masks/well_2973.png'),\n",
       " PosixPath('data/train_images/mask_fill/train/masks/well_2548.png'),\n",
       " PosixPath('data/train_images/mask_fill/train/masks/well_1833.png'),\n",
       " PosixPath('data/train_images/mask_fill/train/masks/well_1593.png'),\n",
       " PosixPath('data/train_images/mask_fill/train/masks/well_1937.png'),\n",
       " PosixPath('data/train_images/mask_fill/train/masks/well_3907.png'),\n",
       " PosixPath('data/train_images/mask_fill/train/masks/well_1163.png'),\n",
       " PosixPath('data/train_images/mask_fill/train/masks/well_3047.png'),\n",
       " PosixPath('data/train_images/mask_fill/train/masks/well_3945.png'),\n",
       " PosixPath('data/train_images/mask_fill/train/masks/well_710.png'),\n",
       " PosixPath('data/train_images/mask_fill/train/masks/well_1430.png'),\n",
       " PosixPath('data/train_images/mask_fill/train/masks/well_1801.png'),\n",
       " PosixPath('data/train_images/mask_fill/train/masks/well_845.png'),\n",
       " PosixPath('data/train_images/mask_fill/train/masks/well_1796.png'),\n",
       " PosixPath('data/train_images/mask_fill/train/masks/well_2304.png'),\n",
       " PosixPath('data/train_images/mask_fill/train/masks/well_2912.png'),\n",
       " PosixPath('data/train_images/mask_fill/train/masks/well_1045.png'),\n",
       " PosixPath('data/train_images/mask_fill/train/masks/well_1901.png'),\n",
       " PosixPath('data/train_images/mask_fill/train/masks/well_443.png'),\n",
       " PosixPath('data/train_images/mask_fill/train/masks/well_1253.png'),\n",
       " PosixPath('data/train_images/mask_fill/train/masks/well_457.png'),\n",
       " PosixPath('data/train_images/mask_fill/train/masks/well_83.png'),\n",
       " PosixPath('data/train_images/mask_fill/train/masks/well_3842.png'),\n",
       " PosixPath('data/train_images/mask_fill/train/masks/well_2407.png'),\n",
       " PosixPath('data/train_images/mask_fill/train/masks/well_478.png'),\n",
       " PosixPath('data/train_images/mask_fill/train/masks/well_2766.png'),\n",
       " PosixPath('data/train_images/mask_fill/train/masks/well_2449.png'),\n",
       " PosixPath('data/train_images/mask_fill/train/masks/well_1814.png'),\n",
       " PosixPath('data/train_images/mask_fill/train/masks/well_2661.png'),\n",
       " PosixPath('data/train_images/mask_fill/train/masks/well_3394.png'),\n",
       " PosixPath('data/train_images/mask_fill/train/masks/well_2893.png'),\n",
       " PosixPath('data/train_images/mask_fill/train/masks/well_2325.png'),\n",
       " PosixPath('data/train_images/mask_fill/train/masks/well_2805.png'),\n",
       " PosixPath('data/train_images/mask_fill/train/masks/well_239.png'),\n",
       " PosixPath('data/train_images/mask_fill/train/masks/well_1584.png'),\n",
       " PosixPath('data/train_images/mask_fill/train/masks/well_209.png'),\n",
       " PosixPath('data/train_images/mask_fill/train/masks/well_653.png'),\n",
       " PosixPath('data/train_images/mask_fill/train/masks/well_873.png'),\n",
       " PosixPath('data/train_images/mask_fill/train/masks/well_1627.png'),\n",
       " PosixPath('data/train_images/mask_fill/train/masks/well_1120.png'),\n",
       " PosixPath('data/train_images/mask_fill/train/masks/well_1384.png'),\n",
       " PosixPath('data/train_images/mask_fill/train/masks/well_586.png'),\n",
       " PosixPath('data/train_images/mask_fill/train/masks/well_624.png'),\n",
       " PosixPath('data/train_images/mask_fill/train/masks/well_458.png'),\n",
       " PosixPath('data/train_images/mask_fill/train/masks/well_3290.png'),\n",
       " PosixPath('data/train_images/mask_fill/train/masks/well_3058.png'),\n",
       " PosixPath('data/train_images/mask_fill/train/masks/well_3067.png'),\n",
       " PosixPath('data/train_images/mask_fill/train/masks/well_3454.png'),\n",
       " PosixPath('data/train_images/mask_fill/train/masks/well_2090.png'),\n",
       " PosixPath('data/train_images/mask_fill/train/masks/well_3867.png'),\n",
       " PosixPath('data/train_images/mask_fill/train/masks/well_1823.png'),\n",
       " PosixPath('data/train_images/mask_fill/train/masks/well_1804.png'),\n",
       " PosixPath('data/train_images/mask_fill/train/masks/well_3312.png'),\n",
       " PosixPath('data/train_images/mask_fill/train/masks/well_1498.png'),\n",
       " PosixPath('data/train_images/mask_fill/train/masks/well_1464.png'),\n",
       " PosixPath('data/train_images/mask_fill/train/masks/well_402.png'),\n",
       " PosixPath('data/train_images/mask_fill/train/masks/well_3009.png'),\n",
       " PosixPath('data/train_images/mask_fill/train/masks/well_3707.png'),\n",
       " PosixPath('data/train_images/mask_fill/train/masks/well_2175.png'),\n",
       " PosixPath('data/train_images/mask_fill/train/masks/well_3607.png'),\n",
       " PosixPath('data/train_images/mask_fill/train/masks/well_2862.png'),\n",
       " PosixPath('data/train_images/mask_fill/train/masks/well_1874.png'),\n",
       " PosixPath('data/train_images/mask_fill/train/masks/well_3073.png'),\n",
       " PosixPath('data/train_images/mask_fill/train/masks/well_3946.png'),\n",
       " PosixPath('data/train_images/mask_fill/train/masks/well_2277.png'),\n",
       " PosixPath('data/train_images/mask_fill/train/masks/well_3392.png'),\n",
       " PosixPath('data/train_images/mask_fill/train/masks/well_1240.png'),\n",
       " PosixPath('data/train_images/mask_fill/train/masks/well_3403.png'),\n",
       " PosixPath('data/train_images/mask_fill/train/masks/well_150.png'),\n",
       " PosixPath('data/train_images/mask_fill/train/masks/well_3560.png'),\n",
       " PosixPath('data/train_images/mask_fill/train/masks/well_137.png'),\n",
       " PosixPath('data/train_images/mask_fill/train/masks/well_3410.png'),\n",
       " PosixPath('data/train_images/mask_fill/train/masks/well_3254.png'),\n",
       " PosixPath('data/train_images/mask_fill/train/masks/well_1954.png'),\n",
       " PosixPath('data/train_images/mask_fill/train/masks/well_2075.png'),\n",
       " PosixPath('data/train_images/mask_fill/train/masks/well_3455.png'),\n",
       " PosixPath('data/train_images/mask_fill/train/masks/well_2414.png'),\n",
       " PosixPath('data/train_images/mask_fill/train/masks/well_3695.png'),\n",
       " PosixPath('data/train_images/mask_fill/train/masks/well_2940.png'),\n",
       " PosixPath('data/train_images/mask_fill/train/masks/well_1147.png'),\n",
       " PosixPath('data/train_images/mask_fill/train/masks/well_2759.png'),\n",
       " PosixPath('data/train_images/mask_fill/train/masks/well_2981.png'),\n",
       " PosixPath('data/train_images/mask_fill/train/masks/well_1807.png'),\n",
       " PosixPath('data/train_images/mask_fill/train/masks/well_1020.png'),\n",
       " PosixPath('data/train_images/mask_fill/train/masks/well_1318.png'),\n",
       " PosixPath('data/train_images/mask_fill/train/masks/well_2738.png'),\n",
       " PosixPath('data/train_images/mask_fill/train/masks/well_1254.png'),\n",
       " PosixPath('data/train_images/mask_fill/train/masks/well_2402.png'),\n",
       " PosixPath('data/train_images/mask_fill/train/masks/well_3348.png'),\n",
       " PosixPath('data/train_images/mask_fill/train/masks/well_2137.png'),\n",
       " PosixPath('data/train_images/mask_fill/train/masks/well_2032.png'),\n",
       " PosixPath('data/train_images/mask_fill/train/masks/well_2131.png'),\n",
       " PosixPath('data/train_images/mask_fill/train/masks/well_3470.png'),\n",
       " PosixPath('data/train_images/mask_fill/train/masks/well_3850.png'),\n",
       " PosixPath('data/train_images/mask_fill/train/masks/well_594.png'),\n",
       " PosixPath('data/train_images/mask_fill/train/masks/well_2463.png'),\n",
       " PosixPath('data/train_images/mask_fill/train/masks/well_563.png'),\n",
       " PosixPath('data/train_images/mask_fill/train/masks/well_3020.png'),\n",
       " PosixPath('data/train_images/mask_fill/train/masks/well_341.png'),\n",
       " PosixPath('data/train_images/mask_fill/train/masks/well_2652.png'),\n",
       " PosixPath('data/train_images/mask_fill/train/masks/well_3864.png'),\n",
       " PosixPath('data/train_images/mask_fill/train/masks/well_3961.png'),\n",
       " PosixPath('data/train_images/mask_fill/train/masks/well_2625.png'),\n",
       " PosixPath('data/train_images/mask_fill/train/masks/well_3841.png'),\n",
       " PosixPath('data/train_images/mask_fill/train/masks/well_906.png'),\n",
       " PosixPath('data/train_images/mask_fill/train/masks/well_3753.png'),\n",
       " PosixPath('data/train_images/mask_fill/train/masks/well_1976.png'),\n",
       " PosixPath('data/train_images/mask_fill/train/masks/well_1908.png'),\n",
       " PosixPath('data/train_images/mask_fill/train/masks/well_1700.png'),\n",
       " PosixPath('data/train_images/mask_fill/train/masks/well_2697.png'),\n",
       " PosixPath('data/train_images/mask_fill/train/masks/well_2230.png'),\n",
       " PosixPath('data/train_images/mask_fill/train/masks/well_2979.png'),\n",
       " PosixPath('data/train_images/mask_fill/train/masks/well_367.png'),\n",
       " PosixPath('data/train_images/mask_fill/train/masks/well_2345.png'),\n",
       " PosixPath('data/train_images/mask_fill/train/masks/well_1063.png'),\n",
       " PosixPath('data/train_images/mask_fill/train/masks/well_516.png'),\n",
       " PosixPath('data/train_images/mask_fill/train/masks/well_2707.png'),\n",
       " PosixPath('data/train_images/mask_fill/train/masks/well_3990.png'),\n",
       " PosixPath('data/train_images/mask_fill/train/masks/well_3729.png'),\n",
       " PosixPath('data/train_images/mask_fill/train/masks/well_1875.png'),\n",
       " PosixPath('data/train_images/mask_fill/train/masks/well_2455.png'),\n",
       " PosixPath('data/train_images/mask_fill/train/masks/well_3170.png'),\n",
       " PosixPath('data/train_images/mask_fill/train/masks/well_1685.png'),\n",
       " PosixPath('data/train_images/mask_fill/train/masks/well_3302.png'),\n",
       " PosixPath('data/train_images/mask_fill/train/masks/well_1854.png'),\n",
       " PosixPath('data/train_images/mask_fill/train/masks/well_1526.png'),\n",
       " PosixPath('data/train_images/mask_fill/train/masks/well_3414.png'),\n",
       " PosixPath('data/train_images/mask_fill/train/masks/well_3567.png'),\n",
       " PosixPath('data/train_images/mask_fill/train/masks/well_1704.png'),\n",
       " PosixPath('data/train_images/mask_fill/train/masks/well_735.png'),\n",
       " PosixPath('data/train_images/mask_fill/train/masks/well_3999.png'),\n",
       " PosixPath('data/train_images/mask_fill/train/masks/well_2001.png'),\n",
       " PosixPath('data/train_images/mask_fill/train/masks/well_656.png'),\n",
       " PosixPath('data/train_images/mask_fill/train/masks/well_1247.png'),\n",
       " PosixPath('data/train_images/mask_fill/train/masks/well_3030.png'),\n",
       " PosixPath('data/train_images/mask_fill/train/masks/well_2409.png'),\n",
       " PosixPath('data/train_images/mask_fill/train/masks/well_3938.png'),\n",
       " PosixPath('data/train_images/mask_fill/train/masks/well_185.png'),\n",
       " PosixPath('data/train_images/mask_fill/train/masks/well_3936.png'),\n",
       " PosixPath('data/train_images/mask_fill/train/masks/well_820.png'),\n",
       " PosixPath('data/train_images/mask_fill/train/masks/well_3963.png'),\n",
       " PosixPath('data/train_images/mask_fill/train/masks/well_3328.png'),\n",
       " PosixPath('data/train_images/mask_fill/train/masks/well_940.png'),\n",
       " PosixPath('data/train_images/mask_fill/train/masks/well_2307.png'),\n",
       " PosixPath('data/train_images/mask_fill/train/masks/well_885.png'),\n",
       " PosixPath('data/train_images/mask_fill/train/masks/well_30.png'),\n",
       " PosixPath('data/train_images/mask_fill/train/masks/well_1720.png'),\n",
       " PosixPath('data/train_images/mask_fill/train/masks/well_2439.png'),\n",
       " PosixPath('data/train_images/mask_fill/train/masks/well_1460.png'),\n",
       " PosixPath('data/train_images/mask_fill/train/masks/well_569.png'),\n",
       " PosixPath('data/train_images/mask_fill/train/masks/well_1286.png'),\n",
       " PosixPath('data/train_images/mask_fill/train/masks/well_851.png'),\n",
       " PosixPath('data/train_images/mask_fill/train/masks/well_1552.png'),\n",
       " PosixPath('data/train_images/mask_fill/train/masks/well_268.png'),\n",
       " PosixPath('data/train_images/mask_fill/train/masks/well_648.png'),\n",
       " PosixPath('data/train_images/mask_fill/train/masks/well_3074.png'),\n",
       " PosixPath('data/train_images/mask_fill/train/masks/well_650.png'),\n",
       " PosixPath('data/train_images/mask_fill/train/masks/well_3587.png'),\n",
       " PosixPath('data/train_images/mask_fill/train/masks/well_1073.png'),\n",
       " PosixPath('data/train_images/mask_fill/train/masks/well_1328.png'),\n",
       " PosixPath('data/train_images/mask_fill/train/masks/well_112.png'),\n",
       " PosixPath('data/train_images/mask_fill/train/masks/well_1918.png'),\n",
       " PosixPath('data/train_images/mask_fill/train/masks/well_385.png'),\n",
       " PosixPath('data/train_images/mask_fill/train/masks/well_3622.png'),\n",
       " PosixPath('data/train_images/mask_fill/train/masks/well_3874.png'),\n",
       " PosixPath('data/train_images/mask_fill/train/masks/well_985.png'),\n",
       " PosixPath('data/train_images/mask_fill/train/masks/well_1719.png'),\n",
       " PosixPath('data/train_images/mask_fill/train/masks/well_1501.png'),\n",
       " PosixPath('data/train_images/mask_fill/train/masks/well_3771.png'),\n",
       " PosixPath('data/train_images/mask_fill/train/masks/well_352.png'),\n",
       " PosixPath('data/train_images/mask_fill/train/masks/well_3118.png'),\n",
       " PosixPath('data/train_images/mask_fill/train/masks/well_1816.png'),\n",
       " PosixPath('data/train_images/mask_fill/train/masks/well_1995.png'),\n",
       " PosixPath('data/train_images/mask_fill/train/masks/well_3314.png'),\n",
       " PosixPath('data/train_images/mask_fill/train/masks/well_2653.png'),\n",
       " PosixPath('data/train_images/mask_fill/train/masks/well_1275.png'),\n",
       " PosixPath('data/train_images/mask_fill/train/masks/well_2076.png'),\n",
       " PosixPath('data/train_images/mask_fill/train/masks/well_1569.png'),\n",
       " PosixPath('data/train_images/mask_fill/train/masks/well_36.png'),\n",
       " PosixPath('data/train_images/mask_fill/train/masks/well_2459.png'),\n",
       " PosixPath('data/train_images/mask_fill/train/masks/well_3503.png'),\n",
       " PosixPath('data/train_images/mask_fill/train/masks/well_2513.png'),\n",
       " PosixPath('data/train_images/mask_fill/train/masks/well_1822.png'),\n",
       " PosixPath('data/train_images/mask_fill/train/masks/well_2722.png'),\n",
       " PosixPath('data/train_images/mask_fill/train/masks/well_3521.png'),\n",
       " PosixPath('data/train_images/mask_fill/train/masks/well_2103.png'),\n",
       " PosixPath('data/train_images/mask_fill/train/masks/well_1545.png'),\n",
       " PosixPath('data/train_images/mask_fill/train/masks/well_3613.png'),\n",
       " PosixPath('data/train_images/mask_fill/train/masks/well_1107.png'),\n",
       " PosixPath('data/train_images/mask_fill/train/masks/well_1043.png'),\n",
       " PosixPath('data/train_images/mask_fill/train/masks/well_693.png'),\n",
       " PosixPath('data/train_images/mask_fill/train/masks/well_2493.png'),\n",
       " PosixPath('data/train_images/mask_fill/train/masks/well_515.png'),\n",
       " PosixPath('data/train_images/mask_fill/train/masks/well_529.png'),\n",
       " PosixPath('data/train_images/mask_fill/train/masks/well_1755.png'),\n",
       " PosixPath('data/train_images/mask_fill/train/masks/well_3294.png'),\n",
       " PosixPath('data/train_images/mask_fill/train/masks/well_2164.png'),\n",
       " PosixPath('data/train_images/mask_fill/train/masks/well_3819.png'),\n",
       " PosixPath('data/train_images/mask_fill/train/masks/well_184.png'),\n",
       " PosixPath('data/train_images/mask_fill/train/masks/well_2151.png'),\n",
       " PosixPath('data/train_images/mask_fill/train/masks/well_3555.png'),\n",
       " PosixPath('data/train_images/mask_fill/train/masks/well_3602.png'),\n",
       " PosixPath('data/train_images/mask_fill/train/masks/well_3774.png'),\n",
       " PosixPath('data/train_images/mask_fill/train/masks/well_1658.png'),\n",
       " PosixPath('data/train_images/mask_fill/train/masks/well_3415.png'),\n",
       " PosixPath('data/train_images/mask_fill/train/masks/well_510.png'),\n",
       " PosixPath('data/train_images/mask_fill/train/masks/well_3861.png'),\n",
       " PosixPath('data/train_images/mask_fill/train/masks/well_805.png'),\n",
       " PosixPath('data/train_images/mask_fill/train/masks/well_1619.png'),\n",
       " PosixPath('data/train_images/mask_fill/train/masks/well_2861.png'),\n",
       " PosixPath('data/train_images/mask_fill/train/masks/well_2016.png'),\n",
       " PosixPath('data/train_images/mask_fill/train/masks/well_3780.png'),\n",
       " PosixPath('data/train_images/mask_fill/train/masks/well_623.png'),\n",
       " PosixPath('data/train_images/mask_fill/train/masks/well_1242.png'),\n",
       " PosixPath('data/train_images/mask_fill/train/masks/well_1143.png'),\n",
       " PosixPath('data/train_images/mask_fill/train/masks/well_662.png'),\n",
       " PosixPath('data/train_images/mask_fill/train/masks/well_3643.png'),\n",
       " PosixPath('data/train_images/mask_fill/train/masks/well_1589.png'),\n",
       " PosixPath('data/train_images/mask_fill/train/masks/well_2830.png'),\n",
       " PosixPath('data/train_images/mask_fill/train/masks/well_3899.png'),\n",
       " PosixPath('data/train_images/mask_fill/train/masks/well_2146.png'),\n",
       " PosixPath('data/train_images/mask_fill/train/masks/well_1661.png'),\n",
       " PosixPath('data/train_images/mask_fill/train/masks/well_1119.png'),\n",
       " PosixPath('data/train_images/mask_fill/train/masks/well_199.png'),\n",
       " PosixPath('data/train_images/mask_fill/train/masks/well_928.png'),\n",
       " PosixPath('data/train_images/mask_fill/train/masks/well_1625.png'),\n",
       " PosixPath('data/train_images/mask_fill/train/masks/well_686.png'),\n",
       " PosixPath('data/train_images/mask_fill/train/masks/well_601.png'),\n",
       " PosixPath('data/train_images/mask_fill/train/masks/well_3100.png'),\n",
       " PosixPath('data/train_images/mask_fill/train/masks/well_2033.png'),\n",
       " PosixPath('data/train_images/mask_fill/train/masks/well_2534.png'),\n",
       " PosixPath('data/train_images/mask_fill/train/masks/well_3444.png'),\n",
       " PosixPath('data/train_images/mask_fill/train/masks/well_1518.png'),\n",
       " PosixPath('data/train_images/mask_fill/train/masks/well_1723.png'),\n",
       " PosixPath('data/train_images/mask_fill/train/masks/well_3536.png'),\n",
       " PosixPath('data/train_images/mask_fill/train/masks/well_3762.png'),\n",
       " PosixPath('data/train_images/mask_fill/train/masks/well_3090.png'),\n",
       " PosixPath('data/train_images/mask_fill/train/masks/well_3068.png'),\n",
       " PosixPath('data/train_images/mask_fill/train/masks/well_2074.png'),\n",
       " PosixPath('data/train_images/mask_fill/train/masks/well_1113.png'),\n",
       " PosixPath('data/train_images/mask_fill/train/masks/well_752.png'),\n",
       " PosixPath('data/train_images/mask_fill/train/masks/well_2895.png'),\n",
       " PosixPath('data/train_images/mask_fill/train/masks/well_293.png'),\n",
       " PosixPath('data/train_images/mask_fill/train/masks/well_716.png'),\n",
       " PosixPath('data/train_images/mask_fill/train/masks/well_832.png'),\n",
       " PosixPath('data/train_images/mask_fill/train/masks/well_3248.png'),\n",
       " PosixPath('data/train_images/mask_fill/train/masks/well_2091.png'),\n",
       " PosixPath('data/train_images/mask_fill/train/masks/well_3917.png'),\n",
       " PosixPath('data/train_images/mask_fill/train/masks/well_1309.png'),\n",
       " PosixPath('data/train_images/mask_fill/train/masks/well_3197.png'),\n",
       " PosixPath('data/train_images/mask_fill/train/masks/well_2603.png'),\n",
       " PosixPath('data/train_images/mask_fill/train/masks/well_1418.png'),\n",
       " PosixPath('data/train_images/mask_fill/train/masks/well_773.png'),\n",
       " PosixPath('data/train_images/mask_fill/train/masks/well_2648.png'),\n",
       " PosixPath('data/train_images/mask_fill/train/masks/well_2945.png'),\n",
       " PosixPath('data/train_images/mask_fill/train/masks/well_1214.png'),\n",
       " PosixPath('data/train_images/mask_fill/train/masks/well_3947.png'),\n",
       " PosixPath('data/train_images/mask_fill/train/masks/well_2970.png'),\n",
       " PosixPath('data/train_images/mask_fill/train/masks/well_240.png'),\n",
       " PosixPath('data/train_images/mask_fill/train/masks/well_2521.png'),\n",
       " PosixPath('data/train_images/mask_fill/train/masks/well_1382.png'),\n",
       " PosixPath('data/train_images/mask_fill/train/masks/well_1511.png'),\n",
       " PosixPath('data/train_images/mask_fill/train/masks/well_1746.png'),\n",
       " PosixPath('data/train_images/mask_fill/train/masks/well_3930.png'),\n",
       " PosixPath('data/train_images/mask_fill/train/masks/well_1462.png'),\n",
       " PosixPath('data/train_images/mask_fill/train/masks/well_2422.png'),\n",
       " PosixPath('data/train_images/mask_fill/train/masks/well_2564.png'),\n",
       " PosixPath('data/train_images/mask_fill/train/masks/well_3494.png'),\n",
       " PosixPath('data/train_images/mask_fill/train/masks/well_2399.png'),\n",
       " PosixPath('data/train_images/mask_fill/train/masks/well_3629.png'),\n",
       " PosixPath('data/train_images/mask_fill/train/masks/well_2479.png'),\n",
       " PosixPath('data/train_images/mask_fill/train/masks/well_3460.png'),\n",
       " PosixPath('data/train_images/mask_fill/train/masks/well_914.png'),\n",
       " PosixPath('data/train_images/mask_fill/train/masks/well_2379.png'),\n",
       " PosixPath('data/train_images/mask_fill/train/masks/well_2888.png'),\n",
       " PosixPath('data/train_images/mask_fill/train/masks/well_701.png'),\n",
       " PosixPath('data/train_images/mask_fill/train/masks/well_3305.png'),\n",
       " PosixPath('data/train_images/mask_fill/train/masks/well_417.png'),\n",
       " ...]"
      ]
     },
     "execution_count": 41,
     "metadata": {},
     "output_type": "execute_result"
    }
   ],
   "source": [
    "train_mask_names"
   ]
  },
  {
   "cell_type": "code",
   "execution_count": 42,
   "metadata": {},
   "outputs": [
    {
     "data": {
      "text/plain": [
       "array([0, 1, 2, 3, 4, 5], dtype=uint8)"
      ]
     },
     "execution_count": 42,
     "metadata": {},
     "output_type": "execute_result"
    }
   ],
   "source": [
    "np.unique(np.asarray(pil_image.open(train_mask_names[0])))"
   ]
  },
  {
   "cell_type": "code",
   "execution_count": 68,
   "metadata": {},
   "outputs": [],
   "source": [
    "def get_colours(images):\n",
    "    for i, im in enumerate(images):\n",
    "        img=pil_image.open(im)\n",
    "        colors = img.convert('RGB').getcolors()\n",
    "        print(colors)\n",
    "        assert True==False"
   ]
  },
  {
   "cell_type": "code",
   "execution_count": 75,
   "metadata": {},
   "outputs": [],
   "source": [
    "unique_pixels=[\n",
    "    [255, 255, 255], \n",
    "    [255, 0, 0], \n",
    "    [153, 102, 51], \n",
    "    [255, 255, 0], \n",
    "    [0, 0, 255], \n",
    "    [0, 128, 0]]"
   ]
  },
  {
   "cell_type": "code",
   "execution_count": 76,
   "metadata": {},
   "outputs": [],
   "source": [
    "c_pixels=[\n",
    "    [0, 0, 0], \n",
    "    [1, 1, 1], \n",
    "    [2, 2, 2], \n",
    "    [3, 3, 3], \n",
    "    [4, 4, 4], \n",
    "    [5, 5, 5]]"
   ]
  },
  {
   "cell_type": "code",
   "execution_count": 71,
   "metadata": {},
   "outputs": [],
   "source": [
    "u_values=[]\n",
    "def get_all_uniques(images, subset=None):\n",
    "    for i, im in enumerate(images):\n",
    "        if subset and (i > subset):\n",
    "            return u_values\n",
    "        mask = np.asarray(pil_image.open(im))\n",
    "        print(mask.shape)\n",
    "        #remove opcacity\n",
    "        #a=mask[:,:,:-1]\n",
    "        a=mask[:,:1,:-1]\n",
    "        print(a.shape)\n",
    "        #u_values.extend(np.unique(mask.tolist()))\n",
    "        print(a)\n",
    "        assert True==False\n",
    "    return u_values"
   ]
  },
  {
   "cell_type": "code",
   "execution_count": 72,
   "metadata": {},
   "outputs": [],
   "source": [
    "train_mask_mpl = train_path/'masks_with_mpl_colours'\n",
    "train_mask_names_mpl = get_image_files(train_mask_mpl)\n",
    "#get_colours(train_mask_names_mpl)\n",
    "#u_values=list(set(get_all_uniques(train_mask_names_mpl, 100)))"
   ]
  },
  {
   "cell_type": "code",
   "execution_count": 66,
   "metadata": {},
   "outputs": [],
   "source": [
    "#u_values=list(set(get_all_uniques(train_mask_names, 100)))\n",
    "#u_values.sort()"
   ]
  },
  {
   "cell_type": "code",
   "execution_count": 77,
   "metadata": {},
   "outputs": [],
   "source": [
    "#print(u_values)\n",
    "#u_values=[0, 51, 102, 128, 153, 255]"
   ]
  },
  {
   "cell_type": "code",
   "execution_count": 118,
   "metadata": {},
   "outputs": [],
   "source": [
    "def convert_masks_pixels(unique_pixels,unique_colours, images, save_path):\n",
    "    print(f'>>convert_masks_pixels() colours: {len(u_values)} images: {len(images)} to {save_path}')\n",
    "    for i, im in enumerate(images):\n",
    "        mask = np.asarray(pil_image.open(im))\n",
    "        mask_c=mask[:,:,:-1].copy()\n",
    "        for p, c in zip(unique_pixels, unique_colours):\n",
    "            mask_c[np.where((mask_c==p).all(axis=2))] = c\n",
    "        #print(f'mask_c: {mask_c}')\n",
    "        #print(f'mask: {mask}')\n",
    "        #print(f'mask_c: {mask_c.shape}, mask: {mask.shape}')\n",
    "        #assert True==False\n",
    "        image = pil_image.fromarray(mask_c)\n",
    "        name=im.name.split('.png')[0]\n",
    "        image.save(save_path/f'{name}_replaced.png')"
   ]
  },
  {
   "cell_type": "code",
   "execution_count": 119,
   "metadata": {},
   "outputs": [
    {
     "name": "stdout",
     "output_type": "stream",
     "text": [
      ">>convert_masks_pixels() colours: 0 images: 4000 to data/train_images/mask_fill/train/masks\n"
     ]
    }
   ],
   "source": [
    "train_mask_mpl = train_path/'masks_with_mpl_colours'\n",
    "train_mask_names_mpl = get_image_files(train_mask_mpl)\n",
    "convert_masks_pixels(unique_pixels, c_pixels, train_mask_names_mpl, train_mask)"
   ]
  },
  {
   "cell_type": "code",
   "execution_count": 89,
   "metadata": {},
   "outputs": [],
   "source": [
    "def convert_masks_format(u_values, images, save_path):\n",
    "    \"\"\"This function drps one of the coloours use convert_masks_pixels instead \"\"\"\n",
    "    for i, im in enumerate(images):\n",
    "        mask = np.asarray(pil_image.open(im))\n",
    "        mask_c=mask.copy()\n",
    "        for i, c in enumerate(u_values):\n",
    "            mask_c[mask_c == u_values[i]] = i\n",
    "        image = pil_image.fromarray(mask_c)\n",
    "        name=im.name.split('.png')[0]\n",
    "        image.save(save_path/f'{name}_replaced.png')"
   ]
  },
  {
   "cell_type": "code",
   "execution_count": 43,
   "metadata": {},
   "outputs": [],
   "source": [
    "def convert_imasks_fai_format(u_values, images, save_path):\n",
    "    '''Opening masks using fastai, use convert_masks_pixels instead'''\n",
    "    for im in images:\n",
    "        A = open_mask(get_y_fn(im)).data.numpy()\n",
    "        for i, c in enumerate(u_values):\n",
    "            A[A == u_values[i]] = i\n",
    "        image = pil_image.fromarray(A[0])\n",
    "        name=im.name.split('.png')[0]\n",
    "        image.save(save_path/f'{name}_fai.png')"
   ]
  },
  {
   "cell_type": "markdown",
   "metadata": {},
   "source": [
    "### Link Masks with Images"
   ]
  },
  {
   "cell_type": "code",
   "execution_count": 33,
   "metadata": {},
   "outputs": [],
   "source": []
  },
  {
   "cell_type": "code",
   "execution_count": 34,
   "metadata": {},
   "outputs": [
    {
     "data": {
      "text/plain": [
       "PosixPath('data/train_images/mask_fill/train/masks/well_1770.png')"
      ]
     },
     "execution_count": 34,
     "metadata": {},
     "output_type": "execute_result"
    }
   ],
   "source": [
    "get_y_fn(img_f)"
   ]
  },
  {
   "cell_type": "markdown",
   "metadata": {},
   "source": [
    "We need a custom mask function as fastai merges colours\n",
    "\n",
    "see https://forums.fast.ai/t/u-net-rgb-masks-values-convertion-in-fast-ai/50672/3"
   ]
  },
  {
   "cell_type": "code",
   "execution_count": 35,
   "metadata": {},
   "outputs": [],
   "source": [
    "def get_unique_colours(img_name):\n",
    "    im = pil_image.open(img_name)\n",
    "    by_color = defaultdict(int)\n",
    "    for pixel in im.getdata():\n",
    "        by_color[pixel] += 1\n",
    "    return by_color"
   ]
  },
  {
   "cell_type": "code",
   "execution_count": 36,
   "metadata": {},
   "outputs": [
    {
     "data": {
      "text/plain": [
       "PosixPath('data/train_images/mask_fill/train/masks/well_2711.png')"
      ]
     },
     "execution_count": 36,
     "metadata": {},
     "output_type": "execute_result"
    }
   ],
   "source": [
    "train_mask_names[4]"
   ]
  },
  {
   "cell_type": "code",
   "execution_count": 37,
   "metadata": {},
   "outputs": [
    {
     "data": {
      "text/plain": [
       "defaultdict(int,\n",
       "            {(255, 255, 255, 255): 105823,\n",
       "             (153, 102, 51, 255): 124938,\n",
       "             (0, 128, 0, 255): 15883,\n",
       "             (255, 0, 0, 255): 19901,\n",
       "             (0, 0, 255, 255): 20347,\n",
       "             (255, 255, 0, 255): 15608})"
      ]
     },
     "execution_count": 37,
     "metadata": {},
     "output_type": "execute_result"
    }
   ],
   "source": [
    "get_unique_colours(train_mask_names[4])"
   ]
  },
  {
   "cell_type": "markdown",
   "metadata": {},
   "source": [
    "Create a list of RGB values in order of idx value to replace with, i.e. 0: [0,0,0], 1: [255,0,0]\n",
    "\n",
    "Note we have an extra colour for background (where GR is > log value but less than absolute GR cutoff)\n",
    "\n",
    "We use RGB not RGBA"
   ]
  },
  {
   "cell_type": "code",
   "execution_count": 38,
   "metadata": {},
   "outputs": [],
   "source": [
    "facies_rgb_list = [\n",
    "    [255, 255, 255],\n",
    "    [153, 102, 51],\n",
    "    [0, 128, 0],\n",
    "    [255, 0, 0],\n",
    "    [0, 0, 255],\n",
    "    [255, 255, 0]]"
   ]
  },
  {
   "cell_type": "code",
   "execution_count": 39,
   "metadata": {},
   "outputs": [],
   "source": [
    "def div_rgbs(rgb_list):\n",
    "    rgb_zero_one=[]\n",
    "    for l in rgb_list:\n",
    "        rgb_zero_one.append([i /255 for i in l])\n",
    "    return rgb_zero_one"
   ]
  },
  {
   "cell_type": "code",
   "execution_count": 40,
   "metadata": {},
   "outputs": [],
   "source": [
    "def convert_mask(old_mask, rgb_list, div):\n",
    "    '''\n",
    "    create a bytemask for pixels = rgb value to be replaced, \n",
    "    sum over all columns\n",
    "    fill in pixels with new idx value\n",
    "    '''\n",
    "    new_mask = torch.zeros((old_mask.shape[-2],old_mask.shape[-1]))\n",
    "    for idx, rgb in enumerate(rgb_list):\n",
    "        rgb_mask = torch.sum(old_mask.data.view((3,-1)).permute(1,0) == tensor(rgb),dim=1)==3 \n",
    "        new_mask.masked_fill_(rgb_mask.view(new_mask.shape), tensor(idx)) \n",
    "    if div: \n",
    "        new_mask.div_(255)\n",
    "    print(f'max: {torch.max(new_mask)}, div: {div}')\n",
    "    return ImageSegment(new_mask.unsqueeze(0))\n",
    "\n",
    "def open_mask_converted(fn:PathOrStr, div, convert_mode='RGB', after_open:Callable=None, rgb_list=facies_rgb_list)->ImageSegment:\n",
    "    '''Note we apply div after opening and conversion'''\n",
    "    return convert_mask(open_image(fn, div=False, convert_mode=convert_mode, cls=ImageSegment, after_open=after_open), rgb_list, div=div)"
   ]
  },
  {
   "cell_type": "markdown",
   "metadata": {},
   "source": [
    "need to override SegmentationLabelList to use unique color masks"
   ]
  },
  {
   "cell_type": "code",
   "execution_count": 41,
   "metadata": {},
   "outputs": [],
   "source": [
    "class UniqueSegmentationLabelList(ImageList):\n",
    "    \"ItemList for segmentation masks\"\n",
    "    _processor=SegmentationProcessor\n",
    "    def __init__(self, items:Iterator, classes:Collection=None, **kwargs):\n",
    "        super().__init__(items, **kwargs)\n",
    "        print(f'>>UniqueSegmentationLabelList.__init__() classes: {classes}')\n",
    "        self.copy_new.append('classes')\n",
    "        self.classes,self.loss_func = classes,CrossEntropyFlat(axis=1)\n",
    "        \n",
    "    def open(self, fn): \n",
    "        #need to use div=true so is betwween 0 and 1\n",
    "        print('>>UniqueSegmentationLabelList.open()')\n",
    "        return open_mask_converted(fn, div=True)\n",
    "        #return open_mask(fn)\n",
    "    def analyze_pred(self, pred, thresh:float=0.5): \n",
    "        return pred.argmax(dim=0)[None]\n",
    "    def reconstruct(self, t:Tensor): \n",
    "        return ImageSegment(t)\n",
    "\n",
    "class UniqueSegmentationItemList(ImageList):\n",
    "    _label_cls,_square_show_res = SegmentationLabelList,False"
   ]
  },
  {
   "cell_type": "code",
   "execution_count": 42,
   "metadata": {},
   "outputs": [],
   "source": [
    "class BasicSegmentationLabelList(SegmentationLabelList):\n",
    "    def open(self, fn): \n",
    "        assert True==False\n",
    "        return open_mask_converted(fn, div=True)\n",
    "\n",
    "class BasicSegmentationItemList(SegmentationItemList):\n",
    "    _label_cls,_square_show_res = SegmentationLabelList,False"
   ]
  },
  {
   "cell_type": "code",
   "execution_count": 43,
   "metadata": {},
   "outputs": [],
   "source": [
    "class SegLabelListCustom(SegmentationLabelList):\n",
    "    def open(self, fn): return open_mask(fn, div=True)\n",
    "\n",
    "class SegItemListCustom(SegmentationItemList):\n",
    "    _label_cls = SegLabelListCustom"
   ]
  },
  {
   "cell_type": "code",
   "execution_count": 44,
   "metadata": {},
   "outputs": [
    {
     "name": "stdout",
     "output_type": "stream",
     "text": [
      "max: 5.0, div: False\n"
     ]
    }
   ],
   "source": [
    "mask = open_mask_converted(get_y_fn(img_f), convert_mode='RGB', div=False)"
   ]
  },
  {
   "cell_type": "code",
   "execution_count": 45,
   "metadata": {
    "scrolled": true
   },
   "outputs": [
    {
     "data": {
      "image/png": "[encoded data removed]",
      "text/plain": [
       "<Figure size 1296x288 with 1 Axes>"
      ]
     },
     "metadata": {
      "needs_background": "light"
     },
     "output_type": "display_data"
    }
   ],
   "source": [
    "#mask = open_mask(get_y_fn(img_f)) # fastai shows masks with distinct colors \n",
    "# or open_mask(get_y_fn(img_f))  # mask reads file as (bs,x,y) so bs=1 here\n",
    "# mask also assigns ints to floats >\n",
    "\n",
    "#Return ImageSegment object create from mask in file fn. If div, divides pixel values by 255.\n",
    "mask.show(figsize=(18,4), alpha=1)"
   ]
  },
  {
   "cell_type": "code",
   "execution_count": 46,
   "metadata": {},
   "outputs": [
    {
     "data": {
      "text/plain": [
       "fastai.vision.image.ImageSegment"
      ]
     },
     "execution_count": 46,
     "metadata": {},
     "output_type": "execute_result"
    }
   ],
   "source": [
    "type(mask)"
   ]
  },
  {
   "cell_type": "markdown",
   "metadata": {},
   "source": [
    "Compare to facies generated in matplotlib"
   ]
  },
  {
   "cell_type": "code",
   "execution_count": 47,
   "metadata": {
    "scrolled": false
   },
   "outputs": [
    {
     "data": {
      "image/png": "[encoded data removed]",
      "text/plain": [
       "<Figure size 1296x288 with 1 Axes>"
      ]
     },
     "metadata": {
      "needs_background": "light"
     },
     "output_type": "display_data"
    }
   ],
   "source": [
    "img_m = get_y_fn(img_f)\n",
    "img = open_image(img_m)\n",
    "img.show(figsize=(18,4))"
   ]
  },
  {
   "cell_type": "markdown",
   "metadata": {},
   "source": [
    "### Log Facies"
   ]
  },
  {
   "cell_type": "markdown",
   "metadata": {},
   "source": [
    "<pre>\n",
    "            ▪ 0 (None), \n",
    "            ▪ 1 (Symmetrical), Hour glass (Prograding and retrograding)\n",
    "            ▪ 2 (Cylindrical) Blocky sst (Aggrading)\n",
    "            ▪ 3 (Funnel) Coarsening up (Prograding)\n",
    "            ▪ 4 (Bell) Fining up (Retrograding)\n",
    "</pre>\n",
    "\n"
   ]
  },
  {
   "cell_type": "code",
   "execution_count": 48,
   "metadata": {},
   "outputs": [],
   "source": [
    "codes = array(['Background', 'None', 'Symmetrical', 'Cylindrical', 'Funnel', 'Bell'])"
   ]
  },
  {
   "cell_type": "code",
   "execution_count": 49,
   "metadata": {},
   "outputs": [
    {
     "data": {
      "text/plain": [
       "(array([ 275, 1100]), tensor([[[0, 0, 0,  ..., 0, 0, 0],\n",
       "          [0, 0, 0,  ..., 0, 0, 0],\n",
       "          [0, 0, 0,  ..., 0, 0, 0],\n",
       "          ...,\n",
       "          [1, 1, 1,  ..., 1, 1, 1],\n",
       "          [1, 1, 1,  ..., 1, 1, 1],\n",
       "          [1, 1, 1,  ..., 1, 1, 1]]]))"
      ]
     },
     "execution_count": 49,
     "metadata": {},
     "output_type": "execute_result"
    }
   ],
   "source": [
    "src_size = np.array(mask.shape[1:])\n",
    "src_size,mask.data"
   ]
  },
  {
   "cell_type": "code",
   "execution_count": 50,
   "metadata": {},
   "outputs": [
    {
     "data": {
      "text/plain": [
       "(array([ 275, 1100]),\n",
       " tensor([[[1.0000, 1.0000, 1.0000,  ..., 1.0000, 1.0000, 1.0000],\n",
       "          [1.0000, 1.0000, 1.0000,  ..., 1.0000, 1.0000, 1.0000],\n",
       "          [1.0000, 1.0000, 1.0000,  ..., 1.0000, 1.0000, 1.0000],\n",
       "          ...,\n",
       "          [0.5843, 0.6392, 0.6980,  ..., 0.7961, 0.8235, 0.8000],\n",
       "          [0.5843, 0.6392, 0.6980,  ..., 0.7961, 0.8235, 0.8000],\n",
       "          [0.5843, 0.6392, 0.6980,  ..., 0.7961, 0.8235, 0.8000]],\n",
       " \n",
       "         [[1.0000, 1.0000, 1.0000,  ..., 1.0000, 1.0000, 1.0000],\n",
       "          [1.0000, 1.0000, 1.0000,  ..., 1.0000, 1.0000, 1.0000],\n",
       "          [1.0000, 1.0000, 1.0000,  ..., 1.0000, 1.0000, 1.0000],\n",
       "          ...,\n",
       "          [0.7725, 0.8000, 0.8235,  ..., 0.8706, 0.8902, 0.8745],\n",
       "          [0.7725, 0.8000, 0.8235,  ..., 0.8706, 0.8902, 0.8745],\n",
       "          [0.7725, 0.8000, 0.8235,  ..., 0.8706, 0.8902, 0.8745]],\n",
       " \n",
       "         [[1.0000, 1.0000, 1.0000,  ..., 1.0000, 1.0000, 1.0000],\n",
       "          [1.0000, 1.0000, 1.0000,  ..., 1.0000, 1.0000, 1.0000],\n",
       "          [1.0000, 1.0000, 1.0000,  ..., 1.0000, 1.0000, 1.0000],\n",
       "          ...,\n",
       "          [0.8745, 0.8902, 0.9098,  ..., 0.9451, 0.9529, 0.9451],\n",
       "          [0.8745, 0.8902, 0.9098,  ..., 0.9451, 0.9529, 0.9451],\n",
       "          [0.8745, 0.8902, 0.9098,  ..., 0.9451, 0.9529, 0.9451]]]))"
      ]
     },
     "execution_count": 50,
     "metadata": {},
     "output_type": "execute_result"
    }
   ],
   "source": [
    "gr_size = np.array(img_gr.shape[1:])\n",
    "gr_size,img_gr.data"
   ]
  },
  {
   "cell_type": "markdown",
   "metadata": {},
   "source": [
    "<pre>\n",
    "Need data layout:\n",
    "    data/\n",
    "        images/\n",
    "        labels/ #masks - for camvid same name as image but with _P postfix (before .png)\n",
    "        codes.txt #text with each label on sep line\n",
    "</pre>"
   ]
  },
  {
   "cell_type": "code",
   "execution_count": 51,
   "metadata": {},
   "outputs": [
    {
     "data": {
      "text/plain": [
       "PosixPath('data/train_images/mask_fill/train/images')"
      ]
     },
     "execution_count": 51,
     "metadata": {},
     "output_type": "execute_result"
    }
   ],
   "source": [
    "train_img"
   ]
  },
  {
   "cell_type": "code",
   "execution_count": 52,
   "metadata": {},
   "outputs": [],
   "source": [
    "df_val=pd.read_csv(train_path/'val_20pct.csv', header=None)"
   ]
  },
  {
   "cell_type": "code",
   "execution_count": 53,
   "metadata": {},
   "outputs": [
    {
     "data": {
      "text/html": [
       "<div>\n",
       "<style scoped>\n",
       "    .dataframe tbody tr th:only-of-type {\n",
       "        vertical-align: middle;\n",
       "    }\n",
       "\n",
       "    .dataframe tbody tr th {\n",
       "        vertical-align: top;\n",
       "    }\n",
       "\n",
       "    .dataframe thead th {\n",
       "        text-align: right;\n",
       "    }\n",
       "</style>\n",
       "<table border=\"1\" class=\"dataframe\">\n",
       "  <thead>\n",
       "    <tr style=\"text-align: right;\">\n",
       "      <th></th>\n",
       "      <th>0</th>\n",
       "    </tr>\n",
       "  </thead>\n",
       "  <tbody>\n",
       "    <tr>\n",
       "      <td>0</td>\n",
       "      <td>well_87.png</td>\n",
       "    </tr>\n",
       "    <tr>\n",
       "      <td>1</td>\n",
       "      <td>well_154.png</td>\n",
       "    </tr>\n",
       "    <tr>\n",
       "      <td>2</td>\n",
       "      <td>well_3917.png</td>\n",
       "    </tr>\n",
       "    <tr>\n",
       "      <td>3</td>\n",
       "      <td>well_444.png</td>\n",
       "    </tr>\n",
       "    <tr>\n",
       "      <td>4</td>\n",
       "      <td>well_875.png</td>\n",
       "    </tr>\n",
       "  </tbody>\n",
       "</table>\n",
       "</div>"
      ],
      "text/plain": [
       "               0\n",
       "0    well_87.png\n",
       "1   well_154.png\n",
       "2  well_3917.png\n",
       "3   well_444.png\n",
       "4   well_875.png"
      ]
     },
     "execution_count": 53,
     "metadata": {},
     "output_type": "execute_result"
    }
   ],
   "source": [
    "df_val.head()"
   ]
  },
  {
   "cell_type": "code",
   "execution_count": 54,
   "metadata": {},
   "outputs": [
    {
     "data": {
      "text/plain": [
       "800"
      ]
     },
     "execution_count": 54,
     "metadata": {},
     "output_type": "execute_result"
    }
   ],
   "source": [
    "len(df_val)"
   ]
  },
  {
   "cell_type": "markdown",
   "metadata": {},
   "source": [
    "## Datasets"
   ]
  },
  {
   "cell_type": "code",
   "execution_count": 55,
   "metadata": {},
   "outputs": [],
   "source": [
    "bs = 16\n",
    "#size=src_size//2\n",
    "#squish to square\n",
    "\n",
    "size=(tgt_height, tgt_height)"
   ]
  },
  {
   "cell_type": "code",
   "execution_count": 56,
   "metadata": {},
   "outputs": [],
   "source": [
    "tfms=get_transforms(do_flip=False, flip_vert=False, max_rotate=0., max_zoom=1.1, max_lighting=0.0, \\\n",
    "                    max_warp=0., p_affine=0., p_lighting=0.0)"
   ]
  },
  {
   "cell_type": "code",
   "execution_count": 57,
   "metadata": {},
   "outputs": [],
   "source": [
    "if SUBSET_DATA:\n",
    "    #when SegmentationLabelList is overridden, need to pass in classes early\n",
    "    src = (SegItemListCustom.from_folder(train_img)\n",
    "       .split_by_fname_file('../val_sub_20pct.csv')\n",
    "       .label_from_func(get_y_fn, classes=codes))\n",
    "else:\n",
    "    src = (SegItemListCustom.from_folder(train_img)\n",
    "       .split_by_fname_file('../val_20pct.csv', path=train_img)\n",
    "       #.split_by_rand_pct()\n",
    "       .label_from_func(get_y_fn, classes=codes))"
   ]
  },
  {
   "cell_type": "code",
   "execution_count": 58,
   "metadata": {},
   "outputs": [
    {
     "data": {
      "text/plain": [
       "PosixPath('data/train_images/mask_fill/train/images')"
      ]
     },
     "execution_count": 58,
     "metadata": {},
     "output_type": "execute_result"
    }
   ],
   "source": [
    "train_img"
   ]
  },
  {
   "cell_type": "code",
   "execution_count": 59,
   "metadata": {},
   "outputs": [
    {
     "data": {
      "text/plain": [
       "3200"
      ]
     },
     "execution_count": 59,
     "metadata": {},
     "output_type": "execute_result"
    }
   ],
   "source": [
    "len(src.train.x)"
   ]
  },
  {
   "cell_type": "code",
   "execution_count": 60,
   "metadata": {},
   "outputs": [
    {
     "data": {
      "text/plain": [
       "__main__.SegItemListCustom"
      ]
     },
     "execution_count": 60,
     "metadata": {},
     "output_type": "execute_result"
    }
   ],
   "source": [
    "type(src.train.x)"
   ]
  },
  {
   "cell_type": "markdown",
   "metadata": {},
   "source": [
    "<pre>\n",
    "SegmentationItemList->ImageList->ItemList\n",
    "ItemList.__getitem__\n",
    "\n",
    "ImageDataBunch->DataBunch\n",
    "DataBunch.dl = DeviceDataLoader\n",
    "</pre>"
   ]
  },
  {
   "cell_type": "code",
   "execution_count": 61,
   "metadata": {},
   "outputs": [],
   "source": [
    "data = (src.transform(tfms, size=size, tfm_y=True)\n",
    "        .databunch(bs=bs)\n",
    "        .normalize(imagenet_stats))"
   ]
  },
  {
   "cell_type": "code",
   "execution_count": 62,
   "metadata": {},
   "outputs": [
    {
     "data": {
      "text/plain": [
       "torch.Size([3, 275, 1100])"
      ]
     },
     "execution_count": 62,
     "metadata": {},
     "output_type": "execute_result"
    }
   ],
   "source": [
    "data.train_ds.x[0].shape"
   ]
  },
  {
   "cell_type": "code",
   "execution_count": 63,
   "metadata": {},
   "outputs": [
    {
     "data": {
      "text/plain": [
       "torch.Size([1, 275, 1100])"
      ]
     },
     "execution_count": 63,
     "metadata": {},
     "output_type": "execute_result"
    }
   ],
   "source": [
    "data.train_ds.y[0].shape"
   ]
  },
  {
   "cell_type": "code",
   "execution_count": 64,
   "metadata": {},
   "outputs": [
    {
     "data": {
      "image/jpeg": "[encoded data removed]",
      "image/png": "[encoded data removed]",
      "text/plain": [
       "ImageSegment (1, 275, 1100)"
      ]
     },
     "execution_count": 64,
     "metadata": {},
     "output_type": "execute_result"
    }
   ],
   "source": [
    "data.train_ds.y[0]"
   ]
  },
  {
   "cell_type": "code",
   "execution_count": 65,
   "metadata": {},
   "outputs": [
    {
     "data": {
      "text/plain": [
       "LabelLists;\n",
       "\n",
       "Train: LabelList (3200 items)\n",
       "x: SegItemListCustom\n",
       "Image (3, 256, 256),Image (3, 256, 256),Image (3, 256, 256),Image (3, 256, 256),Image (3, 256, 256)\n",
       "y: SegLabelListCustom\n",
       "ImageSegment (1, 256, 256),ImageSegment (1, 256, 256),ImageSegment (1, 256, 256),ImageSegment (1, 256, 256),ImageSegment (1, 256, 256)\n",
       "Path: data/train_images/mask_fill/train/images;\n",
       "\n",
       "Valid: LabelList (800 items)\n",
       "x: SegItemListCustom\n",
       "Image (3, 256, 256),Image (3, 256, 256),Image (3, 256, 256),Image (3, 256, 256),Image (3, 256, 256)\n",
       "y: SegLabelListCustom\n",
       "ImageSegment (1, 256, 256),ImageSegment (1, 256, 256),ImageSegment (1, 256, 256),ImageSegment (1, 256, 256),ImageSegment (1, 256, 256)\n",
       "Path: data/train_images/mask_fill/train/images;\n",
       "\n",
       "Test: None"
      ]
     },
     "execution_count": 65,
     "metadata": {},
     "output_type": "execute_result"
    }
   ],
   "source": [
    "data.label_list"
   ]
  },
  {
   "cell_type": "code",
   "execution_count": 66,
   "metadata": {},
   "outputs": [
    {
     "data": {
      "image/png": "[encoded data removed]",
      "text/plain": [
       "<Figure size 720x504 with 16 Axes>"
      ]
     },
     "metadata": {
      "needs_background": "light"
     },
     "output_type": "display_data"
    }
   ],
   "source": [
    "data.show_batch(4, figsize=(10,7))"
   ]
  },
  {
   "cell_type": "code",
   "execution_count": 67,
   "metadata": {},
   "outputs": [
    {
     "data": {
      "image/png": "[encoded data removed]",
      "text/plain": [
       "<Figure size 720x504 with 4 Axes>"
      ]
     },
     "metadata": {
      "needs_background": "light"
     },
     "output_type": "display_data"
    }
   ],
   "source": [
    "data.show_batch(2, figsize=(10,7), ds_type=DatasetType.Valid)"
   ]
  },
  {
   "cell_type": "markdown",
   "metadata": {},
   "source": [
    "### Model"
   ]
  },
  {
   "cell_type": "markdown",
   "metadata": {},
   "source": [
    "Eval criterion:\n",
    "    \n",
    "Classification Accuracy (percentage of correctly predicted rows)"
   ]
  },
  {
   "cell_type": "code",
   "execution_count": 68,
   "metadata": {},
   "outputs": [],
   "source": [
    "def dice(pred, targs):\n",
    "    pred = (pred>0).float()\n",
    "    return 2. * (pred*targs).sum() / (pred+targs).sum()\n",
    "\n",
    "def iou(input:Tensor, targs:Tensor) -> Rank0Tensor:\n",
    "    \"IoU coefficient metric for binary target.\"\n",
    "    n = targs.shape[0]\n",
    "    input = input.argmax(dim=1).view(n,-1)\n",
    "    targs = targs.view(n,-1)\n",
    "    intersect = (input*targs).sum().float()\n",
    "    union = (input+targs).sum().float()\n",
    "    return intersect / (union-intersect+1.0)"
   ]
  },
  {
   "cell_type": "code",
   "execution_count": 69,
   "metadata": {},
   "outputs": [
    {
     "name": "stdout",
     "output_type": "stream",
     "text": [
      "0\n"
     ]
    }
   ],
   "source": [
    "name2id = {v:k for k,v in enumerate(codes)}\n",
    "void_code = name2id['Background']\n",
    "print(void_code)\n",
    "\n",
    "def acc_camvid(input, target):\n",
    "    #print(f'in: {input.shape}, tgt: {target.shape}')\n",
    "    target = target.squeeze(1)\n",
    "    mask = target != void_code\n",
    "    return (input.argmax(dim=1)[mask]==target[mask]).float().mean()"
   ]
  },
  {
   "cell_type": "code",
   "execution_count": 70,
   "metadata": {},
   "outputs": [
    {
     "data": {
      "text/plain": [
       "ImageDataBunch;\n",
       "\n",
       "Train: LabelList (3200 items)\n",
       "x: SegItemListCustom\n",
       "Image (3, 256, 256),Image (3, 256, 256),Image (3, 256, 256),Image (3, 256, 256),Image (3, 256, 256)\n",
       "y: SegLabelListCustom\n",
       "ImageSegment (1, 256, 256),ImageSegment (1, 256, 256),ImageSegment (1, 256, 256),ImageSegment (1, 256, 256),ImageSegment (1, 256, 256)\n",
       "Path: data/train_images/mask_fill/train/images;\n",
       "\n",
       "Valid: LabelList (800 items)\n",
       "x: SegItemListCustom\n",
       "Image (3, 256, 256),Image (3, 256, 256),Image (3, 256, 256),Image (3, 256, 256),Image (3, 256, 256)\n",
       "y: SegLabelListCustom\n",
       "ImageSegment (1, 256, 256),ImageSegment (1, 256, 256),ImageSegment (1, 256, 256),ImageSegment (1, 256, 256),ImageSegment (1, 256, 256)\n",
       "Path: data/train_images/mask_fill/train/images;\n",
       "\n",
       "Test: None"
      ]
     },
     "execution_count": 70,
     "metadata": {},
     "output_type": "execute_result"
    }
   ],
   "source": [
    "data"
   ]
  },
  {
   "cell_type": "code",
   "execution_count": 71,
   "metadata": {},
   "outputs": [],
   "source": [
    "wd=1e-2"
   ]
  },
  {
   "cell_type": "code",
   "execution_count": 72,
   "metadata": {},
   "outputs": [],
   "source": [
    "# Create U-Net with a pretrained resnet34 as encoder\n",
    "learn = unet_learner(data, models.resnet34, metrics=acc_camvid, wd=wd).to_fp16()"
   ]
  },
  {
   "cell_type": "code",
   "execution_count": 73,
   "metadata": {},
   "outputs": [
    {
     "data": {
      "text/plain": [
       "[functools.partial(<class 'fastai.basic_train.Recorder'>, add_time=True, silent=False)]"
      ]
     },
     "execution_count": 73,
     "metadata": {},
     "output_type": "execute_result"
    }
   ],
   "source": [
    "learn.callback_fns"
   ]
  },
  {
   "cell_type": "code",
   "execution_count": 74,
   "metadata": {},
   "outputs": [
    {
     "data": {
      "text/plain": [
       "FlattenedLoss of CrossEntropyLoss()"
      ]
     },
     "execution_count": 74,
     "metadata": {},
     "output_type": "execute_result"
    }
   ],
   "source": [
    "#learn.loss_func=dice\n",
    "learn.loss_func"
   ]
  },
  {
   "cell_type": "code",
   "execution_count": 75,
   "metadata": {},
   "outputs": [
    {
     "data": {
      "text/plain": [
       "tensor([[[[0.1663, 0.1821, 0.2187,  ..., 0.2591, 0.2724, 0.2225],\n",
       "          [0.1920, 0.2206, 0.2711,  ..., 0.2817, 0.2936, 0.2270],\n",
       "          [0.1827, 0.2201, 0.2588,  ..., 0.1624, 0.1712, 0.1437],\n",
       "          ...,\n",
       "          [0.1424, 0.1378, 0.1671,  ..., 0.1114, 0.1606, 0.2255],\n",
       "          [0.1630, 0.1478, 0.1986,  ..., 0.0963, 0.1173, 0.1797],\n",
       "          [0.1999, 0.1577, 0.1866,  ..., 0.1109, 0.1558, 0.1794]],\n",
       "\n",
       "         [[0.0822, 0.0363, 0.0171,  ..., 0.0206, 0.0183, 0.0211],\n",
       "          [0.0952, 0.0287, 0.0114,  ..., 0.0128, 0.0105, 0.0196],\n",
       "          [0.0765, 0.0328, 0.0228,  ..., 0.0075, 0.0078, 0.0164],\n",
       "          ...,\n",
       "          [0.0581, 0.0242, 0.0190,  ..., 0.0276, 0.0220, 0.0226],\n",
       "          [0.0828, 0.0459, 0.0224,  ..., 0.0508, 0.0294, 0.0340],\n",
       "          [0.0727, 0.0663, 0.0253,  ..., 0.0697, 0.0544, 0.0581]],\n",
       "\n",
       "         [[0.1466, 0.1123, 0.0780,  ..., 0.1366, 0.0975, 0.1280],\n",
       "          [0.1197, 0.0760, 0.0686,  ..., 0.1197, 0.0616, 0.1177],\n",
       "          [0.1762, 0.0975, 0.1749,  ..., 0.1491, 0.0905, 0.0928],\n",
       "          ...,\n",
       "          [0.1611, 0.0984, 0.0702,  ..., 0.0857, 0.1806, 0.1651],\n",
       "          [0.1320, 0.1127, 0.0612,  ..., 0.0790, 0.2079, 0.1578],\n",
       "          [0.1113, 0.0802, 0.0346,  ..., 0.0628, 0.2006, 0.1720]],\n",
       "\n",
       "         [[0.0630, 0.0455, 0.0446,  ..., 0.0413, 0.0531, 0.0647],\n",
       "          [0.0571, 0.0242, 0.0305,  ..., 0.0306, 0.0539, 0.0571],\n",
       "          [0.0711, 0.0434, 0.0264,  ..., 0.0365, 0.0531, 0.0481],\n",
       "          ...,\n",
       "          [0.1053, 0.0719, 0.0556,  ..., 0.0413, 0.0642, 0.0477],\n",
       "          [0.1176, 0.0876, 0.0776,  ..., 0.0774, 0.0861, 0.0687],\n",
       "          [0.1088, 0.1008, 0.0890,  ..., 0.1192, 0.1012, 0.0941]],\n",
       "\n",
       "         [[0.2795, 0.3972, 0.2412,  ..., 0.2199, 0.1939, 0.1824],\n",
       "          [0.4052, 0.5321, 0.4172,  ..., 0.3077, 0.3491, 0.1661],\n",
       "          [0.3386, 0.3769, 0.3539,  ..., 0.3221, 0.3113, 0.1587],\n",
       "          ...,\n",
       "          [0.2600, 0.3573, 0.1861,  ..., 0.2146, 0.2398, 0.1316],\n",
       "          [0.1738, 0.2227, 0.1230,  ..., 0.2354, 0.2617, 0.1508],\n",
       "          [0.1872, 0.1803, 0.0692,  ..., 0.1852, 0.1949, 0.1551]],\n",
       "\n",
       "         [[0.2623, 0.2267, 0.4004,  ..., 0.3226, 0.3648, 0.3813],\n",
       "          [0.1309, 0.1185, 0.2013,  ..., 0.2474, 0.2313, 0.4124],\n",
       "          [0.1548, 0.2292, 0.1633,  ..., 0.3224, 0.3660, 0.5404],\n",
       "          ...,\n",
       "          [0.2731, 0.3104, 0.5019,  ..., 0.5194, 0.3327, 0.4075],\n",
       "          [0.3308, 0.3833, 0.5172,  ..., 0.4611, 0.2977, 0.4089],\n",
       "          [0.3201, 0.4147, 0.5953,  ..., 0.4522, 0.2931, 0.3414]]],\n",
       "\n",
       "\n",
       "        [[[0.1683, 0.1855, 0.2207,  ..., 0.2693, 0.2778, 0.2305],\n",
       "          [0.1920, 0.2219, 0.2745,  ..., 0.2666, 0.2901, 0.2348],\n",
       "          [0.1850, 0.2266, 0.2552,  ..., 0.1440, 0.1709, 0.1405],\n",
       "          ...,\n",
       "          [0.1646, 0.1318, 0.1682,  ..., 0.0797, 0.1975, 0.2269],\n",
       "          [0.1930, 0.1345, 0.2045,  ..., 0.0685, 0.1458, 0.1907],\n",
       "          [0.2146, 0.1668, 0.1767,  ..., 0.0808, 0.1874, 0.2295]],\n",
       "\n",
       "         [[0.0810, 0.0357, 0.0164,  ..., 0.0210, 0.0182, 0.0212],\n",
       "          [0.0939, 0.0284, 0.0106,  ..., 0.0121, 0.0108, 0.0192],\n",
       "          [0.0723, 0.0308, 0.0228,  ..., 0.0060, 0.0073, 0.0153],\n",
       "          ...,\n",
       "          [0.0679, 0.0275, 0.0280,  ..., 0.0436, 0.0239, 0.0293],\n",
       "          [0.0893, 0.0551, 0.0250,  ..., 0.0454, 0.0274, 0.0404],\n",
       "          [0.0722, 0.0623, 0.0280,  ..., 0.0597, 0.0495, 0.0660]],\n",
       "\n",
       "         [[0.1457, 0.1099, 0.0745,  ..., 0.1271, 0.1013, 0.1318],\n",
       "          [0.1176, 0.0738, 0.0627,  ..., 0.1067, 0.0648, 0.1189],\n",
       "          [0.1685, 0.0904, 0.1552,  ..., 0.1175, 0.0852, 0.0863],\n",
       "          ...,\n",
       "          [0.1667, 0.0920, 0.0972,  ..., 0.1545, 0.1649, 0.1056],\n",
       "          [0.1580, 0.1075, 0.0788,  ..., 0.1114, 0.1711, 0.1339],\n",
       "          [0.1145, 0.0892, 0.0517,  ..., 0.1262, 0.1535, 0.1245]],\n",
       "\n",
       "         [[0.0633, 0.0451, 0.0444,  ..., 0.0429, 0.0533, 0.0670],\n",
       "          [0.0570, 0.0240, 0.0299,  ..., 0.0294, 0.0565, 0.0560],\n",
       "          [0.0719, 0.0434, 0.0263,  ..., 0.0318, 0.0545, 0.0478],\n",
       "          ...,\n",
       "          [0.1242, 0.0802, 0.0381,  ..., 0.0502, 0.0690, 0.0406],\n",
       "          [0.1149, 0.0771, 0.0681,  ..., 0.0636, 0.1002, 0.0708],\n",
       "          [0.1047, 0.0893, 0.0964,  ..., 0.0953, 0.1256, 0.0947]],\n",
       "\n",
       "         [[0.2787, 0.3994, 0.2489,  ..., 0.2144, 0.2017, 0.1797],\n",
       "          [0.4076, 0.5340, 0.4322,  ..., 0.3294, 0.3676, 0.1672],\n",
       "          [0.3472, 0.3836, 0.3811,  ..., 0.3869, 0.3286, 0.1615],\n",
       "          ...,\n",
       "          [0.2191, 0.3191, 0.2707,  ..., 0.1680, 0.1620, 0.0955],\n",
       "          [0.1453, 0.2006, 0.1271,  ..., 0.1961, 0.1825, 0.1056],\n",
       "          [0.1665, 0.1761, 0.0745,  ..., 0.1897, 0.1341, 0.1068]],\n",
       "\n",
       "         [[0.2629, 0.2245, 0.3951,  ..., 0.3253, 0.3477, 0.3699],\n",
       "          [0.1318, 0.1178, 0.1901,  ..., 0.2559, 0.2101, 0.4038],\n",
       "          [0.1551, 0.2254, 0.1595,  ..., 0.3138, 0.3535, 0.5485],\n",
       "          ...,\n",
       "          [0.2576, 0.3494, 0.3978,  ..., 0.5040, 0.3825, 0.5022],\n",
       "          [0.2995, 0.4252, 0.4965,  ..., 0.5150, 0.3730, 0.4585],\n",
       "          [0.3274, 0.4163, 0.5727,  ..., 0.4482, 0.3498, 0.3785]]],\n",
       "\n",
       "\n",
       "        [[[0.1690, 0.1844, 0.2227,  ..., 0.2677, 0.2770, 0.2292],\n",
       "          [0.1959, 0.2272, 0.2698,  ..., 0.2618, 0.2948, 0.2384],\n",
       "          [0.1810, 0.2174, 0.2459,  ..., 0.1367, 0.1791, 0.1409],\n",
       "          ...,\n",
       "          [0.1478, 0.1384, 0.1731,  ..., 0.0857, 0.1955, 0.1830],\n",
       "          [0.1778, 0.1276, 0.1358,  ..., 0.0830, 0.1597, 0.1468],\n",
       "          [0.1885, 0.1663, 0.1452,  ..., 0.0821, 0.1914, 0.1666]],\n",
       "\n",
       "         [[0.0827, 0.0362, 0.0174,  ..., 0.0204, 0.0186, 0.0218],\n",
       "          [0.0947, 0.0284, 0.0116,  ..., 0.0121, 0.0106, 0.0199],\n",
       "          [0.0757, 0.0330, 0.0249,  ..., 0.0059, 0.0070, 0.0150],\n",
       "          ...,\n",
       "          [0.0745, 0.0334, 0.0254,  ..., 0.0655, 0.0554, 0.0613],\n",
       "          [0.0813, 0.0536, 0.0276,  ..., 0.0783, 0.0447, 0.0554],\n",
       "          [0.0736, 0.0569, 0.0270,  ..., 0.1108, 0.0680, 0.0875]],\n",
       "\n",
       "         [[0.1421, 0.1077, 0.0769,  ..., 0.1323, 0.0998, 0.1317],\n",
       "          [0.1141, 0.0719, 0.0654,  ..., 0.1102, 0.0662, 0.1203],\n",
       "          [0.1712, 0.0977, 0.1757,  ..., 0.1201, 0.0792, 0.0823],\n",
       "          ...,\n",
       "          [0.1403, 0.0651, 0.0941,  ..., 0.2461, 0.1498, 0.2083],\n",
       "          [0.1281, 0.1172, 0.1050,  ..., 0.1593, 0.1374, 0.2295],\n",
       "          [0.1085, 0.0841, 0.0551,  ..., 0.1971, 0.0969, 0.2473]],\n",
       "\n",
       "         [[0.0647, 0.0459, 0.0448,  ..., 0.0432, 0.0507, 0.0661],\n",
       "          [0.0581, 0.0251, 0.0305,  ..., 0.0305, 0.0560, 0.0563],\n",
       "          [0.0710, 0.0455, 0.0268,  ..., 0.0319, 0.0492, 0.0454],\n",
       "          ...,\n",
       "          [0.1159, 0.0777, 0.0416,  ..., 0.0700, 0.0887, 0.0748],\n",
       "          [0.1207, 0.0889, 0.0660,  ..., 0.0870, 0.0875, 0.0726],\n",
       "          [0.1144, 0.0987, 0.0816,  ..., 0.1126, 0.1218, 0.0913]],\n",
       "\n",
       "         [[0.2737, 0.3957, 0.2435,  ..., 0.2160, 0.2016, 0.1727],\n",
       "          [0.4035, 0.5225, 0.4234,  ..., 0.3275, 0.3595, 0.1708],\n",
       "          [0.3414, 0.3693, 0.3595,  ..., 0.3694, 0.3229, 0.1639],\n",
       "          ...,\n",
       "          [0.2083, 0.3011, 0.2707,  ..., 0.1635, 0.1864, 0.1436],\n",
       "          [0.1292, 0.2005, 0.1409,  ..., 0.2486, 0.2361, 0.1757],\n",
       "          [0.1540, 0.1715, 0.0721,  ..., 0.2301, 0.1761, 0.1591]],\n",
       "\n",
       "         [[0.2677, 0.2300, 0.3946,  ..., 0.3206, 0.3524, 0.3785],\n",
       "          [0.1337, 0.1248, 0.1993,  ..., 0.2580, 0.2129, 0.3943],\n",
       "          [0.1597, 0.2372, 0.1672,  ..., 0.3360, 0.3625, 0.5525],\n",
       "          ...,\n",
       "          [0.3132, 0.3843, 0.3951,  ..., 0.3692, 0.3242, 0.3290],\n",
       "          [0.3630, 0.4122, 0.5246,  ..., 0.3437, 0.3346, 0.3201],\n",
       "          [0.3610, 0.4226, 0.6191,  ..., 0.2673, 0.3457, 0.2483]]],\n",
       "\n",
       "\n",
       "        ...,\n",
       "\n",
       "\n",
       "        [[[0.1696, 0.1856, 0.2208,  ..., 0.2530, 0.2891, 0.2349],\n",
       "          [0.1926, 0.2216, 0.2711,  ..., 0.2602, 0.2904, 0.2406],\n",
       "          [0.1788, 0.2163, 0.2604,  ..., 0.1473, 0.1625, 0.1529],\n",
       "          ...,\n",
       "          [0.1723, 0.1121, 0.0492,  ..., 0.0988, 0.2151, 0.1955],\n",
       "          [0.1440, 0.1381, 0.0776,  ..., 0.1028, 0.1285, 0.1501],\n",
       "          [0.1705, 0.0993, 0.0719,  ..., 0.1027, 0.1543, 0.1600]],\n",
       "\n",
       "         [[0.0807, 0.0350, 0.0165,  ..., 0.0211, 0.0188, 0.0213],\n",
       "          [0.0927, 0.0277, 0.0106,  ..., 0.0137, 0.0118, 0.0199],\n",
       "          [0.0731, 0.0313, 0.0225,  ..., 0.0095, 0.0086, 0.0171],\n",
       "          ...,\n",
       "          [0.0560, 0.0354, 0.0382,  ..., 0.0410, 0.0269, 0.0326],\n",
       "          [0.0759, 0.0568, 0.0380,  ..., 0.0574, 0.0338, 0.0471],\n",
       "          [0.0660, 0.1145, 0.0775,  ..., 0.0937, 0.0669, 0.0826]],\n",
       "\n",
       "         [[0.1439, 0.1078, 0.0734,  ..., 0.1215, 0.0955, 0.1299],\n",
       "          [0.1158, 0.0719, 0.0633,  ..., 0.1046, 0.0616, 0.1207],\n",
       "          [0.1688, 0.0939, 0.1672,  ..., 0.1638, 0.0954, 0.0965],\n",
       "          ...,\n",
       "          [0.1136, 0.2997, 0.4489,  ..., 0.1590, 0.1321, 0.1744],\n",
       "          [0.0860, 0.3025, 0.3862,  ..., 0.1713, 0.1673, 0.1961],\n",
       "          [0.0701, 0.2115, 0.2622,  ..., 0.1613, 0.1209, 0.2156]],\n",
       "\n",
       "         [[0.0615, 0.0436, 0.0439,  ..., 0.0443, 0.0511, 0.0652],\n",
       "          [0.0562, 0.0237, 0.0297,  ..., 0.0312, 0.0552, 0.0565],\n",
       "          [0.0724, 0.0441, 0.0248,  ..., 0.0365, 0.0555, 0.0461],\n",
       "          ...,\n",
       "          [0.0925, 0.0381, 0.0274,  ..., 0.0563, 0.0712, 0.0529],\n",
       "          [0.0870, 0.0701, 0.0480,  ..., 0.0844, 0.0922, 0.0673],\n",
       "          [0.0938, 0.0654, 0.0769,  ..., 0.1083, 0.1103, 0.0883]],\n",
       "\n",
       "         [[0.2843, 0.4067, 0.2502,  ..., 0.2210, 0.1944, 0.1804],\n",
       "          [0.4098, 0.5335, 0.4307,  ..., 0.3363, 0.3564, 0.1576],\n",
       "          [0.3538, 0.3894, 0.3640,  ..., 0.3243, 0.3223, 0.1606],\n",
       "          ...,\n",
       "          [0.2702, 0.3793, 0.2638,  ..., 0.2254, 0.2064, 0.1466],\n",
       "          [0.1489, 0.1716, 0.1380,  ..., 0.2448, 0.2304, 0.1615],\n",
       "          [0.1636, 0.1805, 0.1891,  ..., 0.2505, 0.1697, 0.1494]],\n",
       "\n",
       "         [[0.2601, 0.2213, 0.3952,  ..., 0.3390, 0.3512, 0.3683],\n",
       "          [0.1328, 0.1216, 0.1945,  ..., 0.2540, 0.2247, 0.4046],\n",
       "          [0.1531, 0.2249, 0.1609,  ..., 0.3186, 0.3557, 0.5267],\n",
       "          ...,\n",
       "          [0.2954, 0.1354, 0.1725,  ..., 0.4194, 0.3484, 0.3980],\n",
       "          [0.4583, 0.2609, 0.3123,  ..., 0.3392, 0.3480, 0.3778],\n",
       "          [0.4361, 0.3288, 0.3223,  ..., 0.2836, 0.3779, 0.3041]]],\n",
       "\n",
       "\n",
       "        [[[0.1648, 0.1824, 0.2209,  ..., 0.2655, 0.2740, 0.2251],\n",
       "          [0.1896, 0.2220, 0.2791,  ..., 0.2550, 0.2921, 0.2302],\n",
       "          [0.1800, 0.2163, 0.2526,  ..., 0.1403, 0.1856, 0.1415],\n",
       "          ...,\n",
       "          [0.1418, 0.1308, 0.2180,  ..., 0.1268, 0.1567, 0.1619],\n",
       "          [0.1555, 0.1493, 0.2866,  ..., 0.1160, 0.1308, 0.1363],\n",
       "          [0.1819, 0.1632, 0.2294,  ..., 0.1265, 0.1249, 0.1300]],\n",
       "\n",
       "         [[0.0833, 0.0359, 0.0165,  ..., 0.0207, 0.0186, 0.0215],\n",
       "          [0.0954, 0.0278, 0.0106,  ..., 0.0120, 0.0106, 0.0192],\n",
       "          [0.0731, 0.0315, 0.0227,  ..., 0.0061, 0.0072, 0.0154],\n",
       "          ...,\n",
       "          [0.0671, 0.0242, 0.0181,  ..., 0.0497, 0.0422, 0.0428],\n",
       "          [0.0802, 0.0457, 0.0237,  ..., 0.0472, 0.0458, 0.0520],\n",
       "          [0.0613, 0.0601, 0.0307,  ..., 0.0770, 0.0742, 0.0856]],\n",
       "\n",
       "         [[0.1452, 0.1086, 0.0756,  ..., 0.1283, 0.0975, 0.1279],\n",
       "          [0.1198, 0.0729, 0.0644,  ..., 0.1075, 0.0628, 0.1172],\n",
       "          [0.1805, 0.0948, 0.1690,  ..., 0.1112, 0.0808, 0.0852],\n",
       "          ...,\n",
       "          [0.1261, 0.1038, 0.0587,  ..., 0.0725, 0.1947, 0.2407],\n",
       "          [0.1114, 0.1454, 0.0749,  ..., 0.0702, 0.2335, 0.2707],\n",
       "          [0.0944, 0.0946, 0.0447,  ..., 0.0573, 0.2475, 0.3241]],\n",
       "\n",
       "         [[0.0643, 0.0444, 0.0448,  ..., 0.0426, 0.0527, 0.0665],\n",
       "          [0.0576, 0.0236, 0.0316,  ..., 0.0298, 0.0556, 0.0568],\n",
       "          [0.0688, 0.0415, 0.0274,  ..., 0.0334, 0.0512, 0.0470],\n",
       "          ...,\n",
       "          [0.0838, 0.0627, 0.0424,  ..., 0.0506, 0.0751, 0.0537],\n",
       "          [0.1054, 0.0912, 0.0556,  ..., 0.0958, 0.0794, 0.0757],\n",
       "          [0.1057, 0.1049, 0.0663,  ..., 0.1355, 0.0995, 0.0904]],\n",
       "\n",
       "         [[0.2792, 0.4070, 0.2455,  ..., 0.2202, 0.1974, 0.1731],\n",
       "          [0.4034, 0.5334, 0.4198,  ..., 0.3339, 0.3565, 0.1696],\n",
       "          [0.3396, 0.3821, 0.3571,  ..., 0.3792, 0.3166, 0.1595],\n",
       "          ...,\n",
       "          [0.3090, 0.4394, 0.3386,  ..., 0.1394, 0.1886, 0.1218],\n",
       "          [0.1910, 0.2520, 0.1465,  ..., 0.2364, 0.2115, 0.1483],\n",
       "          [0.2200, 0.2206, 0.0855,  ..., 0.2086, 0.1829, 0.1524]],\n",
       "\n",
       "         [[0.2632, 0.2217, 0.3967,  ..., 0.3227, 0.3599, 0.3858],\n",
       "          [0.1341, 0.1203, 0.1945,  ..., 0.2617, 0.2225, 0.4070],\n",
       "          [0.1581, 0.2339, 0.1712,  ..., 0.3299, 0.3586, 0.5514],\n",
       "          ...,\n",
       "          [0.2722, 0.2391, 0.3242,  ..., 0.5609, 0.3427, 0.3792],\n",
       "          [0.3565, 0.3165, 0.4127,  ..., 0.4345, 0.2990, 0.3170],\n",
       "          [0.3367, 0.3566, 0.5434,  ..., 0.3951, 0.2711, 0.2175]]],\n",
       "\n",
       "\n",
       "        [[[0.1686, 0.1876, 0.2354,  ..., 0.2518, 0.2681, 0.2256],\n",
       "          [0.1925, 0.2273, 0.2963,  ..., 0.2669, 0.2784, 0.2215],\n",
       "          [0.1847, 0.2165, 0.2644,  ..., 0.1575, 0.1712, 0.1364],\n",
       "          ...,\n",
       "          [0.1415, 0.1159, 0.2078,  ..., 0.0678, 0.2259, 0.2411],\n",
       "          [0.1885, 0.1320, 0.1617,  ..., 0.0793, 0.1782, 0.2139],\n",
       "          [0.2046, 0.1538, 0.1494,  ..., 0.0875, 0.2103, 0.2319]],\n",
       "\n",
       "         [[0.0827, 0.0357, 0.0163,  ..., 0.0209, 0.0192, 0.0217],\n",
       "          [0.0937, 0.0286, 0.0109,  ..., 0.0118, 0.0108, 0.0200],\n",
       "          [0.0761, 0.0330, 0.0214,  ..., 0.0065, 0.0084, 0.0177],\n",
       "          ...,\n",
       "          [0.0682, 0.0275, 0.0220,  ..., 0.0309, 0.0187, 0.0284],\n",
       "          [0.0870, 0.0497, 0.0230,  ..., 0.0408, 0.0241, 0.0318],\n",
       "          [0.0748, 0.0628, 0.0223,  ..., 0.0644, 0.0411, 0.0521]],\n",
       "\n",
       "         [[0.1480, 0.1125, 0.0763,  ..., 0.1263, 0.0997, 0.1290],\n",
       "          [0.1220, 0.0755, 0.0632,  ..., 0.1089, 0.0657, 0.1193],\n",
       "          [0.1738, 0.0917, 0.1595,  ..., 0.1318, 0.0882, 0.0920],\n",
       "          ...,\n",
       "          [0.1869, 0.0920, 0.1480,  ..., 0.1319, 0.1295, 0.1143],\n",
       "          [0.1624, 0.1154, 0.0765,  ..., 0.0915, 0.1343, 0.1302],\n",
       "          [0.1197, 0.0794, 0.0411,  ..., 0.1256, 0.1482, 0.1246]],\n",
       "\n",
       "         [[0.0612, 0.0440, 0.0469,  ..., 0.0414, 0.0528, 0.0635],\n",
       "          [0.0558, 0.0233, 0.0327,  ..., 0.0286, 0.0552, 0.0570],\n",
       "          [0.0688, 0.0413, 0.0296,  ..., 0.0325, 0.0522, 0.0484],\n",
       "          ...,\n",
       "          [0.1106, 0.0690, 0.0323,  ..., 0.0299, 0.0535, 0.0401],\n",
       "          [0.1132, 0.0818, 0.0571,  ..., 0.0383, 0.0957, 0.0690],\n",
       "          [0.1045, 0.0884, 0.0754,  ..., 0.0740, 0.1043, 0.0905]],\n",
       "\n",
       "         [[0.2781, 0.3991, 0.2348,  ..., 0.2341, 0.2072, 0.1859],\n",
       "          [0.4057, 0.5236, 0.4037,  ..., 0.3262, 0.3587, 0.1724],\n",
       "          [0.3420, 0.3787, 0.3539,  ..., 0.3408, 0.3076, 0.1618],\n",
       "          ...,\n",
       "          [0.1739, 0.2575, 0.2073,  ..., 0.1903, 0.1387, 0.0842],\n",
       "          [0.1185, 0.1733, 0.1214,  ..., 0.2443, 0.2161, 0.1133],\n",
       "          [0.1389, 0.1517, 0.0563,  ..., 0.2186, 0.1570, 0.1152]],\n",
       "\n",
       "         [[0.2615, 0.2211, 0.3903,  ..., 0.3256, 0.3529, 0.3744],\n",
       "          [0.1303, 0.1215, 0.1932,  ..., 0.2576, 0.2312, 0.4098],\n",
       "          [0.1545, 0.2388, 0.1713,  ..., 0.3309, 0.3725, 0.5437],\n",
       "          ...,\n",
       "          [0.3188, 0.4381, 0.3826,  ..., 0.5493, 0.4337, 0.4919],\n",
       "          [0.3305, 0.4477, 0.5603,  ..., 0.5058, 0.3517, 0.4418],\n",
       "          [0.3574, 0.4639, 0.6555,  ..., 0.4298, 0.3390, 0.3856]]]])"
      ]
     },
     "execution_count": 75,
     "metadata": {},
     "output_type": "execute_result"
    }
   ],
   "source": [
    "learn.pred_batch()"
   ]
  },
  {
   "cell_type": "code",
   "execution_count": 76,
   "metadata": {},
   "outputs": [
    {
     "data": {
      "text/html": [],
      "text/plain": [
       "<IPython.core.display.HTML object>"
      ]
     },
     "metadata": {},
     "output_type": "display_data"
    },
    {
     "name": "stdout",
     "output_type": "stream",
     "text": [
      "LR Finder is complete, type {learner_name}.recorder.plot() to see the graph.\n"
     ]
    }
   ],
   "source": [
    "learn.lr_find()"
   ]
  },
  {
   "cell_type": "code",
   "execution_count": 77,
   "metadata": {},
   "outputs": [
    {
     "data": {
      "image/png": "[encoded data removed]",
      "text/plain": [
       "<Figure size 432x288 with 1 Axes>"
      ]
     },
     "metadata": {
      "needs_background": "light"
     },
     "output_type": "display_data"
    }
   ],
   "source": [
    "learn.recorder.plot()"
   ]
  },
  {
   "cell_type": "code",
   "execution_count": 78,
   "metadata": {},
   "outputs": [],
   "source": [
    "lr=1e-3"
   ]
  },
  {
   "cell_type": "code",
   "execution_count": 79,
   "metadata": {},
   "outputs": [
    {
     "data": {
      "text/html": [
       "<table border=\"1\" class=\"dataframe\">\n",
       "  <thead>\n",
       "    <tr style=\"text-align: left;\">\n",
       "      <th>epoch</th>\n",
       "      <th>train_loss</th>\n",
       "      <th>valid_loss</th>\n",
       "      <th>acc_camvid</th>\n",
       "      <th>time</th>\n",
       "    </tr>\n",
       "  </thead>\n",
       "  <tbody>\n",
       "    <tr>\n",
       "      <td>0</td>\n",
       "      <td>0.068179</td>\n",
       "      <td>0.049848</td>\n",
       "      <td>0.987047</td>\n",
       "      <td>01:00</td>\n",
       "    </tr>\n",
       "    <tr>\n",
       "      <td>1</td>\n",
       "      <td>0.046175</td>\n",
       "      <td>0.044683</td>\n",
       "      <td>0.983618</td>\n",
       "      <td>01:00</td>\n",
       "    </tr>\n",
       "    <tr>\n",
       "      <td>2</td>\n",
       "      <td>0.042211</td>\n",
       "      <td>0.042783</td>\n",
       "      <td>0.995993</td>\n",
       "      <td>01:00</td>\n",
       "    </tr>\n",
       "    <tr>\n",
       "      <td>3</td>\n",
       "      <td>0.039725</td>\n",
       "      <td>0.039842</td>\n",
       "      <td>0.993091</td>\n",
       "      <td>01:00</td>\n",
       "    </tr>\n",
       "    <tr>\n",
       "      <td>4</td>\n",
       "      <td>0.037212</td>\n",
       "      <td>0.039172</td>\n",
       "      <td>0.989538</td>\n",
       "      <td>01:00</td>\n",
       "    </tr>\n",
       "  </tbody>\n",
       "</table>"
      ],
      "text/plain": [
       "<IPython.core.display.HTML object>"
      ]
     },
     "metadata": {},
     "output_type": "display_data"
    }
   ],
   "source": [
    "learn.fit_one_cycle(5, slice(lr))"
   ]
  },
  {
   "cell_type": "code",
   "execution_count": 80,
   "metadata": {},
   "outputs": [
    {
     "data": {
      "text/plain": [
       "array(['Background', 'None', 'Symmetrical', 'Cylindrical', 'Funnel', 'Bell'], dtype='<U11')"
      ]
     },
     "execution_count": 80,
     "metadata": {},
     "output_type": "execute_result"
    }
   ],
   "source": [
    "learn.data.classes"
   ]
  },
  {
   "cell_type": "code",
   "execution_count": 81,
   "metadata": {},
   "outputs": [],
   "source": [
    "interp=SegmentationInterpretation.from_learner(learn)"
   ]
  },
  {
   "cell_type": "code",
   "execution_count": 82,
   "metadata": {},
   "outputs": [],
   "source": [
    "top_losses, top_idxs=interp.top_losses((128,128))"
   ]
  },
  {
   "cell_type": "code",
   "execution_count": 83,
   "metadata": {},
   "outputs": [
    {
     "data": {
      "text/plain": [
       "(tensor([0.1253, 0.1102, 0.0897,  ..., 0.0181, 0.0176, 0.0162]),\n",
       " tensor([ 584, 2447, 3056,  ...,  424,  280, 2922]))"
      ]
     },
     "execution_count": 83,
     "metadata": {},
     "output_type": "execute_result"
    }
   ],
   "source": [
    "top_losses, top_idxs"
   ]
  },
  {
   "cell_type": "code",
   "execution_count": 84,
   "metadata": {},
   "outputs": [
    {
     "data": {
      "text/plain": [
       "torch.Size([3200])"
      ]
     },
     "execution_count": 84,
     "metadata": {},
     "output_type": "execute_result"
    }
   ],
   "source": [
    "top_losses.shape"
   ]
  },
  {
   "cell_type": "code",
   "execution_count": 85,
   "metadata": {},
   "outputs": [
    {
     "data": {
      "text/plain": [
       "torch.Size([3200])"
      ]
     },
     "execution_count": 85,
     "metadata": {},
     "output_type": "execute_result"
    }
   ],
   "source": [
    "top_idxs.shape"
   ]
  },
  {
   "cell_type": "code",
   "execution_count": 86,
   "metadata": {},
   "outputs": [
    {
     "name": "stdout",
     "output_type": "stream",
     "text": [
      "tensor(0.0472)\n"
     ]
    },
    {
     "data": {
      "image/png": "[encoded data removed]",
      "text/plain": [
       "<Figure size 540x540 with 1 Axes>"
      ]
     },
     "metadata": {
      "needs_background": "light"
     },
     "output_type": "display_data"
    },
    {
     "data": {
      "image/png": "[encoded data removed]",
      "text/plain": [
       "<Figure size 1080x1080 with 2 Axes>"
      ]
     },
     "metadata": {
      "needs_background": "light"
     },
     "output_type": "display_data"
    },
    {
     "data": {
      "image/png": "[encoded data removed]",
      "text/plain": [
       "<Figure size 1080x1080 with 2 Axes>"
      ]
     },
     "metadata": {
      "needs_background": "light"
     },
     "output_type": "display_data"
    }
   ],
   "source": [
    "# show top loss\n",
    "print(top_losses[top_idxs[0]])\n",
    "interp.show_xyz(top_idxs[0], codes, sz=15)"
   ]
  },
  {
   "cell_type": "code",
   "execution_count": 87,
   "metadata": {},
   "outputs": [
    {
     "data": {
      "text/plain": [
       "(array([ 13., 206., 638., 780., 655., 443., 225., 131.,  60.,  28.,   8.,   5.,   4.,   2.,   0.,   0.,   0.,   1.,\n",
       "          0.,   1.]),\n",
       " array([0.016158, 0.021616, 0.027074, 0.032532, 0.03799 , 0.043448, 0.048906, 0.054364, 0.059822, 0.06528 , 0.070738,\n",
       "        0.076196, 0.081654, 0.087112, 0.09257 , 0.098028, 0.103486, 0.108944, 0.114403, 0.119861, 0.125319],\n",
       "       dtype=float32),\n",
       " <a list of 20 Patch objects>)"
      ]
     },
     "execution_count": 87,
     "metadata": {},
     "output_type": "execute_result"
    },
    {
     "data": {
      "image/png": "[encoded data removed]",
      "text/plain": [
       "<Figure size 432x288 with 1 Axes>"
      ]
     },
     "metadata": {
      "needs_background": "light"
     },
     "output_type": "display_data"
    }
   ],
   "source": [
    "# plot loss distribution\n",
    "plt.hist(to_np(top_losses), bins=20)"
   ]
  },
  {
   "cell_type": "code",
   "execution_count": 88,
   "metadata": {},
   "outputs": [
    {
     "data": {
      "text/plain": [
       "tensor([ 584, 2447, 3056,  281, 1577])"
      ]
     },
     "execution_count": 88,
     "metadata": {},
     "output_type": "execute_result"
    }
   ],
   "source": [
    "# top loss idxs of images\n",
    "top_idxs[:5]"
   ]
  },
  {
   "cell_type": "code",
   "execution_count": 89,
   "metadata": {},
   "outputs": [],
   "source": [
    "mean_cm, single_img_cm = interp._generate_confusion()"
   ]
  },
  {
   "cell_type": "code",
   "execution_count": 90,
   "metadata": {},
   "outputs": [
    {
     "data": {
      "text/plain": [
       "((6, 6), (800, 6, 6))"
      ]
     },
     "execution_count": 90,
     "metadata": {},
     "output_type": "execute_result"
    }
   ],
   "source": [
    "mean_cm.shape, single_img_cm.shape"
   ]
  },
  {
   "cell_type": "code",
   "execution_count": 91,
   "metadata": {},
   "outputs": [
    {
     "data": {
      "text/html": [
       "<table border=\"1\" class=\"dataframe\">\n",
       "  <thead>\n",
       "    <tr style=\"text-align: right;\">\n",
       "      <th>label</th>\n",
       "      <th>score</th>\n",
       "    </tr>\n",
       "  </thead>\n",
       "  <tbody>\n",
       "    <tr>\n",
       "      <td>None</td>\n",
       "      <td>0.989502</td>\n",
       "    </tr>\n",
       "    <tr>\n",
       "      <td>Background</td>\n",
       "      <td>0.982402</td>\n",
       "    </tr>\n",
       "    <tr>\n",
       "      <td>Symmetrical</td>\n",
       "      <td>NaN</td>\n",
       "    </tr>\n",
       "    <tr>\n",
       "      <td>Cylindrical</td>\n",
       "      <td>NaN</td>\n",
       "    </tr>\n",
       "    <tr>\n",
       "      <td>Funnel</td>\n",
       "      <td>NaN</td>\n",
       "    </tr>\n",
       "    <tr>\n",
       "      <td>Bell</td>\n",
       "      <td>NaN</td>\n",
       "    </tr>\n",
       "  </tbody>\n",
       "</table>"
      ],
      "text/plain": [
       "<IPython.core.display.HTML object>"
      ]
     },
     "metadata": {},
     "output_type": "display_data"
    },
    {
     "data": {
      "image/png": "[encoded data removed]",
      "text/plain": [
       "<Figure size 720x720 with 2 Axes>"
      ]
     },
     "metadata": {
      "needs_background": "light"
     },
     "output_type": "display_data"
    }
   ],
   "source": [
    "# global class performance\n",
    "df = interp._plot_intersect_cm(mean_cm, \"Mean of Ratio of Intersection given True Label\")"
   ]
  },
  {
   "cell_type": "code",
   "execution_count": 92,
   "metadata": {},
   "outputs": [
    {
     "data": {
      "text/html": [
       "<table border=\"1\" class=\"dataframe\">\n",
       "  <thead>\n",
       "    <tr style=\"text-align: right;\">\n",
       "      <th>label</th>\n",
       "      <th>score</th>\n",
       "    </tr>\n",
       "  </thead>\n",
       "  <tbody>\n",
       "    <tr>\n",
       "      <td>None</td>\n",
       "      <td>0.99164</td>\n",
       "    </tr>\n",
       "    <tr>\n",
       "      <td>Background</td>\n",
       "      <td>0.98272</td>\n",
       "    </tr>\n",
       "    <tr>\n",
       "      <td>Symmetrical</td>\n",
       "      <td>NaN</td>\n",
       "    </tr>\n",
       "    <tr>\n",
       "      <td>Cylindrical</td>\n",
       "      <td>NaN</td>\n",
       "    </tr>\n",
       "    <tr>\n",
       "      <td>Funnel</td>\n",
       "      <td>NaN</td>\n",
       "    </tr>\n",
       "    <tr>\n",
       "      <td>Bell</td>\n",
       "      <td>NaN</td>\n",
       "    </tr>\n",
       "  </tbody>\n",
       "</table>"
      ],
      "text/plain": [
       "<IPython.core.display.HTML object>"
      ]
     },
     "metadata": {},
     "output_type": "display_data"
    },
    {
     "data": {
      "image/png": "[encoded data removed]",
      "text/plain": [
       "<Figure size 720x720 with 2 Axes>"
      ]
     },
     "metadata": {
      "needs_background": "light"
     },
     "output_type": "display_data"
    }
   ],
   "source": [
    "# single image class performance\n",
    "i = 457\n",
    "df = interp._plot_intersect_cm(single_img_cm[i], f\"Ratio of Intersection given True Label, Image:{i}\")"
   ]
  },
  {
   "cell_type": "code",
   "execution_count": 93,
   "metadata": {},
   "outputs": [
    {
     "data": {
      "image/png": "[encoded data removed]",
      "text/plain": [
       "<Figure size 360x360 with 1 Axes>"
      ]
     },
     "metadata": {
      "needs_background": "light"
     },
     "output_type": "display_data"
    },
    {
     "data": {
      "image/png": "[encoded data removed]",
      "text/plain": [
       "<Figure size 720x720 with 2 Axes>"
      ]
     },
     "metadata": {
      "needs_background": "light"
     },
     "output_type": "display_data"
    },
    {
     "data": {
      "image/png": "[encoded data removed]",
      "text/plain": [
       "<Figure size 720x720 with 2 Axes>"
      ]
     },
     "metadata": {
      "needs_background": "light"
     },
     "output_type": "display_data"
    }
   ],
   "source": [
    "# show xyz\n",
    "interp.show_xyz(i)"
   ]
  },
  {
   "cell_type": "code",
   "execution_count": null,
   "metadata": {},
   "outputs": [],
   "source": []
  },
  {
   "cell_type": "code",
   "execution_count": null,
   "metadata": {},
   "outputs": [],
   "source": []
  },
  {
   "cell_type": "code",
   "execution_count": null,
   "metadata": {},
   "outputs": [],
   "source": []
  },
  {
   "cell_type": "code",
   "execution_count": null,
   "metadata": {},
   "outputs": [],
   "source": []
  },
  {
   "cell_type": "code",
   "execution_count": null,
   "metadata": {},
   "outputs": [],
   "source": []
  },
  {
   "cell_type": "code",
   "execution_count": null,
   "metadata": {},
   "outputs": [],
   "source": [
    "# Unfreeze the encoder (resnet34)\n",
    "learn.unfreeze()"
   ]
  },
  {
   "cell_type": "code",
   "execution_count": null,
   "metadata": {},
   "outputs": [],
   "source": [
    "learn.lr_find()"
   ]
  },
  {
   "cell_type": "code",
   "execution_count": null,
   "metadata": {},
   "outputs": [],
   "source": [
    "learn.recorder.plot()"
   ]
  },
  {
   "cell_type": "code",
   "execution_count": null,
   "metadata": {},
   "outputs": [],
   "source": [
    "# Fit one cycle of 12 epochs\n",
    "lr = 1e-4\n",
    "learn.fit_one_cycle(5, slice(lr/5, lr))"
   ]
  },
  {
   "cell_type": "code",
   "execution_count": null,
   "metadata": {},
   "outputs": [],
   "source": [
    "learn.save(f'01_03-{UID}_unet_squish-s2-r0-{DATE}')"
   ]
  },
  {
   "cell_type": "code",
   "execution_count": null,
   "metadata": {},
   "outputs": [],
   "source": [
    "learn=learn.to_fp32()"
   ]
  },
  {
   "cell_type": "code",
   "execution_count": null,
   "metadata": {},
   "outputs": [],
   "source": [
    "learn.export(f'01_03-{UID}_unet_squish-s2-r0-{DATE}.pkl')"
   ]
  },
  {
   "cell_type": "code",
   "execution_count": null,
   "metadata": {},
   "outputs": [],
   "source": [
    "print(f'01_03-{UID}_unet_squish-s2-r0-{DATE}')"
   ]
  },
  {
   "cell_type": "markdown",
   "metadata": {},
   "source": [
    "### Inference"
   ]
  },
  {
   "cell_type": "code",
   "execution_count": 91,
   "metadata": {},
   "outputs": [],
   "source": [
    "#learn = unet_learner(data, models.resnet34, metrics=acc_camvid, wd=wd).to_fp16()\n",
    "test_data = SegmentationItemList.from_folder(test_img)\n"
   ]
  },
  {
   "cell_type": "code",
   "execution_count": 93,
   "metadata": {},
   "outputs": [
    {
     "ename": "Exception",
     "evalue": "It's not possible to apply those transforms to your dataset:\n Not implemented: you can't apply transforms to this type of item (EmptyLabel)",
     "output_type": "error",
     "traceback": [
      "\u001b[0;31m---------------------------------------------------------------------------\u001b[0m",
      "\u001b[0;31mException\u001b[0m                                 Traceback (most recent call last)",
      "\u001b[0;32m/mnt/963GB/Data/Python/Courses/fastai/fastai/fastai/data_block.py\u001b[0m in \u001b[0;36m_check_kwargs\u001b[0;34m(ds, tfms, **kwargs)\u001b[0m\n\u001b[1;32m    599\u001b[0m         \u001b[0mx\u001b[0m \u001b[0;34m=\u001b[0m \u001b[0mds\u001b[0m\u001b[0;34m[\u001b[0m\u001b[0;36m0\u001b[0m\u001b[0;34m]\u001b[0m\u001b[0;34m\u001b[0m\u001b[0;34m\u001b[0m\u001b[0m\n\u001b[0;32m--> 600\u001b[0;31m         \u001b[0;32mtry\u001b[0m\u001b[0;34m:\u001b[0m \u001b[0mx\u001b[0m\u001b[0;34m.\u001b[0m\u001b[0mapply_tfms\u001b[0m\u001b[0;34m(\u001b[0m\u001b[0mtfms\u001b[0m\u001b[0;34m,\u001b[0m \u001b[0;34m**\u001b[0m\u001b[0mkwargs\u001b[0m\u001b[0;34m)\u001b[0m\u001b[0;34m\u001b[0m\u001b[0;34m\u001b[0m\u001b[0m\n\u001b[0m\u001b[1;32m    601\u001b[0m         \u001b[0;32mexcept\u001b[0m \u001b[0mException\u001b[0m \u001b[0;32mas\u001b[0m \u001b[0me\u001b[0m\u001b[0;34m:\u001b[0m\u001b[0;34m\u001b[0m\u001b[0;34m\u001b[0m\u001b[0m\n",
      "\u001b[0;32m/mnt/963GB/Data/Python/Courses/fastai/fastai/fastai/core.py\u001b[0m in \u001b[0;36mapply_tfms\u001b[0;34m(self, tfms, **kwargs)\u001b[0m\n\u001b[1;32m    187\u001b[0m         \u001b[0;34m\"Subclass this method if you want to apply data augmentation with `tfms` to this `ItemBase`.\"\u001b[0m\u001b[0;34m\u001b[0m\u001b[0;34m\u001b[0m\u001b[0m\n\u001b[0;32m--> 188\u001b[0;31m         \u001b[0;32mif\u001b[0m \u001b[0mtfms\u001b[0m\u001b[0;34m:\u001b[0m \u001b[0;32mraise\u001b[0m \u001b[0mException\u001b[0m\u001b[0;34m(\u001b[0m\u001b[0;34mf\"Not implemented: you can't apply transforms to this type of item ({self.__class__.__name__})\"\u001b[0m\u001b[0;34m)\u001b[0m\u001b[0;34m\u001b[0m\u001b[0;34m\u001b[0m\u001b[0m\n\u001b[0m\u001b[1;32m    189\u001b[0m         \u001b[0;32mreturn\u001b[0m \u001b[0mself\u001b[0m\u001b[0;34m\u001b[0m\u001b[0;34m\u001b[0m\u001b[0m\n",
      "\u001b[0;31mException\u001b[0m: Not implemented: you can't apply transforms to this type of item (EmptyLabel)",
      "\nDuring handling of the above exception, another exception occurred:\n",
      "\u001b[0;31mException\u001b[0m                                 Traceback (most recent call last)",
      "\u001b[0;32m<ipython-input-93-f35f86409735>\u001b[0m in \u001b[0;36m<module>\u001b[0;34m\u001b[0m\n\u001b[0;32m----> 1\u001b[0;31m \u001b[0mlearn\u001b[0m \u001b[0;34m=\u001b[0m \u001b[0mload_learner\u001b[0m\u001b[0;34m(\u001b[0m\u001b[0mpath\u001b[0m\u001b[0;34m=\u001b[0m\u001b[0mtrain_img\u001b[0m\u001b[0;34m,\u001b[0m \u001b[0mfile\u001b[0m\u001b[0;34m=\u001b[0m\u001b[0;34m'01_03-0d3edb45_unet_squish-s2-r0-20191214.pkl'\u001b[0m\u001b[0;34m,\u001b[0m \u001b[0mtest\u001b[0m\u001b[0;34m=\u001b[0m\u001b[0mtest_data\u001b[0m\u001b[0;34m)\u001b[0m\u001b[0;34m\u001b[0m\u001b[0;34m\u001b[0m\u001b[0m\n\u001b[0m",
      "\u001b[0;32m/mnt/963GB/Data/Python/Courses/fastai/fastai/fastai/basic_train.py\u001b[0m in \u001b[0;36mload_learner\u001b[0;34m(path, file, test, tfm_y, **db_kwargs)\u001b[0m\n\u001b[1;32m    621\u001b[0m     \u001b[0mmodel\u001b[0m \u001b[0;34m=\u001b[0m \u001b[0mstate\u001b[0m\u001b[0;34m.\u001b[0m\u001b[0mpop\u001b[0m\u001b[0;34m(\u001b[0m\u001b[0;34m'model'\u001b[0m\u001b[0;34m)\u001b[0m\u001b[0;34m\u001b[0m\u001b[0;34m\u001b[0m\u001b[0m\n\u001b[1;32m    622\u001b[0m     \u001b[0msrc\u001b[0m \u001b[0;34m=\u001b[0m \u001b[0mLabelLists\u001b[0m\u001b[0;34m.\u001b[0m\u001b[0mload_state\u001b[0m\u001b[0;34m(\u001b[0m\u001b[0mpath\u001b[0m\u001b[0;34m,\u001b[0m \u001b[0mstate\u001b[0m\u001b[0;34m.\u001b[0m\u001b[0mpop\u001b[0m\u001b[0;34m(\u001b[0m\u001b[0;34m'data'\u001b[0m\u001b[0;34m)\u001b[0m\u001b[0;34m)\u001b[0m\u001b[0;34m\u001b[0m\u001b[0;34m\u001b[0m\u001b[0m\n\u001b[0;32m--> 623\u001b[0;31m     \u001b[0;32mif\u001b[0m \u001b[0mtest\u001b[0m \u001b[0;32mis\u001b[0m \u001b[0;32mnot\u001b[0m \u001b[0;32mNone\u001b[0m\u001b[0;34m:\u001b[0m \u001b[0msrc\u001b[0m\u001b[0;34m.\u001b[0m\u001b[0madd_test\u001b[0m\u001b[0;34m(\u001b[0m\u001b[0mtest\u001b[0m\u001b[0;34m,\u001b[0m \u001b[0mtfm_y\u001b[0m\u001b[0;34m=\u001b[0m\u001b[0mtfm_y\u001b[0m\u001b[0;34m)\u001b[0m\u001b[0;34m\u001b[0m\u001b[0;34m\u001b[0m\u001b[0m\n\u001b[0m\u001b[1;32m    624\u001b[0m     \u001b[0mdata\u001b[0m \u001b[0;34m=\u001b[0m \u001b[0msrc\u001b[0m\u001b[0;34m.\u001b[0m\u001b[0mdatabunch\u001b[0m\u001b[0;34m(\u001b[0m\u001b[0;34m**\u001b[0m\u001b[0mdb_kwargs\u001b[0m\u001b[0;34m)\u001b[0m\u001b[0;34m\u001b[0m\u001b[0;34m\u001b[0m\u001b[0m\n\u001b[1;32m    625\u001b[0m     \u001b[0mcb_state\u001b[0m \u001b[0;34m=\u001b[0m \u001b[0mstate\u001b[0m\u001b[0;34m.\u001b[0m\u001b[0mpop\u001b[0m\u001b[0;34m(\u001b[0m\u001b[0;34m'cb_state'\u001b[0m\u001b[0;34m)\u001b[0m\u001b[0;34m\u001b[0m\u001b[0;34m\u001b[0m\u001b[0m\n",
      "\u001b[0;32m/mnt/963GB/Data/Python/Courses/fastai/fastai/fastai/data_block.py\u001b[0m in \u001b[0;36madd_test\u001b[0;34m(self, items, label, tfms, tfm_y)\u001b[0m\n\u001b[1;32m    569\u001b[0m         \u001b[0;32melif\u001b[0m \u001b[0misinstance\u001b[0m\u001b[0;34m(\u001b[0m\u001b[0mitems\u001b[0m\u001b[0;34m,\u001b[0m \u001b[0mItemList\u001b[0m\u001b[0;34m)\u001b[0m\u001b[0;34m:\u001b[0m \u001b[0mitems\u001b[0m \u001b[0;34m=\u001b[0m \u001b[0mself\u001b[0m\u001b[0;34m.\u001b[0m\u001b[0mvalid\u001b[0m\u001b[0;34m.\u001b[0m\u001b[0mx\u001b[0m\u001b[0;34m.\u001b[0m\u001b[0mnew\u001b[0m\u001b[0;34m(\u001b[0m\u001b[0mitems\u001b[0m\u001b[0;34m.\u001b[0m\u001b[0mitems\u001b[0m\u001b[0;34m,\u001b[0m \u001b[0minner_df\u001b[0m\u001b[0;34m=\u001b[0m\u001b[0mitems\u001b[0m\u001b[0;34m.\u001b[0m\u001b[0minner_df\u001b[0m\u001b[0;34m)\u001b[0m\u001b[0;34m.\u001b[0m\u001b[0mprocess\u001b[0m\u001b[0;34m(\u001b[0m\u001b[0;34m)\u001b[0m\u001b[0;34m\u001b[0m\u001b[0;34m\u001b[0m\u001b[0m\n\u001b[1;32m    570\u001b[0m         \u001b[0;32melse\u001b[0m\u001b[0;34m:\u001b[0m \u001b[0mitems\u001b[0m \u001b[0;34m=\u001b[0m \u001b[0mself\u001b[0m\u001b[0;34m.\u001b[0m\u001b[0mvalid\u001b[0m\u001b[0;34m.\u001b[0m\u001b[0mx\u001b[0m\u001b[0;34m.\u001b[0m\u001b[0mnew\u001b[0m\u001b[0;34m(\u001b[0m\u001b[0mitems\u001b[0m\u001b[0;34m)\u001b[0m\u001b[0;34m.\u001b[0m\u001b[0mprocess\u001b[0m\u001b[0;34m(\u001b[0m\u001b[0;34m)\u001b[0m\u001b[0;34m\u001b[0m\u001b[0;34m\u001b[0m\u001b[0m\n\u001b[0;32m--> 571\u001b[0;31m         \u001b[0mself\u001b[0m\u001b[0;34m.\u001b[0m\u001b[0mtest\u001b[0m \u001b[0;34m=\u001b[0m \u001b[0mself\u001b[0m\u001b[0;34m.\u001b[0m\u001b[0mvalid\u001b[0m\u001b[0;34m.\u001b[0m\u001b[0mnew\u001b[0m\u001b[0;34m(\u001b[0m\u001b[0mitems\u001b[0m\u001b[0;34m,\u001b[0m \u001b[0mlabels\u001b[0m\u001b[0;34m,\u001b[0m \u001b[0mtfms\u001b[0m\u001b[0;34m=\u001b[0m\u001b[0mtfms\u001b[0m\u001b[0;34m,\u001b[0m \u001b[0mtfm_y\u001b[0m\u001b[0;34m=\u001b[0m\u001b[0mtfm_y\u001b[0m\u001b[0;34m)\u001b[0m\u001b[0;34m\u001b[0m\u001b[0;34m\u001b[0m\u001b[0m\n\u001b[0m\u001b[1;32m    572\u001b[0m         \u001b[0;32mreturn\u001b[0m \u001b[0mself\u001b[0m\u001b[0;34m\u001b[0m\u001b[0;34m\u001b[0m\u001b[0m\n\u001b[1;32m    573\u001b[0m \u001b[0;34m\u001b[0m\u001b[0m\n",
      "\u001b[0;32m/mnt/963GB/Data/Python/Courses/fastai/fastai/fastai/data_block.py\u001b[0m in \u001b[0;36mnew\u001b[0;34m(self, x, y, tfms, tfm_y, **kwargs)\u001b[0m\n\u001b[1;32m    636\u001b[0m         \u001b[0mtfms\u001b[0m\u001b[0;34m,\u001b[0m\u001b[0mtfm_y\u001b[0m \u001b[0;34m=\u001b[0m \u001b[0mifnone\u001b[0m\u001b[0;34m(\u001b[0m\u001b[0mtfms\u001b[0m\u001b[0;34m,\u001b[0m \u001b[0mself\u001b[0m\u001b[0;34m.\u001b[0m\u001b[0mtfms\u001b[0m\u001b[0;34m)\u001b[0m\u001b[0;34m,\u001b[0m\u001b[0mifnone\u001b[0m\u001b[0;34m(\u001b[0m\u001b[0mtfm_y\u001b[0m\u001b[0;34m,\u001b[0m \u001b[0mself\u001b[0m\u001b[0;34m.\u001b[0m\u001b[0mtfm_y\u001b[0m\u001b[0;34m)\u001b[0m\u001b[0;34m\u001b[0m\u001b[0;34m\u001b[0m\u001b[0m\n\u001b[1;32m    637\u001b[0m         \u001b[0;32mif\u001b[0m \u001b[0misinstance\u001b[0m\u001b[0;34m(\u001b[0m\u001b[0mx\u001b[0m\u001b[0;34m,\u001b[0m \u001b[0mItemList\u001b[0m\u001b[0;34m)\u001b[0m\u001b[0;34m:\u001b[0m\u001b[0;34m\u001b[0m\u001b[0;34m\u001b[0m\u001b[0m\n\u001b[0;32m--> 638\u001b[0;31m             \u001b[0;32mreturn\u001b[0m \u001b[0mself\u001b[0m\u001b[0;34m.\u001b[0m\u001b[0m__class__\u001b[0m\u001b[0;34m(\u001b[0m\u001b[0mx\u001b[0m\u001b[0;34m,\u001b[0m \u001b[0my\u001b[0m\u001b[0;34m,\u001b[0m \u001b[0mtfms\u001b[0m\u001b[0;34m=\u001b[0m\u001b[0mtfms\u001b[0m\u001b[0;34m,\u001b[0m \u001b[0mtfm_y\u001b[0m\u001b[0;34m=\u001b[0m\u001b[0mtfm_y\u001b[0m\u001b[0;34m,\u001b[0m \u001b[0;34m**\u001b[0m\u001b[0mself\u001b[0m\u001b[0;34m.\u001b[0m\u001b[0mtfmargs\u001b[0m\u001b[0;34m)\u001b[0m\u001b[0;34m\u001b[0m\u001b[0;34m\u001b[0m\u001b[0m\n\u001b[0m\u001b[1;32m    639\u001b[0m         \u001b[0;32melse\u001b[0m\u001b[0;34m:\u001b[0m\u001b[0;34m\u001b[0m\u001b[0;34m\u001b[0m\u001b[0m\n\u001b[1;32m    640\u001b[0m             \u001b[0;32mreturn\u001b[0m \u001b[0mself\u001b[0m\u001b[0;34m.\u001b[0m\u001b[0mnew\u001b[0m\u001b[0;34m(\u001b[0m\u001b[0mself\u001b[0m\u001b[0;34m.\u001b[0m\u001b[0mx\u001b[0m\u001b[0;34m.\u001b[0m\u001b[0mnew\u001b[0m\u001b[0;34m(\u001b[0m\u001b[0mx\u001b[0m\u001b[0;34m,\u001b[0m \u001b[0;34m**\u001b[0m\u001b[0mkwargs\u001b[0m\u001b[0;34m)\u001b[0m\u001b[0;34m,\u001b[0m \u001b[0mself\u001b[0m\u001b[0;34m.\u001b[0m\u001b[0my\u001b[0m\u001b[0;34m.\u001b[0m\u001b[0mnew\u001b[0m\u001b[0;34m(\u001b[0m\u001b[0my\u001b[0m\u001b[0;34m,\u001b[0m \u001b[0;34m**\u001b[0m\u001b[0mkwargs\u001b[0m\u001b[0;34m)\u001b[0m\u001b[0;34m,\u001b[0m \u001b[0mtfms\u001b[0m\u001b[0;34m=\u001b[0m\u001b[0mtfms\u001b[0m\u001b[0;34m,\u001b[0m \u001b[0mtfm_y\u001b[0m\u001b[0;34m=\u001b[0m\u001b[0mtfm_y\u001b[0m\u001b[0;34m)\u001b[0m\u001b[0;34m.\u001b[0m\u001b[0mprocess\u001b[0m\u001b[0;34m(\u001b[0m\u001b[0;34m)\u001b[0m\u001b[0;34m\u001b[0m\u001b[0;34m\u001b[0m\u001b[0m\n",
      "\u001b[0;32m/mnt/963GB/Data/Python/Courses/fastai/fastai/fastai/data_block.py\u001b[0m in \u001b[0;36m__init__\u001b[0;34m(self, x, y, tfms, tfm_y, **kwargs)\u001b[0m\n\u001b[1;32m    608\u001b[0m         \u001b[0mself\u001b[0m\u001b[0;34m.\u001b[0m\u001b[0my\u001b[0m\u001b[0;34m.\u001b[0m\u001b[0mx\u001b[0m \u001b[0;34m=\u001b[0m \u001b[0mx\u001b[0m\u001b[0;34m\u001b[0m\u001b[0;34m\u001b[0m\u001b[0m\n\u001b[1;32m    609\u001b[0m         \u001b[0mself\u001b[0m\u001b[0;34m.\u001b[0m\u001b[0mitem\u001b[0m\u001b[0;34m=\u001b[0m\u001b[0;32mNone\u001b[0m\u001b[0;34m\u001b[0m\u001b[0;34m\u001b[0m\u001b[0m\n\u001b[0;32m--> 610\u001b[0;31m         \u001b[0mself\u001b[0m\u001b[0;34m.\u001b[0m\u001b[0mtransform\u001b[0m\u001b[0;34m(\u001b[0m\u001b[0mtfms\u001b[0m\u001b[0;34m,\u001b[0m \u001b[0;34m**\u001b[0m\u001b[0mkwargs\u001b[0m\u001b[0;34m)\u001b[0m\u001b[0;34m\u001b[0m\u001b[0;34m\u001b[0m\u001b[0m\n\u001b[0m\u001b[1;32m    611\u001b[0m \u001b[0;34m\u001b[0m\u001b[0m\n\u001b[1;32m    612\u001b[0m     \u001b[0;32mdef\u001b[0m \u001b[0m__len__\u001b[0m\u001b[0;34m(\u001b[0m\u001b[0mself\u001b[0m\u001b[0;34m)\u001b[0m\u001b[0;34m->\u001b[0m\u001b[0mint\u001b[0m\u001b[0;34m:\u001b[0m \u001b[0;32mreturn\u001b[0m \u001b[0mlen\u001b[0m\u001b[0;34m(\u001b[0m\u001b[0mself\u001b[0m\u001b[0;34m.\u001b[0m\u001b[0mx\u001b[0m\u001b[0;34m)\u001b[0m \u001b[0;32mif\u001b[0m \u001b[0mself\u001b[0m\u001b[0;34m.\u001b[0m\u001b[0mitem\u001b[0m \u001b[0;32mis\u001b[0m \u001b[0;32mNone\u001b[0m \u001b[0;32melse\u001b[0m \u001b[0;36m1\u001b[0m\u001b[0;34m\u001b[0m\u001b[0;34m\u001b[0m\u001b[0m\n",
      "\u001b[0;32m/mnt/963GB/Data/Python/Courses/fastai/fastai/fastai/data_block.py\u001b[0m in \u001b[0;36mtransform\u001b[0;34m(self, tfms, tfm_y, **kwargs)\u001b[0m\n\u001b[1;32m    731\u001b[0m         \u001b[0;32mif\u001b[0m \u001b[0mtfm_y\u001b[0m \u001b[0;32mis\u001b[0m \u001b[0;32mNone\u001b[0m\u001b[0;34m:\u001b[0m \u001b[0mtfm_y\u001b[0m \u001b[0;34m=\u001b[0m \u001b[0mself\u001b[0m\u001b[0;34m.\u001b[0m\u001b[0mtfm_y\u001b[0m\u001b[0;34m\u001b[0m\u001b[0;34m\u001b[0m\u001b[0m\n\u001b[1;32m    732\u001b[0m         \u001b[0mtfms_y\u001b[0m \u001b[0;34m=\u001b[0m \u001b[0;32mNone\u001b[0m \u001b[0;32mif\u001b[0m \u001b[0mtfms\u001b[0m \u001b[0;32mis\u001b[0m \u001b[0;32mNone\u001b[0m \u001b[0;32melse\u001b[0m \u001b[0mlist\u001b[0m\u001b[0;34m(\u001b[0m\u001b[0mfilter\u001b[0m\u001b[0;34m(\u001b[0m\u001b[0;32mlambda\u001b[0m \u001b[0mt\u001b[0m\u001b[0;34m:\u001b[0m \u001b[0mgetattr\u001b[0m\u001b[0;34m(\u001b[0m\u001b[0mt\u001b[0m\u001b[0;34m,\u001b[0m \u001b[0;34m'use_on_y'\u001b[0m\u001b[0;34m,\u001b[0m \u001b[0;32mTrue\u001b[0m\u001b[0;34m)\u001b[0m\u001b[0;34m,\u001b[0m \u001b[0mlistify\u001b[0m\u001b[0;34m(\u001b[0m\u001b[0mtfms\u001b[0m\u001b[0;34m)\u001b[0m\u001b[0;34m)\u001b[0m\u001b[0;34m)\u001b[0m\u001b[0;34m\u001b[0m\u001b[0;34m\u001b[0m\u001b[0m\n\u001b[0;32m--> 733\u001b[0;31m         \u001b[0;32mif\u001b[0m \u001b[0mtfm_y\u001b[0m\u001b[0;34m:\u001b[0m \u001b[0m_check_kwargs\u001b[0m\u001b[0;34m(\u001b[0m\u001b[0mself\u001b[0m\u001b[0;34m.\u001b[0m\u001b[0my\u001b[0m\u001b[0;34m,\u001b[0m \u001b[0mtfms_y\u001b[0m\u001b[0;34m,\u001b[0m \u001b[0;34m**\u001b[0m\u001b[0mkwargs\u001b[0m\u001b[0;34m)\u001b[0m\u001b[0;34m\u001b[0m\u001b[0;34m\u001b[0m\u001b[0m\n\u001b[0m\u001b[1;32m    734\u001b[0m         \u001b[0mself\u001b[0m\u001b[0;34m.\u001b[0m\u001b[0mtfms\u001b[0m\u001b[0;34m,\u001b[0m\u001b[0mself\u001b[0m\u001b[0;34m.\u001b[0m\u001b[0mtfmargs\u001b[0m  \u001b[0;34m=\u001b[0m \u001b[0mtfms\u001b[0m\u001b[0;34m,\u001b[0m\u001b[0mkwargs\u001b[0m\u001b[0;34m\u001b[0m\u001b[0;34m\u001b[0m\u001b[0m\n\u001b[1;32m    735\u001b[0m         \u001b[0mself\u001b[0m\u001b[0;34m.\u001b[0m\u001b[0mtfm_y\u001b[0m\u001b[0;34m,\u001b[0m\u001b[0mself\u001b[0m\u001b[0;34m.\u001b[0m\u001b[0mtfms_y\u001b[0m\u001b[0;34m,\u001b[0m\u001b[0mself\u001b[0m\u001b[0;34m.\u001b[0m\u001b[0mtfmargs_y\u001b[0m \u001b[0;34m=\u001b[0m \u001b[0mtfm_y\u001b[0m\u001b[0;34m,\u001b[0m\u001b[0mtfms_y\u001b[0m\u001b[0;34m,\u001b[0m\u001b[0mkwargs\u001b[0m\u001b[0;34m\u001b[0m\u001b[0;34m\u001b[0m\u001b[0m\n",
      "\u001b[0;32m/mnt/963GB/Data/Python/Courses/fastai/fastai/fastai/data_block.py\u001b[0m in \u001b[0;36m_check_kwargs\u001b[0;34m(ds, tfms, **kwargs)\u001b[0m\n\u001b[1;32m    600\u001b[0m         \u001b[0;32mtry\u001b[0m\u001b[0;34m:\u001b[0m \u001b[0mx\u001b[0m\u001b[0;34m.\u001b[0m\u001b[0mapply_tfms\u001b[0m\u001b[0;34m(\u001b[0m\u001b[0mtfms\u001b[0m\u001b[0;34m,\u001b[0m \u001b[0;34m**\u001b[0m\u001b[0mkwargs\u001b[0m\u001b[0;34m)\u001b[0m\u001b[0;34m\u001b[0m\u001b[0;34m\u001b[0m\u001b[0m\n\u001b[1;32m    601\u001b[0m         \u001b[0;32mexcept\u001b[0m \u001b[0mException\u001b[0m \u001b[0;32mas\u001b[0m \u001b[0me\u001b[0m\u001b[0;34m:\u001b[0m\u001b[0;34m\u001b[0m\u001b[0;34m\u001b[0m\u001b[0m\n\u001b[0;32m--> 602\u001b[0;31m             \u001b[0;32mraise\u001b[0m \u001b[0mException\u001b[0m\u001b[0;34m(\u001b[0m\u001b[0;34mf\"It's not possible to apply those transforms to your dataset:\\n {e}\"\u001b[0m\u001b[0;34m)\u001b[0m\u001b[0;34m\u001b[0m\u001b[0;34m\u001b[0m\u001b[0m\n\u001b[0m\u001b[1;32m    603\u001b[0m \u001b[0;34m\u001b[0m\u001b[0m\n\u001b[1;32m    604\u001b[0m \u001b[0;32mclass\u001b[0m \u001b[0mLabelList\u001b[0m\u001b[0;34m(\u001b[0m\u001b[0mDataset\u001b[0m\u001b[0;34m)\u001b[0m\u001b[0;34m:\u001b[0m\u001b[0;34m\u001b[0m\u001b[0;34m\u001b[0m\u001b[0m\n",
      "\u001b[0;31mException\u001b[0m: It's not possible to apply those transforms to your dataset:\n Not implemented: you can't apply transforms to this type of item (EmptyLabel)"
     ]
    }
   ],
   "source": [
    "learn = load_learner(path=train_img, file='01_03-0d3edb45_unet_squish-s2-r0-20191214.pkl', test=test_data)"
   ]
  },
  {
   "cell_type": "code",
   "execution_count": null,
   "metadata": {},
   "outputs": [],
   "source": [
    "learn = load_learner(path, fname=..., test=test_data)"
   ]
  },
  {
   "cell_type": "code",
   "execution_count": 83,
   "metadata": {},
   "outputs": [
    {
     "ename": "AttributeError",
     "evalue": "'NoneType' object has no attribute 'dataset'",
     "output_type": "error",
     "traceback": [
      "\u001b[0;31m---------------------------------------------------------------------------\u001b[0m",
      "\u001b[0;31mAttributeError\u001b[0m                            Traceback (most recent call last)",
      "\u001b[0;32m<ipython-input-83-1cb734f7076b>\u001b[0m in \u001b[0;36m<module>\u001b[0;34m\u001b[0m\n\u001b[1;32m      1\u001b[0m \u001b[0;31m# Predictions for test set\u001b[0m\u001b[0;34m\u001b[0m\u001b[0;34m\u001b[0m\u001b[0;34m\u001b[0m\u001b[0m\n\u001b[0;32m----> 2\u001b[0;31m \u001b[0mpreds\u001b[0m\u001b[0;34m,\u001b[0m \u001b[0m_\u001b[0m \u001b[0;34m=\u001b[0m \u001b[0mlearn\u001b[0m\u001b[0;34m.\u001b[0m\u001b[0mget_preds\u001b[0m\u001b[0;34m(\u001b[0m\u001b[0mds_type\u001b[0m\u001b[0;34m=\u001b[0m\u001b[0mDatasetType\u001b[0m\u001b[0;34m.\u001b[0m\u001b[0mTest\u001b[0m\u001b[0;34m)\u001b[0m\u001b[0;34m\u001b[0m\u001b[0;34m\u001b[0m\u001b[0m\n\u001b[0m\u001b[1;32m      3\u001b[0m \u001b[0;31m#preds = (preds[:,1,...]>best_thr).long().numpy()\u001b[0m\u001b[0;34m\u001b[0m\u001b[0;34m\u001b[0m\u001b[0;34m\u001b[0m\u001b[0m\n\u001b[1;32m      4\u001b[0m \u001b[0mprint\u001b[0m\u001b[0;34m(\u001b[0m\u001b[0mpreds\u001b[0m\u001b[0;34m.\u001b[0m\u001b[0msum\u001b[0m\u001b[0;34m(\u001b[0m\u001b[0;34m)\u001b[0m\u001b[0;34m)\u001b[0m\u001b[0;34m\u001b[0m\u001b[0;34m\u001b[0m\u001b[0m\n",
      "\u001b[0;32m/mnt/963GB/Data/Python/Courses/fastai/fastai/fastai/basic_train.py\u001b[0m in \u001b[0;36mget_preds\u001b[0;34m(self, ds_type, activ, with_loss, n_batch, pbar)\u001b[0m\n\u001b[1;32m    340\u001b[0m         \u001b[0mcallbacks\u001b[0m \u001b[0;34m=\u001b[0m \u001b[0;34m[\u001b[0m\u001b[0mcb\u001b[0m\u001b[0;34m(\u001b[0m\u001b[0mself\u001b[0m\u001b[0;34m)\u001b[0m \u001b[0;32mfor\u001b[0m \u001b[0mcb\u001b[0m \u001b[0;32min\u001b[0m \u001b[0mself\u001b[0m\u001b[0;34m.\u001b[0m\u001b[0mcallback_fns\u001b[0m \u001b[0;34m+\u001b[0m \u001b[0mlistify\u001b[0m\u001b[0;34m(\u001b[0m\u001b[0mdefaults\u001b[0m\u001b[0;34m.\u001b[0m\u001b[0mextra_callback_fns\u001b[0m\u001b[0;34m)\u001b[0m\u001b[0;34m]\u001b[0m \u001b[0;34m+\u001b[0m \u001b[0mlistify\u001b[0m\u001b[0;34m(\u001b[0m\u001b[0mself\u001b[0m\u001b[0;34m.\u001b[0m\u001b[0mcallbacks\u001b[0m\u001b[0;34m)\u001b[0m\u001b[0;34m\u001b[0m\u001b[0;34m\u001b[0m\u001b[0m\n\u001b[1;32m    341\u001b[0m         return get_preds(self.model, self.dl(ds_type), cb_handler=CallbackHandler(callbacks),\n\u001b[0;32m--> 342\u001b[0;31m                          activ=activ, loss_func=lf, n_batch=n_batch, pbar=pbar)\n\u001b[0m\u001b[1;32m    343\u001b[0m \u001b[0;34m\u001b[0m\u001b[0m\n\u001b[1;32m    344\u001b[0m     \u001b[0;32mdef\u001b[0m \u001b[0mpred_batch\u001b[0m\u001b[0;34m(\u001b[0m\u001b[0mself\u001b[0m\u001b[0;34m,\u001b[0m \u001b[0mds_type\u001b[0m\u001b[0;34m:\u001b[0m\u001b[0mDatasetType\u001b[0m\u001b[0;34m=\u001b[0m\u001b[0mDatasetType\u001b[0m\u001b[0;34m.\u001b[0m\u001b[0mValid\u001b[0m\u001b[0;34m,\u001b[0m \u001b[0mbatch\u001b[0m\u001b[0;34m:\u001b[0m\u001b[0mTuple\u001b[0m\u001b[0;34m=\u001b[0m\u001b[0;32mNone\u001b[0m\u001b[0;34m,\u001b[0m \u001b[0mreconstruct\u001b[0m\u001b[0;34m:\u001b[0m\u001b[0mbool\u001b[0m\u001b[0;34m=\u001b[0m\u001b[0;32mFalse\u001b[0m\u001b[0;34m,\u001b[0m \u001b[0mwith_dropout\u001b[0m\u001b[0;34m:\u001b[0m\u001b[0mbool\u001b[0m\u001b[0;34m=\u001b[0m\u001b[0;32mFalse\u001b[0m\u001b[0;34m)\u001b[0m \u001b[0;34m->\u001b[0m \u001b[0mList\u001b[0m\u001b[0;34m[\u001b[0m\u001b[0mTensor\u001b[0m\u001b[0;34m]\u001b[0m\u001b[0;34m:\u001b[0m\u001b[0;34m\u001b[0m\u001b[0;34m\u001b[0m\u001b[0m\n",
      "\u001b[0;32m/mnt/963GB/Data/Python/Courses/fastai/fastai/fastai/basic_train.py\u001b[0m in \u001b[0;36mget_preds\u001b[0;34m(model, dl, pbar, cb_handler, activ, loss_func, n_batch)\u001b[0m\n\u001b[1;32m     42\u001b[0m     \u001b[0;34m\"Tuple of predictions and targets, and optional losses (if `loss_func`) using `dl`, max batches `n_batch`.\"\u001b[0m\u001b[0;34m\u001b[0m\u001b[0;34m\u001b[0m\u001b[0m\n\u001b[1;32m     43\u001b[0m     res = [torch.cat(o).cpu() for o in\n\u001b[0;32m---> 44\u001b[0;31m            zip(*validate(model, dl, cb_handler=cb_handler, pbar=pbar, average=False, n_batch=n_batch))]\n\u001b[0m\u001b[1;32m     45\u001b[0m     \u001b[0;32mif\u001b[0m \u001b[0mloss_func\u001b[0m \u001b[0;32mis\u001b[0m \u001b[0;32mnot\u001b[0m \u001b[0;32mNone\u001b[0m\u001b[0;34m:\u001b[0m\u001b[0;34m\u001b[0m\u001b[0;34m\u001b[0m\u001b[0m\n\u001b[1;32m     46\u001b[0m         \u001b[0;32mwith\u001b[0m \u001b[0mNoneReduceOnCPU\u001b[0m\u001b[0;34m(\u001b[0m\u001b[0mloss_func\u001b[0m\u001b[0;34m)\u001b[0m \u001b[0;32mas\u001b[0m \u001b[0mlf\u001b[0m\u001b[0;34m:\u001b[0m \u001b[0mres\u001b[0m\u001b[0;34m.\u001b[0m\u001b[0mappend\u001b[0m\u001b[0;34m(\u001b[0m\u001b[0mlf\u001b[0m\u001b[0;34m(\u001b[0m\u001b[0mres\u001b[0m\u001b[0;34m[\u001b[0m\u001b[0;36m0\u001b[0m\u001b[0;34m]\u001b[0m\u001b[0;34m,\u001b[0m \u001b[0mres\u001b[0m\u001b[0;34m[\u001b[0m\u001b[0;36m1\u001b[0m\u001b[0;34m]\u001b[0m\u001b[0;34m)\u001b[0m\u001b[0;34m)\u001b[0m\u001b[0;34m\u001b[0m\u001b[0;34m\u001b[0m\u001b[0m\n",
      "\u001b[0;32m/mnt/963GB/Data/Python/Courses/fastai/fastai/fastai/basic_train.py\u001b[0m in \u001b[0;36mvalidate\u001b[0;34m(model, dl, loss_func, cb_handler, pbar, average, n_batch)\u001b[0m\n\u001b[1;32m     54\u001b[0m     \u001b[0;32mwith\u001b[0m \u001b[0mtorch\u001b[0m\u001b[0;34m.\u001b[0m\u001b[0mno_grad\u001b[0m\u001b[0;34m(\u001b[0m\u001b[0;34m)\u001b[0m\u001b[0;34m:\u001b[0m\u001b[0;34m\u001b[0m\u001b[0;34m\u001b[0m\u001b[0m\n\u001b[1;32m     55\u001b[0m         \u001b[0mval_losses\u001b[0m\u001b[0;34m,\u001b[0m\u001b[0mnums\u001b[0m \u001b[0;34m=\u001b[0m \u001b[0;34m[\u001b[0m\u001b[0;34m]\u001b[0m\u001b[0;34m,\u001b[0m\u001b[0;34m[\u001b[0m\u001b[0;34m]\u001b[0m\u001b[0;34m\u001b[0m\u001b[0;34m\u001b[0m\u001b[0m\n\u001b[0;32m---> 56\u001b[0;31m         \u001b[0;32mif\u001b[0m \u001b[0mcb_handler\u001b[0m\u001b[0;34m:\u001b[0m \u001b[0mcb_handler\u001b[0m\u001b[0;34m.\u001b[0m\u001b[0mset_dl\u001b[0m\u001b[0;34m(\u001b[0m\u001b[0mdl\u001b[0m\u001b[0;34m)\u001b[0m\u001b[0;34m\u001b[0m\u001b[0;34m\u001b[0m\u001b[0m\n\u001b[0m\u001b[1;32m     57\u001b[0m         \u001b[0;32mfor\u001b[0m \u001b[0mxb\u001b[0m\u001b[0;34m,\u001b[0m\u001b[0myb\u001b[0m \u001b[0;32min\u001b[0m \u001b[0mprogress_bar\u001b[0m\u001b[0;34m(\u001b[0m\u001b[0mdl\u001b[0m\u001b[0;34m,\u001b[0m \u001b[0mparent\u001b[0m\u001b[0;34m=\u001b[0m\u001b[0mpbar\u001b[0m\u001b[0;34m,\u001b[0m \u001b[0mleave\u001b[0m\u001b[0;34m=\u001b[0m\u001b[0;34m(\u001b[0m\u001b[0mpbar\u001b[0m \u001b[0;32mis\u001b[0m \u001b[0;32mnot\u001b[0m \u001b[0;32mNone\u001b[0m\u001b[0;34m)\u001b[0m\u001b[0;34m)\u001b[0m\u001b[0;34m:\u001b[0m\u001b[0;34m\u001b[0m\u001b[0;34m\u001b[0m\u001b[0m\n\u001b[1;32m     58\u001b[0m             \u001b[0;32mif\u001b[0m \u001b[0mcb_handler\u001b[0m\u001b[0;34m:\u001b[0m \u001b[0mxb\u001b[0m\u001b[0;34m,\u001b[0m \u001b[0myb\u001b[0m \u001b[0;34m=\u001b[0m \u001b[0mcb_handler\u001b[0m\u001b[0;34m.\u001b[0m\u001b[0mon_batch_begin\u001b[0m\u001b[0;34m(\u001b[0m\u001b[0mxb\u001b[0m\u001b[0;34m,\u001b[0m \u001b[0myb\u001b[0m\u001b[0;34m,\u001b[0m \u001b[0mtrain\u001b[0m\u001b[0;34m=\u001b[0m\u001b[0;32mFalse\u001b[0m\u001b[0;34m)\u001b[0m\u001b[0;34m\u001b[0m\u001b[0;34m\u001b[0m\u001b[0m\n",
      "\u001b[0;32m/mnt/963GB/Data/Python/Courses/fastai/fastai/fastai/callback.py\u001b[0m in \u001b[0;36mset_dl\u001b[0;34m(self, dl)\u001b[0m\n\u001b[1;32m    254\u001b[0m         \u001b[0;34m\"Set the current `dl` used.\"\u001b[0m\u001b[0;34m\u001b[0m\u001b[0;34m\u001b[0m\u001b[0m\n\u001b[1;32m    255\u001b[0m         \u001b[0;32mif\u001b[0m \u001b[0mhasattr\u001b[0m\u001b[0;34m(\u001b[0m\u001b[0mself\u001b[0m\u001b[0;34m,\u001b[0m \u001b[0;34m'cb_dl'\u001b[0m\u001b[0;34m)\u001b[0m\u001b[0;34m:\u001b[0m \u001b[0mself\u001b[0m\u001b[0;34m.\u001b[0m\u001b[0mcallbacks\u001b[0m\u001b[0;34m.\u001b[0m\u001b[0mremove\u001b[0m\u001b[0;34m(\u001b[0m\u001b[0mself\u001b[0m\u001b[0;34m.\u001b[0m\u001b[0mcb_dl\u001b[0m\u001b[0;34m)\u001b[0m\u001b[0;34m\u001b[0m\u001b[0;34m\u001b[0m\u001b[0m\n\u001b[0;32m--> 256\u001b[0;31m         \u001b[0;32mif\u001b[0m \u001b[0misinstance\u001b[0m\u001b[0;34m(\u001b[0m\u001b[0mdl\u001b[0m\u001b[0;34m.\u001b[0m\u001b[0mdataset\u001b[0m\u001b[0;34m,\u001b[0m \u001b[0mCallback\u001b[0m\u001b[0;34m)\u001b[0m\u001b[0;34m:\u001b[0m\u001b[0;34m\u001b[0m\u001b[0;34m\u001b[0m\u001b[0m\n\u001b[0m\u001b[1;32m    257\u001b[0m             \u001b[0mself\u001b[0m\u001b[0;34m.\u001b[0m\u001b[0mcallbacks\u001b[0m\u001b[0;34m.\u001b[0m\u001b[0mappend\u001b[0m\u001b[0;34m(\u001b[0m\u001b[0mdl\u001b[0m\u001b[0;34m.\u001b[0m\u001b[0mdataset\u001b[0m\u001b[0;34m)\u001b[0m\u001b[0;34m\u001b[0m\u001b[0;34m\u001b[0m\u001b[0m\n\u001b[1;32m    258\u001b[0m             \u001b[0mself\u001b[0m\u001b[0;34m.\u001b[0m\u001b[0mcb_dl\u001b[0m \u001b[0;34m=\u001b[0m \u001b[0mdl\u001b[0m\u001b[0;34m.\u001b[0m\u001b[0mdataset\u001b[0m\u001b[0;34m\u001b[0m\u001b[0;34m\u001b[0m\u001b[0m\n",
      "\u001b[0;31mAttributeError\u001b[0m: 'NoneType' object has no attribute 'dataset'"
     ]
    }
   ],
   "source": [
    "# Predictions for test set\n",
    "preds, _ = learn.get_preds(ds_type=DatasetType.Test)\n",
    "#preds = (preds[:,1,...]>best_thr).long().numpy()\n",
    "print(preds.sum())"
   ]
  },
  {
   "cell_type": "code",
   "execution_count": null,
   "metadata": {},
   "outputs": [],
   "source": [
    "# Generate rle encodings (images are first converted to the original size)\n",
    "rles = []\n",
    "for p in progress_bar(preds):\n",
    "    im = PIL.Image.fromarray((p.T*255).astype(np.uint8)).resize((1024,1024))\n",
    "    im = np.asarray(im)\n",
    "    rles.append(mask2rle(im, 1024, 1024))"
   ]
  },
  {
   "cell_type": "code",
   "execution_count": null,
   "metadata": {},
   "outputs": [],
   "source": [
    "ids = [o.stem for o in data.test_ds.items]\n",
    "sub_df = pd.DataFrame({'ImageId': ids, 'EncodedPixels': rles})\n",
    "sub_df.loc[sub_df.EncodedPixels=='', 'EncodedPixels'] = '-1'\n",
    "sub_df.head()"
   ]
  },
  {
   "cell_type": "code",
   "execution_count": null,
   "metadata": {},
   "outputs": [],
   "source": [
    "sub_df.to_csv('submission.csv', index=False)"
   ]
  }
 ],
 "metadata": {
  "kernelspec": {
   "display_name": "Python 3",
   "language": "python",
   "name": "python3"
  },
  "language_info": {
   "codemirror_mode": {
    "name": "ipython",
    "version": 3
   },
   "file_extension": ".py",
   "mimetype": "text/x-python",
   "name": "python",
   "nbconvert_exporter": "python",
   "pygments_lexer": "ipython3",
   "version": "3.7.4"
  },
  "varInspector": {
   "cols": {
    "lenName": 16,
    "lenType": 16,
    "lenVar": 40
   },
   "kernels_config": {
    "python": {
     "delete_cmd_postfix": "",
     "delete_cmd_prefix": "del ",
     "library": "var_list.py",
     "varRefreshCmd": "print(var_dic_list())"
    },
    "r": {
     "delete_cmd_postfix": ") ",
     "delete_cmd_prefix": "rm(",
     "library": "var_list.r",
     "varRefreshCmd": "cat(var_dic_list()) "
    }
   },
   "types_to_exclude": [
    "module",
    "function",
    "builtin_function_or_method",
    "instance",
    "_Feature"
   ],
   "window_display": false
  }
 },
 "nbformat": 4,
 "nbformat_minor": 1
}
