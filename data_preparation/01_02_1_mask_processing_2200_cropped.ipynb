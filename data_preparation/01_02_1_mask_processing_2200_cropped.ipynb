{
 "cells": [
  {
   "cell_type": "markdown",
   "metadata": {},
   "source": [
    "# Image segmentaion with masked facies\n",
    "\n",
    "Squish rectangular images to square"
   ]
  },
  {
   "cell_type": "code",
   "execution_count": 93,
   "metadata": {},
   "outputs": [],
   "source": [
    "%reload_ext autoreload\n",
    "%autoreload 2\n",
    "%matplotlib inline"
   ]
  },
  {
   "cell_type": "code",
   "execution_count": 94,
   "metadata": {
    "_cell_guid": "b1076dfc-b9ad-4769-8c92-a6c4dae69d19",
    "_uuid": "8f2839f25d086af736a60e9eeb907d3b93b6e0e5"
   },
   "outputs": [],
   "source": [
    "import sys\n",
    "from numbers import Integral\n",
    "from random import uniform\n",
    "from PIL import Image as pil_image\n",
    "import fastai\n",
    "from fastai.vision import *\n",
    "from fastai.vision import Image\n",
    "from fastai.vision.transform import _minus_epsilon\n",
    "from fastai.vision.data import SegmentationProcessor\n",
    "from fastai.vision.interpret import SegmentationInterpretation\n",
    "from mask_functions import *\n",
    "from collections import defaultdict\n",
    "import cv2\n",
    "from IPython.display import display \n",
    "import datetime\n",
    "import uuid"
   ]
  },
  {
   "cell_type": "code",
   "execution_count": 95,
   "metadata": {},
   "outputs": [
    {
     "data": {
      "text/plain": [
       "'1.0.60.dev0'"
      ]
     },
     "execution_count": 95,
     "metadata": {},
     "output_type": "execute_result"
    }
   ],
   "source": [
    "fastai.__version__"
   ]
  },
  {
   "cell_type": "code",
   "execution_count": 96,
   "metadata": {},
   "outputs": [],
   "source": [
    "#np.set_printoptions(threshold=sys.maxsize)"
   ]
  },
  {
   "cell_type": "code",
   "execution_count": 97,
   "metadata": {},
   "outputs": [],
   "source": [
    "torch.cuda.set_device(0)"
   ]
  },
  {
   "cell_type": "code",
   "execution_count": 98,
   "metadata": {},
   "outputs": [
    {
     "name": "stdout",
     "output_type": "stream",
     "text": [
      "UID: 70c58d77, DATE: 20191222\n"
     ]
    }
   ],
   "source": [
    "DATE = datetime.datetime.today().strftime('%Y%m%d')\n",
    "UID=str(uuid.uuid4())[:8]\n",
    "print(f'UID: {UID}, DATE: {DATE}')    "
   ]
  },
  {
   "cell_type": "code",
   "execution_count": 99,
   "metadata": {},
   "outputs": [],
   "source": [
    "#UID='0d3edb45'\n",
    "#DATE='20191214'"
   ]
  },
  {
   "cell_type": "code",
   "execution_count": 100,
   "metadata": {},
   "outputs": [],
   "source": [
    "SUBSET_DATA=False\n",
    "SUBSET_LEN=171"
   ]
  },
  {
   "cell_type": "code",
   "execution_count": 101,
   "metadata": {},
   "outputs": [],
   "source": [
    "tgt_height = 256\n",
    "data_dir = Path('../data')\n",
    "train_images = data_dir/'train_images'\n",
    "train_path = train_images/'2200'\n",
    "cropped_train_mask = train_path/'masked/cropped'\n",
    "cropped_train_mask_6_colour = train_path/'masked/cropped_6_colour'\n",
    "cropped_train_img = train_path/'GR/cropped'\n",
    "train_img = train_path/'GR'\n",
    "train_mask = train_path/'masked'\n",
    "\n",
    "test_base = data_dir/'test_images'\n",
    "test_img = test_base/'2200/cropped'"
   ]
  },
  {
   "cell_type": "code",
   "execution_count": 102,
   "metadata": {},
   "outputs": [],
   "source": [
    "filename = data_dir/'CAX_LogFacies_Train_File.csv'"
   ]
  },
  {
   "cell_type": "markdown",
   "metadata": {},
   "source": [
    "#### all data"
   ]
  },
  {
   "cell_type": "code",
   "execution_count": 103,
   "metadata": {},
   "outputs": [],
   "source": [
    "training_data = pd.read_csv(filename)\n",
    "training_data.head()\n",
    "training_data['well_file']='well_'+training_data['well_id'].astype(str)+'.png'\n",
    "wells=training_data['well_file'].unique()\n",
    "all_wells_df=pd.DataFrame(wells)\n",
    "all_wells_df.head()\n",
    "    \n",
    "df_val = all_wells_df.sample(frac=0.2)\n",
    "idx=df_val.index\n",
    "df_trn=all_wells_df[~all_wells_df.index.isin(idx)]\n",
    "assert len(df_val)+len(df_trn)==len(all_wells_df)\n",
    "#df_val.to_csv(train_path/'val_20pct.csv', index=False, header=False)"
   ]
  },
  {
   "cell_type": "code",
   "execution_count": 104,
   "metadata": {},
   "outputs": [
    {
     "data": {
      "text/html": [
       "<div>\n",
       "<style scoped>\n",
       "    .dataframe tbody tr th:only-of-type {\n",
       "        vertical-align: middle;\n",
       "    }\n",
       "\n",
       "    .dataframe tbody tr th {\n",
       "        vertical-align: top;\n",
       "    }\n",
       "\n",
       "    .dataframe thead th {\n",
       "        text-align: right;\n",
       "    }\n",
       "</style>\n",
       "<table border=\"1\" class=\"dataframe\">\n",
       "  <thead>\n",
       "    <tr style=\"text-align: right;\">\n",
       "      <th></th>\n",
       "      <th>0</th>\n",
       "    </tr>\n",
       "  </thead>\n",
       "  <tbody>\n",
       "    <tr>\n",
       "      <td>3526</td>\n",
       "      <td>well_3526.png</td>\n",
       "    </tr>\n",
       "    <tr>\n",
       "      <td>3133</td>\n",
       "      <td>well_3133.png</td>\n",
       "    </tr>\n",
       "    <tr>\n",
       "      <td>3992</td>\n",
       "      <td>well_3992.png</td>\n",
       "    </tr>\n",
       "    <tr>\n",
       "      <td>2274</td>\n",
       "      <td>well_2274.png</td>\n",
       "    </tr>\n",
       "    <tr>\n",
       "      <td>3614</td>\n",
       "      <td>well_3614.png</td>\n",
       "    </tr>\n",
       "  </tbody>\n",
       "</table>\n",
       "</div>"
      ],
      "text/plain": [
       "                  0\n",
       "3526  well_3526.png\n",
       "3133  well_3133.png\n",
       "3992  well_3992.png\n",
       "2274  well_2274.png\n",
       "3614  well_3614.png"
      ]
     },
     "execution_count": 104,
     "metadata": {},
     "output_type": "execute_result"
    }
   ],
   "source": [
    "df_val.tail()"
   ]
  },
  {
   "cell_type": "markdown",
   "metadata": {},
   "source": [
    "#### Subset"
   ]
  },
  {
   "cell_type": "code",
   "execution_count": 105,
   "metadata": {},
   "outputs": [],
   "source": [
    "df_val = pd.read_csv(train_images/'mask_fill/train/val_20pct.csv', names=[\"well_id\"])\n",
    "ids=range(0,SUBSET_LEN)\n",
    "well_names=[]\n",
    "for i in ids:\n",
    "    well_names.append('well_'+str(i)+'.png')\n",
    "df_sub_val=df_val.loc[df_val['well_id'].isin(well_names)]\n",
    "#df_sub_val.to_csv(train_sub_path/'val_sub_20pct.csv', index=False, header=False)"
   ]
  },
  {
   "cell_type": "markdown",
   "metadata": {},
   "source": [
    "### Data"
   ]
  },
  {
   "cell_type": "code",
   "execution_count": 106,
   "metadata": {},
   "outputs": [
    {
     "data": {
      "text/plain": [
       "4000"
      ]
     },
     "execution_count": 106,
     "metadata": {},
     "output_type": "execute_result"
    }
   ],
   "source": [
    "train_img_names = get_image_files(train_img)\n",
    "len(train_img_names)"
   ]
  },
  {
   "cell_type": "code",
   "execution_count": 107,
   "metadata": {},
   "outputs": [
    {
     "data": {
      "text/plain": [
       "[PosixPath('../data/train_images/2200/GR/well_2640.png'),\n",
       " PosixPath('../data/train_images/2200/GR/well_2552.png'),\n",
       " PosixPath('../data/train_images/2200/GR/well_1321.png')]"
      ]
     },
     "execution_count": 107,
     "metadata": {},
     "output_type": "execute_result"
    }
   ],
   "source": [
    "train_img_names[:3]"
   ]
  },
  {
   "cell_type": "code",
   "execution_count": 108,
   "metadata": {},
   "outputs": [
    {
     "data": {
      "text/plain": [
       "[PosixPath('../data/train_images/2200/masked/well_2640.png'),\n",
       " PosixPath('../data/train_images/2200/masked/well_2552.png'),\n",
       " PosixPath('../data/train_images/2200/masked/well_1321.png')]"
      ]
     },
     "execution_count": 108,
     "metadata": {},
     "output_type": "execute_result"
    }
   ],
   "source": [
    "train_mask_names = get_image_files(train_mask)\n",
    "train_mask_names[:3]"
   ]
  },
  {
   "cell_type": "markdown",
   "metadata": {},
   "source": [
    "### Data QC"
   ]
  },
  {
   "cell_type": "code",
   "execution_count": 109,
   "metadata": {},
   "outputs": [],
   "source": [
    "inames=[]\n",
    "mnames=[]\n",
    "for im in train_img_names:\n",
    "    inames.append(im.name)\n",
    "for im in train_mask_names:\n",
    "    mnames.append(im.name)"
   ]
  },
  {
   "cell_type": "code",
   "execution_count": 110,
   "metadata": {},
   "outputs": [
    {
     "data": {
      "text/plain": [
       "PosixPath('../data/train_images/2200/GR/well_2640.png')"
      ]
     },
     "execution_count": 110,
     "metadata": {},
     "output_type": "execute_result"
    }
   ],
   "source": [
    "train_img_names[0]"
   ]
  },
  {
   "cell_type": "code",
   "execution_count": 111,
   "metadata": {},
   "outputs": [],
   "source": [
    "missing_i_m=set(inames) - set(mnames)"
   ]
  },
  {
   "cell_type": "code",
   "execution_count": 112,
   "metadata": {},
   "outputs": [],
   "source": [
    "missing_m_i= set(mnames)-set(inames) "
   ]
  },
  {
   "cell_type": "code",
   "execution_count": 113,
   "metadata": {},
   "outputs": [],
   "source": [
    "assert len(missing_i_m)==len(missing_m_i)==0"
   ]
  },
  {
   "cell_type": "code",
   "execution_count": 114,
   "metadata": {},
   "outputs": [
    {
     "data": {
      "text/plain": [
       "4000"
      ]
     },
     "execution_count": 114,
     "metadata": {},
     "output_type": "execute_result"
    }
   ],
   "source": [
    "len(inames)"
   ]
  },
  {
   "cell_type": "code",
   "execution_count": 115,
   "metadata": {},
   "outputs": [
    {
     "data": {
      "text/plain": [
       "4000"
      ]
     },
     "execution_count": 115,
     "metadata": {},
     "output_type": "execute_result"
    }
   ],
   "source": [
    "len(mnames)"
   ]
  },
  {
   "cell_type": "code",
   "execution_count": 116,
   "metadata": {},
   "outputs": [],
   "source": [
    "inames.sort()\n",
    "mnames.sort()"
   ]
  },
  {
   "cell_type": "code",
   "execution_count": 117,
   "metadata": {},
   "outputs": [
    {
     "data": {
      "text/plain": [
       "4000"
      ]
     },
     "execution_count": 117,
     "metadata": {},
     "output_type": "execute_result"
    }
   ],
   "source": [
    "len(inames)"
   ]
  },
  {
   "cell_type": "code",
   "execution_count": 118,
   "metadata": {},
   "outputs": [],
   "source": [
    "for im,mm in zip(inames, mnames):\n",
    "    assert im==mm\n",
    "    img=train_img/f'{im}'\n",
    "    mmg=train_mask/f'{mm}'\n",
    "    img_ =pil_image.open(img)\n",
    "    mmg_ =pil_image.open(mmg)\n",
    "    if img_.size != mmg_.size:\n",
    "        print(f'img_.size: {img_.size} != mmg_.size: {mmg_.size}')"
   ]
  },
  {
   "cell_type": "code",
   "execution_count": 119,
   "metadata": {
    "scrolled": false
   },
   "outputs": [
    {
     "name": "stdout",
     "output_type": "stream",
     "text": [
      "../data/train_images/2200/GR/well_1770.png\n"
     ]
    },
    {
     "data": {
      "image/png": "[encoded data removed]",
      "text/plain": [
       "<Figure size 1296x288 with 1 Axes>"
      ]
     },
     "metadata": {
      "needs_background": "light"
     },
     "output_type": "display_data"
    }
   ],
   "source": [
    "img_f = train_img_names[5]\n",
    "print(img_f)\n",
    "img_gr = open_image(img_f)\n",
    "img_gr.show(figsize=(18,4))"
   ]
  },
  {
   "cell_type": "code",
   "execution_count": 120,
   "metadata": {},
   "outputs": [],
   "source": [
    "img_h, img_w=img_gr.size"
   ]
  },
  {
   "cell_type": "code",
   "execution_count": 121,
   "metadata": {},
   "outputs": [
    {
     "data": {
      "text/plain": [
       "2200"
      ]
     },
     "execution_count": 121,
     "metadata": {},
     "output_type": "execute_result"
    }
   ],
   "source": [
    "img_w"
   ]
  },
  {
   "cell_type": "code",
   "execution_count": 122,
   "metadata": {},
   "outputs": [
    {
     "data": {
      "text/plain": [
       "512"
      ]
     },
     "execution_count": 122,
     "metadata": {},
     "output_type": "execute_result"
    }
   ],
   "source": [
    "img_h"
   ]
  },
  {
   "cell_type": "code",
   "execution_count": 123,
   "metadata": {},
   "outputs": [],
   "source": [
    "get_y_fn = lambda x: train_mask/f'{x.stem}{x.suffix}' # converts from image to mask file namez"
   ]
  },
  {
   "cell_type": "code",
   "execution_count": 124,
   "metadata": {},
   "outputs": [
    {
     "data": {
      "image/png": "[encoded data removed]",
      "text/plain": [
       "<Figure size 1296x288 with 1 Axes>"
      ]
     },
     "metadata": {
      "needs_background": "light"
     },
     "output_type": "display_data"
    }
   ],
   "source": [
    "mask = open_mask(get_y_fn(img_f))\n",
    "mask.show(figsize=(18,4), alpha=1)"
   ]
  },
  {
   "cell_type": "code",
   "execution_count": 125,
   "metadata": {},
   "outputs": [
    {
     "data": {
      "text/plain": [
       "(array([ 512, 2200]), tensor([[[255, 255, 255,  ..., 255, 255, 255],\n",
       "          [255, 255, 255,  ..., 255, 255, 255],\n",
       "          [255, 255, 255,  ..., 255, 255, 255],\n",
       "          ...,\n",
       "          [ 99,  99,  99,  ...,  99,  99,  99],\n",
       "          [ 99,  99,  99,  ...,  99,  99,  99],\n",
       "          [ 99,  99,  99,  ...,  99,  99,  99]]]))"
      ]
     },
     "execution_count": 125,
     "metadata": {},
     "output_type": "execute_result"
    }
   ],
   "source": [
    "src_size = np.array(mask.shape[1:])\n",
    "src_size,mask.data"
   ]
  },
  {
   "cell_type": "code",
   "execution_count": 126,
   "metadata": {},
   "outputs": [
    {
     "data": {
      "text/plain": [
       "torch.Size([1, 512, 2200])"
      ]
     },
     "execution_count": 126,
     "metadata": {},
     "output_type": "execute_result"
    }
   ],
   "source": [
    "mask.data.shape"
   ]
  },
  {
   "cell_type": "code",
   "execution_count": 127,
   "metadata": {},
   "outputs": [
    {
     "data": {
      "text/plain": [
       "array([ 99, 112, 152, 195, 199, 255])"
      ]
     },
     "execution_count": 127,
     "metadata": {},
     "output_type": "execute_result"
    }
   ],
   "source": [
    "np.unique(mask.data.numpy())"
   ]
  },
  {
   "cell_type": "code",
   "execution_count": 128,
   "metadata": {},
   "outputs": [
    {
     "data": {
      "text/plain": [
       "array([ 99, 112, 152, 195, 199, 255])"
      ]
     },
     "execution_count": 128,
     "metadata": {},
     "output_type": "execute_result"
    }
   ],
   "source": [
    "img_fn = train_img_names[30]\n",
    "mask = open_mask(get_y_fn(img_fn))\n",
    "np.unique(mask.data.numpy())"
   ]
  },
  {
   "cell_type": "markdown",
   "metadata": {},
   "source": [
    "Check what the unique colours are in the masks generated in matplotlib"
   ]
  },
  {
   "cell_type": "code",
   "execution_count": 129,
   "metadata": {},
   "outputs": [
    {
     "data": {
      "text/plain": [
       "defaultdict(int,\n",
       "            {(255, 255, 255, 255): 494016,\n",
       "             (31, 119, 180, 255): 447574,\n",
       "             (44, 160, 44, 255): 61988,\n",
       "             (174, 199, 232, 255): 17232,\n",
       "             (255, 187, 120, 255): 68656,\n",
       "             (255, 127, 14, 255): 36934})"
      ]
     },
     "execution_count": 129,
     "metadata": {},
     "output_type": "execute_result"
    }
   ],
   "source": [
    "im = pil_image.open(get_y_fn(img_fn))\n",
    "from collections import defaultdict\n",
    "by_color = defaultdict(int)\n",
    "for pixel in im.getdata():\n",
    "    by_color[pixel] += 1\n",
    "by_color"
   ]
  },
  {
   "cell_type": "code",
   "execution_count": 130,
   "metadata": {},
   "outputs": [
    {
     "data": {
      "text/plain": [
       "defaultdict(int,\n",
       "            {(255, 255, 255, 255): 503809,\n",
       "             (174, 199, 232, 255): 54546,\n",
       "             (31, 119, 180, 255): 408689,\n",
       "             (44, 160, 44, 255): 7654,\n",
       "             (255, 187, 120, 255): 35536,\n",
       "             (255, 127, 14, 255): 116166})"
      ]
     },
     "execution_count": 130,
     "metadata": {},
     "output_type": "execute_result"
    }
   ],
   "source": [
    "im = pil_image.open(get_y_fn(img_f))\n",
    "from collections import defaultdict\n",
    "by_color = defaultdict(int)\n",
    "for pixel in im.getdata():\n",
    "    by_color[pixel] += 1\n",
    "by_color"
   ]
  },
  {
   "cell_type": "markdown",
   "metadata": {},
   "source": [
    "### Convert masks to n color values only\n",
    "\n",
    "We now convert the 0-255 range pixel values to 0-5 range\n",
    "\n",
    "NB these were generated using the tab20 cmap in mpl (previous version used a bespoke cmap list)"
   ]
  },
  {
   "cell_type": "code",
   "execution_count": 131,
   "metadata": {},
   "outputs": [],
   "source": [
    "f_u_values=[]\n",
    "def fai_get_all_uniques(images):\n",
    "    for im in images:\n",
    "        mask = open_mask(get_y_fn(im))\n",
    "        f_u_values.extend(np.unique(mask.data.numpy().tolist()))\n",
    "    return f_u_values"
   ]
  },
  {
   "cell_type": "code",
   "execution_count": 132,
   "metadata": {},
   "outputs": [
    {
     "data": {
      "text/plain": [
       "[PosixPath('../data/train_images/2200/masked/well_2640.png'),\n",
       " PosixPath('../data/train_images/2200/masked/well_2552.png'),\n",
       " PosixPath('../data/train_images/2200/masked/well_1321.png'),\n",
       " PosixPath('../data/train_images/2200/masked/well_1001.png'),\n",
       " PosixPath('../data/train_images/2200/masked/well_2711.png'),\n",
       " PosixPath('../data/train_images/2200/masked/well_1770.png'),\n",
       " PosixPath('../data/train_images/2200/masked/well_2758.png'),\n",
       " PosixPath('../data/train_images/2200/masked/well_674.png'),\n",
       " PosixPath('../data/train_images/2200/masked/well_605.png'),\n",
       " PosixPath('../data/train_images/2200/masked/well_3079.png'),\n",
       " PosixPath('../data/train_images/2200/masked/well_984.png'),\n",
       " PosixPath('../data/train_images/2200/masked/well_3031.png'),\n",
       " PosixPath('../data/train_images/2200/masked/well_1303.png'),\n",
       " PosixPath('../data/train_images/2200/masked/well_51.png'),\n",
       " PosixPath('../data/train_images/2200/masked/well_2389.png'),\n",
       " PosixPath('../data/train_images/2200/masked/well_3176.png'),\n",
       " PosixPath('../data/train_images/2200/masked/well_3441.png'),\n",
       " PosixPath('../data/train_images/2200/masked/well_1757.png'),\n",
       " PosixPath('../data/train_images/2200/masked/well_3834.png'),\n",
       " PosixPath('../data/train_images/2200/masked/well_774.png'),\n",
       " PosixPath('../data/train_images/2200/masked/well_437.png'),\n",
       " PosixPath('../data/train_images/2200/masked/well_579.png'),\n",
       " PosixPath('../data/train_images/2200/masked/well_1680.png'),\n",
       " PosixPath('../data/train_images/2200/masked/well_645.png'),\n",
       " PosixPath('../data/train_images/2200/masked/well_703.png'),\n",
       " PosixPath('../data/train_images/2200/masked/well_3541.png'),\n",
       " PosixPath('../data/train_images/2200/masked/well_375.png'),\n",
       " PosixPath('../data/train_images/2200/masked/well_2289.png'),\n",
       " PosixPath('../data/train_images/2200/masked/well_2698.png'),\n",
       " PosixPath('../data/train_images/2200/masked/well_3300.png'),\n",
       " PosixPath('../data/train_images/2200/masked/well_3802.png'),\n",
       " PosixPath('../data/train_images/2200/masked/well_2500.png'),\n",
       " PosixPath('../data/train_images/2200/masked/well_3274.png'),\n",
       " PosixPath('../data/train_images/2200/masked/well_2087.png'),\n",
       " PosixPath('../data/train_images/2200/masked/well_2326.png'),\n",
       " PosixPath('../data/train_images/2200/masked/well_2321.png'),\n",
       " PosixPath('../data/train_images/2200/masked/well_3804.png'),\n",
       " PosixPath('../data/train_images/2200/masked/well_1343.png'),\n",
       " PosixPath('../data/train_images/2200/masked/well_748.png'),\n",
       " PosixPath('../data/train_images/2200/masked/well_2413.png'),\n",
       " PosixPath('../data/train_images/2200/masked/well_3873.png'),\n",
       " PosixPath('../data/train_images/2200/masked/well_2457.png'),\n",
       " PosixPath('../data/train_images/2200/masked/well_2143.png'),\n",
       " PosixPath('../data/train_images/2200/masked/well_1787.png'),\n",
       " PosixPath('../data/train_images/2200/masked/well_949.png'),\n",
       " PosixPath('../data/train_images/2200/masked/well_2010.png'),\n",
       " PosixPath('../data/train_images/2200/masked/well_1289.png'),\n",
       " PosixPath('../data/train_images/2200/masked/well_3125.png'),\n",
       " PosixPath('../data/train_images/2200/masked/well_1049.png'),\n",
       " PosixPath('../data/train_images/2200/masked/well_1206.png'),\n",
       " PosixPath('../data/train_images/2200/masked/well_2089.png'),\n",
       " PosixPath('../data/train_images/2200/masked/well_2189.png'),\n",
       " PosixPath('../data/train_images/2200/masked/well_2481.png'),\n",
       " PosixPath('../data/train_images/2200/masked/well_668.png'),\n",
       " PosixPath('../data/train_images/2200/masked/well_1175.png'),\n",
       " PosixPath('../data/train_images/2200/masked/well_3908.png'),\n",
       " PosixPath('../data/train_images/2200/masked/well_1261.png'),\n",
       " PosixPath('../data/train_images/2200/masked/well_1489.png'),\n",
       " PosixPath('../data/train_images/2200/masked/well_191.png'),\n",
       " PosixPath('../data/train_images/2200/masked/well_1738.png'),\n",
       " PosixPath('../data/train_images/2200/masked/well_1622.png'),\n",
       " PosixPath('../data/train_images/2200/masked/well_2784.png'),\n",
       " PosixPath('../data/train_images/2200/masked/well_2834.png'),\n",
       " PosixPath('../data/train_images/2200/masked/well_3676.png'),\n",
       " PosixPath('../data/train_images/2200/masked/well_3515.png'),\n",
       " PosixPath('../data/train_images/2200/masked/well_560.png'),\n",
       " PosixPath('../data/train_images/2200/masked/well_1125.png'),\n",
       " PosixPath('../data/train_images/2200/masked/well_2179.png'),\n",
       " PosixPath('../data/train_images/2200/masked/well_2985.png'),\n",
       " PosixPath('../data/train_images/2200/masked/well_872.png'),\n",
       " PosixPath('../data/train_images/2200/masked/well_625.png'),\n",
       " PosixPath('../data/train_images/2200/masked/well_3479.png'),\n",
       " PosixPath('../data/train_images/2200/masked/well_487.png'),\n",
       " PosixPath('../data/train_images/2200/masked/well_369.png'),\n",
       " PosixPath('../data/train_images/2200/masked/well_808.png'),\n",
       " PosixPath('../data/train_images/2200/masked/well_2643.png'),\n",
       " PosixPath('../data/train_images/2200/masked/well_2832.png'),\n",
       " PosixPath('../data/train_images/2200/masked/well_2012.png'),\n",
       " PosixPath('../data/train_images/2200/masked/well_2971.png'),\n",
       " PosixPath('../data/train_images/2200/masked/well_3982.png'),\n",
       " PosixPath('../data/train_images/2200/masked/well_789.png'),\n",
       " PosixPath('../data/train_images/2200/masked/well_501.png'),\n",
       " PosixPath('../data/train_images/2200/masked/well_1841.png'),\n",
       " PosixPath('../data/train_images/2200/masked/well_2210.png'),\n",
       " PosixPath('../data/train_images/2200/masked/well_3881.png'),\n",
       " PosixPath('../data/train_images/2200/masked/well_566.png'),\n",
       " PosixPath('../data/train_images/2200/masked/well_427.png'),\n",
       " PosixPath('../data/train_images/2200/masked/well_1605.png'),\n",
       " PosixPath('../data/train_images/2200/masked/well_73.png'),\n",
       " PosixPath('../data/train_images/2200/masked/well_2173.png'),\n",
       " PosixPath('../data/train_images/2200/masked/well_2568.png'),\n",
       " PosixPath('../data/train_images/2200/masked/well_2028.png'),\n",
       " PosixPath('../data/train_images/2200/masked/well_2339.png'),\n",
       " PosixPath('../data/train_images/2200/masked/well_305.png'),\n",
       " PosixPath('../data/train_images/2200/masked/well_142.png'),\n",
       " PosixPath('../data/train_images/2200/masked/well_2312.png'),\n",
       " PosixPath('../data/train_images/2200/masked/well_1773.png'),\n",
       " PosixPath('../data/train_images/2200/masked/well_2288.png'),\n",
       " PosixPath('../data/train_images/2200/masked/well_996.png'),\n",
       " PosixPath('../data/train_images/2200/masked/well_77.png'),\n",
       " PosixPath('../data/train_images/2200/masked/well_1846.png'),\n",
       " PosixPath('../data/train_images/2200/masked/well_3795.png'),\n",
       " PosixPath('../data/train_images/2200/masked/well_3565.png'),\n",
       " PosixPath('../data/train_images/2200/masked/well_3941.png'),\n",
       " PosixPath('../data/train_images/2200/masked/well_2046.png'),\n",
       " PosixPath('../data/train_images/2200/masked/well_3186.png'),\n",
       " PosixPath('../data/train_images/2200/masked/well_2555.png'),\n",
       " PosixPath('../data/train_images/2200/masked/well_461.png'),\n",
       " PosixPath('../data/train_images/2200/masked/well_1013.png'),\n",
       " PosixPath('../data/train_images/2200/masked/well_1943.png'),\n",
       " PosixPath('../data/train_images/2200/masked/well_1538.png'),\n",
       " PosixPath('../data/train_images/2200/masked/well_1162.png'),\n",
       " PosixPath('../data/train_images/2200/masked/well_2174.png'),\n",
       " PosixPath('../data/train_images/2200/masked/well_621.png'),\n",
       " PosixPath('../data/train_images/2200/masked/well_2819.png'),\n",
       " PosixPath('../data/train_images/2200/masked/well_1252.png'),\n",
       " PosixPath('../data/train_images/2200/masked/well_3256.png'),\n",
       " PosixPath('../data/train_images/2200/masked/well_1319.png'),\n",
       " PosixPath('../data/train_images/2200/masked/well_249.png'),\n",
       " PosixPath('../data/train_images/2200/masked/well_1687.png'),\n",
       " PosixPath('../data/train_images/2200/masked/well_3952.png'),\n",
       " PosixPath('../data/train_images/2200/masked/well_356.png'),\n",
       " PosixPath('../data/train_images/2200/masked/well_2840.png'),\n",
       " PosixPath('../data/train_images/2200/masked/well_3034.png'),\n",
       " PosixPath('../data/train_images/2200/masked/well_3993.png'),\n",
       " PosixPath('../data/train_images/2200/masked/well_1677.png'),\n",
       " PosixPath('../data/train_images/2200/masked/well_1235.png'),\n",
       " PosixPath('../data/train_images/2200/masked/well_1877.png'),\n",
       " PosixPath('../data/train_images/2200/masked/well_2745.png'),\n",
       " PosixPath('../data/train_images/2200/masked/well_2313.png'),\n",
       " PosixPath('../data/train_images/2200/masked/well_3199.png'),\n",
       " PosixPath('../data/train_images/2200/masked/well_3944.png'),\n",
       " PosixPath('../data/train_images/2200/masked/well_813.png'),\n",
       " PosixPath('../data/train_images/2200/masked/well_1233.png'),\n",
       " PosixPath('../data/train_images/2200/masked/well_1868.png'),\n",
       " PosixPath('../data/train_images/2200/masked/well_459.png'),\n",
       " PosixPath('../data/train_images/2200/masked/well_580.png'),\n",
       " PosixPath('../data/train_images/2200/masked/well_3338.png'),\n",
       " PosixPath('../data/train_images/2200/masked/well_1376.png'),\n",
       " PosixPath('../data/train_images/2200/masked/well_850.png'),\n",
       " PosixPath('../data/train_images/2200/masked/well_588.png'),\n",
       " PosixPath('../data/train_images/2200/masked/well_3283.png'),\n",
       " PosixPath('../data/train_images/2200/masked/well_3508.png'),\n",
       " PosixPath('../data/train_images/2200/masked/well_2274.png'),\n",
       " PosixPath('../data/train_images/2200/masked/well_1264.png'),\n",
       " PosixPath('../data/train_images/2200/masked/well_1688.png'),\n",
       " PosixPath('../data/train_images/2200/masked/well_1060.png'),\n",
       " PosixPath('../data/train_images/2200/masked/well_2684.png'),\n",
       " PosixPath('../data/train_images/2200/masked/well_2352.png'),\n",
       " PosixPath('../data/train_images/2200/masked/well_1090.png'),\n",
       " PosixPath('../data/train_images/2200/masked/well_3638.png'),\n",
       " PosixPath('../data/train_images/2200/masked/well_242.png'),\n",
       " PosixPath('../data/train_images/2200/masked/well_107.png'),\n",
       " PosixPath('../data/train_images/2200/masked/well_631.png'),\n",
       " PosixPath('../data/train_images/2200/masked/well_15.png'),\n",
       " PosixPath('../data/train_images/2200/masked/well_3400.png'),\n",
       " PosixPath('../data/train_images/2200/masked/well_1570.png'),\n",
       " PosixPath('../data/train_images/2200/masked/well_3331.png'),\n",
       " PosixPath('../data/train_images/2200/masked/well_2911.png'),\n",
       " PosixPath('../data/train_images/2200/masked/well_2880.png'),\n",
       " PosixPath('../data/train_images/2200/masked/well_476.png'),\n",
       " PosixPath('../data/train_images/2200/masked/well_2923.png'),\n",
       " PosixPath('../data/train_images/2200/masked/well_2300.png'),\n",
       " PosixPath('../data/train_images/2200/masked/well_3653.png'),\n",
       " PosixPath('../data/train_images/2200/masked/well_1829.png'),\n",
       " PosixPath('../data/train_images/2200/masked/well_2636.png'),\n",
       " PosixPath('../data/train_images/2200/masked/well_320.png'),\n",
       " PosixPath('../data/train_images/2200/masked/well_2474.png'),\n",
       " PosixPath('../data/train_images/2200/masked/well_2959.png'),\n",
       " PosixPath('../data/train_images/2200/masked/well_342.png'),\n",
       " PosixPath('../data/train_images/2200/masked/well_968.png'),\n",
       " PosixPath('../data/train_images/2200/masked/well_534.png'),\n",
       " PosixPath('../data/train_images/2200/masked/well_3220.png'),\n",
       " PosixPath('../data/train_images/2200/masked/well_1422.png'),\n",
       " PosixPath('../data/train_images/2200/masked/well_498.png'),\n",
       " PosixPath('../data/train_images/2200/masked/well_1815.png'),\n",
       " PosixPath('../data/train_images/2200/masked/well_76.png'),\n",
       " PosixPath('../data/train_images/2200/masked/well_3358.png'),\n",
       " PosixPath('../data/train_images/2200/masked/well_3688.png'),\n",
       " PosixPath('../data/train_images/2200/masked/well_1337.png'),\n",
       " PosixPath('../data/train_images/2200/masked/well_500.png'),\n",
       " PosixPath('../data/train_images/2200/masked/well_3137.png'),\n",
       " PosixPath('../data/train_images/2200/masked/well_349.png'),\n",
       " PosixPath('../data/train_images/2200/masked/well_3988.png'),\n",
       " PosixPath('../data/train_images/2200/masked/well_3749.png'),\n",
       " PosixPath('../data/train_images/2200/masked/well_3218.png'),\n",
       " PosixPath('../data/train_images/2200/masked/well_3476.png'),\n",
       " PosixPath('../data/train_images/2200/masked/well_1002.png'),\n",
       " PosixPath('../data/train_images/2200/masked/well_3161.png'),\n",
       " PosixPath('../data/train_images/2200/masked/well_2130.png'),\n",
       " PosixPath('../data/train_images/2200/masked/well_2760.png'),\n",
       " PosixPath('../data/train_images/2200/masked/well_2533.png'),\n",
       " PosixPath('../data/train_images/2200/masked/well_225.png'),\n",
       " PosixPath('../data/train_images/2200/masked/well_1850.png'),\n",
       " PosixPath('../data/train_images/2200/masked/well_1411.png'),\n",
       " PosixPath('../data/train_images/2200/masked/well_1749.png'),\n",
       " PosixPath('../data/train_images/2200/masked/well_3770.png'),\n",
       " PosixPath('../data/train_images/2200/masked/well_807.png'),\n",
       " PosixPath('../data/train_images/2200/masked/well_1539.png'),\n",
       " PosixPath('../data/train_images/2200/masked/well_2717.png'),\n",
       " PosixPath('../data/train_images/2200/masked/well_3121.png'),\n",
       " PosixPath('../data/train_images/2200/masked/well_2488.png'),\n",
       " PosixPath('../data/train_images/2200/masked/well_2335.png'),\n",
       " PosixPath('../data/train_images/2200/masked/well_74.png'),\n",
       " PosixPath('../data/train_images/2200/masked/well_2731.png'),\n",
       " PosixPath('../data/train_images/2200/masked/well_809.png'),\n",
       " PosixPath('../data/train_images/2200/masked/well_3278.png'),\n",
       " PosixPath('../data/train_images/2200/masked/well_3230.png'),\n",
       " PosixPath('../data/train_images/2200/masked/well_2682.png'),\n",
       " PosixPath('../data/train_images/2200/masked/well_3425.png'),\n",
       " PosixPath('../data/train_images/2200/masked/well_203.png'),\n",
       " PosixPath('../data/train_images/2200/masked/well_3439.png'),\n",
       " PosixPath('../data/train_images/2200/masked/well_3239.png'),\n",
       " PosixPath('../data/train_images/2200/masked/well_389.png'),\n",
       " PosixPath('../data/train_images/2200/masked/well_460.png'),\n",
       " PosixPath('../data/train_images/2200/masked/well_3909.png'),\n",
       " PosixPath('../data/train_images/2200/masked/well_725.png'),\n",
       " PosixPath('../data/train_images/2200/masked/well_3055.png'),\n",
       " PosixPath('../data/train_images/2200/masked/well_2097.png'),\n",
       " PosixPath('../data/train_images/2200/masked/well_445.png'),\n",
       " PosixPath('../data/train_images/2200/masked/well_3637.png'),\n",
       " PosixPath('../data/train_images/2200/masked/well_336.png'),\n",
       " PosixPath('../data/train_images/2200/masked/well_1414.png'),\n",
       " PosixPath('../data/train_images/2200/masked/well_3355.png'),\n",
       " PosixPath('../data/train_images/2200/masked/well_3970.png'),\n",
       " PosixPath('../data/train_images/2200/masked/well_72.png'),\n",
       " PosixPath('../data/train_images/2200/masked/well_1469.png'),\n",
       " PosixPath('../data/train_images/2200/masked/well_2586.png'),\n",
       " PosixPath('../data/train_images/2200/masked/well_930.png'),\n",
       " PosixPath('../data/train_images/2200/masked/well_3365.png'),\n",
       " PosixPath('../data/train_images/2200/masked/well_298.png'),\n",
       " PosixPath('../data/train_images/2200/masked/well_1891.png'),\n",
       " PosixPath('../data/train_images/2200/masked/well_303.png'),\n",
       " PosixPath('../data/train_images/2200/masked/well_1573.png'),\n",
       " PosixPath('../data/train_images/2200/masked/well_2417.png'),\n",
       " PosixPath('../data/train_images/2200/masked/well_3715.png'),\n",
       " PosixPath('../data/train_images/2200/masked/well_2919.png'),\n",
       " PosixPath('../data/train_images/2200/masked/well_3763.png'),\n",
       " PosixPath('../data/train_images/2200/masked/well_1251.png'),\n",
       " PosixPath('../data/train_images/2200/masked/well_3934.png'),\n",
       " PosixPath('../data/train_images/2200/masked/well_113.png'),\n",
       " PosixPath('../data/train_images/2200/masked/well_1000.png'),\n",
       " PosixPath('../data/train_images/2200/masked/well_2107.png'),\n",
       " PosixPath('../data/train_images/2200/masked/well_2807.png'),\n",
       " PosixPath('../data/train_images/2200/masked/well_181.png'),\n",
       " PosixPath('../data/train_images/2200/masked/well_3447.png'),\n",
       " PosixPath('../data/train_images/2200/masked/well_1774.png'),\n",
       " PosixPath('../data/train_images/2200/masked/well_3931.png'),\n",
       " PosixPath('../data/train_images/2200/masked/well_3180.png'),\n",
       " PosixPath('../data/train_images/2200/masked/well_1784.png'),\n",
       " PosixPath('../data/train_images/2200/masked/well_162.png'),\n",
       " PosixPath('../data/train_images/2200/masked/well_2992.png'),\n",
       " PosixPath('../data/train_images/2200/masked/well_959.png'),\n",
       " PosixPath('../data/train_images/2200/masked/well_507.png'),\n",
       " PosixPath('../data/train_images/2200/masked/well_3442.png'),\n",
       " PosixPath('../data/train_images/2200/masked/well_2251.png'),\n",
       " PosixPath('../data/train_images/2200/masked/well_1335.png'),\n",
       " PosixPath('../data/train_images/2200/masked/well_2204.png'),\n",
       " PosixPath('../data/train_images/2200/masked/well_2768.png'),\n",
       " PosixPath('../data/train_images/2200/masked/well_2730.png'),\n",
       " PosixPath('../data/train_images/2200/masked/well_2392.png'),\n",
       " PosixPath('../data/train_images/2200/masked/well_2279.png'),\n",
       " PosixPath('../data/train_images/2200/masked/well_423.png'),\n",
       " PosixPath('../data/train_images/2200/masked/well_3459.png'),\n",
       " PosixPath('../data/train_images/2200/masked/well_3174.png'),\n",
       " PosixPath('../data/train_images/2200/masked/well_360.png'),\n",
       " PosixPath('../data/train_images/2200/masked/well_992.png'),\n",
       " PosixPath('../data/train_images/2200/masked/well_2328.png'),\n",
       " PosixPath('../data/train_images/2200/masked/well_3157.png'),\n",
       " PosixPath('../data/train_images/2200/masked/well_2217.png'),\n",
       " PosixPath('../data/train_images/2200/masked/well_2393.png'),\n",
       " PosixPath('../data/train_images/2200/masked/well_720.png'),\n",
       " PosixPath('../data/train_images/2200/masked/well_3894.png'),\n",
       " PosixPath('../data/train_images/2200/masked/well_2182.png'),\n",
       " PosixPath('../data/train_images/2200/masked/well_2779.png'),\n",
       " PosixPath('../data/train_images/2200/masked/well_2487.png'),\n",
       " PosixPath('../data/train_images/2200/masked/well_428.png'),\n",
       " PosixPath('../data/train_images/2200/masked/well_1925.png'),\n",
       " PosixPath('../data/train_images/2200/masked/well_2014.png'),\n",
       " PosixPath('../data/train_images/2200/masked/well_2178.png'),\n",
       " PosixPath('../data/train_images/2200/masked/well_3557.png'),\n",
       " PosixPath('../data/train_images/2200/masked/well_1203.png'),\n",
       " PosixPath('../data/train_images/2200/masked/well_2646.png'),\n",
       " PosixPath('../data/train_images/2200/masked/well_3114.png'),\n",
       " PosixPath('../data/train_images/2200/masked/well_497.png'),\n",
       " PosixPath('../data/train_images/2200/masked/well_3744.png'),\n",
       " PosixPath('../data/train_images/2200/masked/well_3466.png'),\n",
       " PosixPath('../data/train_images/2200/masked/well_2377.png'),\n",
       " PosixPath('../data/train_images/2200/masked/well_1771.png'),\n",
       " PosixPath('../data/train_images/2200/masked/well_2269.png'),\n",
       " PosixPath('../data/train_images/2200/masked/well_3122.png'),\n",
       " PosixPath('../data/train_images/2200/masked/well_3411.png'),\n",
       " PosixPath('../data/train_images/2200/masked/well_659.png'),\n",
       " PosixPath('../data/train_images/2200/masked/well_2299.png'),\n",
       " PosixPath('../data/train_images/2200/masked/well_2019.png'),\n",
       " PosixPath('../data/train_images/2200/masked/well_963.png'),\n",
       " PosixPath('../data/train_images/2200/masked/well_2705.png'),\n",
       " PosixPath('../data/train_images/2200/masked/well_2704.png'),\n",
       " PosixPath('../data/train_images/2200/masked/well_3398.png'),\n",
       " PosixPath('../data/train_images/2200/masked/well_1012.png'),\n",
       " PosixPath('../data/train_images/2200/masked/well_619.png'),\n",
       " PosixPath('../data/train_images/2200/masked/well_0.png'),\n",
       " PosixPath('../data/train_images/2200/masked/well_1185.png'),\n",
       " PosixPath('../data/train_images/2200/masked/well_2804.png'),\n",
       " PosixPath('../data/train_images/2200/masked/well_45.png'),\n",
       " PosixPath('../data/train_images/2200/masked/well_3538.png'),\n",
       " PosixPath('../data/train_images/2200/masked/well_455.png'),\n",
       " PosixPath('../data/train_images/2200/masked/well_117.png'),\n",
       " PosixPath('../data/train_images/2200/masked/well_679.png'),\n",
       " PosixPath('../data/train_images/2200/masked/well_934.png'),\n",
       " PosixPath('../data/train_images/2200/masked/well_1737.png'),\n",
       " PosixPath('../data/train_images/2200/masked/well_913.png'),\n",
       " PosixPath('../data/train_images/2200/masked/well_2983.png'),\n",
       " PosixPath('../data/train_images/2200/masked/well_2802.png'),\n",
       " PosixPath('../data/train_images/2200/masked/well_3056.png'),\n",
       " PosixPath('../data/train_images/2200/masked/well_365.png'),\n",
       " PosixPath('../data/train_images/2200/masked/well_1340.png'),\n",
       " PosixPath('../data/train_images/2200/masked/well_1342.png'),\n",
       " PosixPath('../data/train_images/2200/masked/well_799.png'),\n",
       " PosixPath('../data/train_images/2200/masked/well_866.png'),\n",
       " PosixPath('../data/train_images/2200/masked/well_1568.png'),\n",
       " PosixPath('../data/train_images/2200/masked/well_3351.png'),\n",
       " PosixPath('../data/train_images/2200/masked/well_3452.png'),\n",
       " PosixPath('../data/train_images/2200/masked/well_3775.png'),\n",
       " PosixPath('../data/train_images/2200/masked/well_1221.png'),\n",
       " PosixPath('../data/train_images/2200/masked/well_3678.png'),\n",
       " PosixPath('../data/train_images/2200/masked/well_935.png'),\n",
       " PosixPath('../data/train_images/2200/masked/well_259.png'),\n",
       " PosixPath('../data/train_images/2200/masked/well_3626.png'),\n",
       " PosixPath('../data/train_images/2200/masked/well_543.png'),\n",
       " PosixPath('../data/train_images/2200/masked/well_2599.png'),\n",
       " PosixPath('../data/train_images/2200/masked/well_1085.png'),\n",
       " PosixPath('../data/train_images/2200/masked/well_2796.png'),\n",
       " PosixPath('../data/train_images/2200/masked/well_3146.png'),\n",
       " PosixPath('../data/train_images/2200/masked/well_2720.png'),\n",
       " PosixPath('../data/train_images/2200/masked/well_3860.png'),\n",
       " PosixPath('../data/train_images/2200/masked/well_1662.png'),\n",
       " PosixPath('../data/train_images/2200/masked/well_3848.png'),\n",
       " PosixPath('../data/train_images/2200/masked/well_1930.png'),\n",
       " PosixPath('../data/train_images/2200/masked/well_481.png'),\n",
       " PosixPath('../data/train_images/2200/masked/well_3531.png'),\n",
       " PosixPath('../data/train_images/2200/masked/well_1005.png'),\n",
       " PosixPath('../data/train_images/2200/masked/well_3689.png'),\n",
       " PosixPath('../data/train_images/2200/masked/well_2004.png'),\n",
       " PosixPath('../data/train_images/2200/masked/well_94.png'),\n",
       " PosixPath('../data/train_images/2200/masked/well_1257.png'),\n",
       " PosixPath('../data/train_images/2200/masked/well_2473.png'),\n",
       " PosixPath('../data/train_images/2200/masked/well_1792.png'),\n",
       " PosixPath('../data/train_images/2200/masked/well_697.png'),\n",
       " PosixPath('../data/train_images/2200/masked/well_2541.png'),\n",
       " PosixPath('../data/train_images/2200/masked/well_1427.png'),\n",
       " PosixPath('../data/train_images/2200/masked/well_1811.png'),\n",
       " PosixPath('../data/train_images/2200/masked/well_1826.png'),\n",
       " PosixPath('../data/train_images/2200/masked/well_2092.png'),\n",
       " PosixPath('../data/train_images/2200/masked/well_3263.png'),\n",
       " PosixPath('../data/train_images/2200/masked/well_1381.png'),\n",
       " PosixPath('../data/train_images/2200/masked/well_2996.png'),\n",
       " PosixPath('../data/train_images/2200/masked/well_890.png'),\n",
       " PosixPath('../data/train_images/2200/masked/well_1267.png'),\n",
       " PosixPath('../data/train_images/2200/masked/well_1195.png'),\n",
       " PosixPath('../data/train_images/2200/masked/well_2901.png'),\n",
       " PosixPath('../data/train_images/2200/masked/well_390.png'),\n",
       " PosixPath('../data/train_images/2200/masked/well_719.png'),\n",
       " PosixPath('../data/train_images/2200/masked/well_3063.png'),\n",
       " PosixPath('../data/train_images/2200/masked/well_2826.png'),\n",
       " PosixPath('../data/train_images/2200/masked/well_2199.png'),\n",
       " PosixPath('../data/train_images/2200/masked/well_159.png'),\n",
       " PosixPath('../data/train_images/2200/masked/well_3242.png'),\n",
       " PosixPath('../data/train_images/2200/masked/well_3383.png'),\n",
       " PosixPath('../data/train_images/2200/masked/well_3815.png'),\n",
       " PosixPath('../data/train_images/2200/masked/well_1051.png'),\n",
       " PosixPath('../data/train_images/2200/masked/well_1352.png'),\n",
       " PosixPath('../data/train_images/2200/masked/well_2811.png'),\n",
       " PosixPath('../data/train_images/2200/masked/well_3270.png'),\n",
       " PosixPath('../data/train_images/2200/masked/well_2623.png'),\n",
       " PosixPath('../data/train_images/2200/masked/well_2600.png'),\n",
       " PosixPath('../data/train_images/2200/masked/well_3889.png'),\n",
       " PosixPath('../data/train_images/2200/masked/well_1440.png'),\n",
       " PosixPath('../data/train_images/2200/masked/well_3181.png'),\n",
       " PosixPath('../data/train_images/2200/masked/well_2676.png'),\n",
       " PosixPath('../data/train_images/2200/masked/well_3875.png'),\n",
       " PosixPath('../data/train_images/2200/masked/well_564.png'),\n",
       " PosixPath('../data/train_images/2200/masked/well_2029.png'),\n",
       " PosixPath('../data/train_images/2200/masked/well_3077.png'),\n",
       " PosixPath('../data/train_images/2200/masked/well_2044.png'),\n",
       " PosixPath('../data/train_images/2200/masked/well_3333.png'),\n",
       " PosixPath('../data/train_images/2200/masked/well_3306.png'),\n",
       " PosixPath('../data/train_images/2200/masked/well_3266.png'),\n",
       " PosixPath('../data/train_images/2200/masked/well_3660.png'),\n",
       " PosixPath('../data/train_images/2200/masked/well_3530.png'),\n",
       " PosixPath('../data/train_images/2200/masked/well_1690.png'),\n",
       " PosixPath('../data/train_images/2200/masked/well_646.png'),\n",
       " PosixPath('../data/train_images/2200/masked/well_2384.png'),\n",
       " PosixPath('../data/train_images/2200/masked/well_541.png'),\n",
       " PosixPath('../data/train_images/2200/masked/well_1809.png'),\n",
       " PosixPath('../data/train_images/2200/masked/well_2551.png'),\n",
       " PosixPath('../data/train_images/2200/masked/well_1898.png'),\n",
       " PosixPath('../data/train_images/2200/masked/well_2909.png'),\n",
       " PosixPath('../data/train_images/2200/masked/well_1610.png'),\n",
       " PosixPath('../data/train_images/2200/masked/well_2051.png'),\n",
       " PosixPath('../data/train_images/2200/masked/well_981.png'),\n",
       " PosixPath('../data/train_images/2200/masked/well_2341.png'),\n",
       " PosixPath('../data/train_images/2200/masked/well_2910.png'),\n",
       " PosixPath('../data/train_images/2200/masked/well_1100.png'),\n",
       " PosixPath('../data/train_images/2200/masked/well_2002.png'),\n",
       " PosixPath('../data/train_images/2200/masked/well_616.png'),\n",
       " PosixPath('../data/train_images/2200/masked/well_3107.png'),\n",
       " PosixPath('../data/train_images/2200/masked/well_1326.png'),\n",
       " PosixPath('../data/train_images/2200/masked/well_1220.png'),\n",
       " PosixPath('../data/train_images/2200/masked/well_1268.png'),\n",
       " PosixPath('../data/train_images/2200/masked/well_3556.png'),\n",
       " PosixPath('../data/train_images/2200/masked/well_3105.png'),\n",
       " PosixPath('../data/train_images/2200/masked/well_2595.png'),\n",
       " PosixPath('../data/train_images/2200/masked/well_2000.png'),\n",
       " PosixPath('../data/train_images/2200/masked/well_263.png'),\n",
       " PosixPath('../data/train_images/2200/masked/well_2616.png'),\n",
       " PosixPath('../data/train_images/2200/masked/well_2798.png'),\n",
       " PosixPath('../data/train_images/2200/masked/well_2015.png'),\n",
       " PosixPath('../data/train_images/2200/masked/well_1669.png'),\n",
       " PosixPath('../data/train_images/2200/masked/well_144.png'),\n",
       " PosixPath('../data/train_images/2200/masked/well_1140.png'),\n",
       " PosixPath('../data/train_images/2200/masked/well_1551.png'),\n",
       " PosixPath('../data/train_images/2200/masked/well_3159.png'),\n",
       " PosixPath('../data/train_images/2200/masked/well_764.png'),\n",
       " PosixPath('../data/train_images/2200/masked/well_2165.png'),\n",
       " PosixPath('../data/train_images/2200/masked/well_188.png'),\n",
       " PosixPath('../data/train_images/2200/masked/well_2192.png'),\n",
       " PosixPath('../data/train_images/2200/masked/well_3234.png'),\n",
       " PosixPath('../data/train_images/2200/masked/well_3066.png'),\n",
       " PosixPath('../data/train_images/2200/masked/well_2257.png'),\n",
       " PosixPath('../data/train_images/2200/masked/well_3015.png'),\n",
       " PosixPath('../data/train_images/2200/masked/well_664.png'),\n",
       " PosixPath('../data/train_images/2200/masked/well_299.png'),\n",
       " PosixPath('../data/train_images/2200/masked/well_3645.png'),\n",
       " PosixPath('../data/train_images/2200/masked/well_2466.png'),\n",
       " PosixPath('../data/train_images/2200/masked/well_2974.png'),\n",
       " PosixPath('../data/train_images/2200/masked/well_1966.png'),\n",
       " PosixPath('../data/train_images/2200/masked/well_3232.png'),\n",
       " PosixPath('../data/train_images/2200/masked/well_883.png'),\n",
       " PosixPath('../data/train_images/2200/masked/well_1575.png'),\n",
       " PosixPath('../data/train_images/2200/masked/well_244.png'),\n",
       " PosixPath('../data/train_images/2200/masked/well_2138.png'),\n",
       " PosixPath('../data/train_images/2200/masked/well_3796.png'),\n",
       " PosixPath('../data/train_images/2200/masked/well_2433.png'),\n",
       " PosixPath('../data/train_images/2200/masked/well_2931.png'),\n",
       " PosixPath('../data/train_images/2200/masked/well_709.png'),\n",
       " PosixPath('../data/train_images/2200/masked/well_675.png'),\n",
       " PosixPath('../data/train_images/2200/masked/well_2546.png'),\n",
       " PosixPath('../data/train_images/2200/masked/well_1615.png'),\n",
       " PosixPath('../data/train_images/2200/masked/well_519.png'),\n",
       " PosixPath('../data/train_images/2200/masked/well_1652.png'),\n",
       " PosixPath('../data/train_images/2200/masked/well_2424.png'),\n",
       " PosixPath('../data/train_images/2200/masked/well_3927.png'),\n",
       " PosixPath('../data/train_images/2200/masked/well_3057.png'),\n",
       " PosixPath('../data/train_images/2200/masked/well_977.png'),\n",
       " PosixPath('../data/train_images/2200/masked/well_838.png'),\n",
       " PosixPath('../data/train_images/2200/masked/well_2362.png'),\n",
       " PosixPath('../data/train_images/2200/masked/well_849.png'),\n",
       " PosixPath('../data/train_images/2200/masked/well_3690.png'),\n",
       " PosixPath('../data/train_images/2200/masked/well_3008.png'),\n",
       " PosixPath('../data/train_images/2200/masked/well_1408.png'),\n",
       " PosixPath('../data/train_images/2200/masked/well_207.png'),\n",
       " PosixPath('../data/train_images/2200/masked/well_2370.png'),\n",
       " PosixPath('../data/train_images/2200/masked/well_1873.png'),\n",
       " PosixPath('../data/train_images/2200/masked/well_2839.png'),\n",
       " PosixPath('../data/train_images/2200/masked/well_214.png'),\n",
       " PosixPath('../data/train_images/2200/masked/well_266.png'),\n",
       " PosixPath('../data/train_images/2200/masked/well_200.png'),\n",
       " PosixPath('../data/train_images/2200/masked/well_958.png'),\n",
       " PosixPath('../data/train_images/2200/masked/well_395.png'),\n",
       " PosixPath('../data/train_images/2200/masked/well_379.png'),\n",
       " PosixPath('../data/train_images/2200/masked/well_3155.png'),\n",
       " PosixPath('../data/train_images/2200/masked/well_1579.png'),\n",
       " PosixPath('../data/train_images/2200/masked/well_3212.png'),\n",
       " PosixPath('../data/train_images/2200/masked/well_1828.png'),\n",
       " PosixPath('../data/train_images/2200/masked/well_274.png'),\n",
       " PosixPath('../data/train_images/2200/masked/well_937.png'),\n",
       " PosixPath('../data/train_images/2200/masked/well_1236.png'),\n",
       " PosixPath('../data/train_images/2200/masked/well_1725.png'),\n",
       " PosixPath('../data/train_images/2200/masked/well_3823.png'),\n",
       " PosixPath('../data/train_images/2200/masked/well_3124.png'),\n",
       " PosixPath('../data/train_images/2200/masked/well_2943.png'),\n",
       " PosixPath('../data/train_images/2200/masked/well_2453.png'),\n",
       " PosixPath('../data/train_images/2200/masked/well_1761.png'),\n",
       " PosixPath('../data/train_images/2200/masked/well_1499.png'),\n",
       " PosixPath('../data/train_images/2200/masked/well_286.png'),\n",
       " PosixPath('../data/train_images/2200/masked/well_233.png'),\n",
       " PosixPath('../data/train_images/2200/masked/well_2163.png'),\n",
       " PosixPath('../data/train_images/2200/masked/well_3308.png'),\n",
       " PosixPath('../data/train_images/2200/masked/well_3252.png'),\n",
       " PosixPath('../data/train_images/2200/masked/well_289.png'),\n",
       " PosixPath('../data/train_images/2200/masked/well_721.png'),\n",
       " PosixPath('../data/train_images/2200/masked/well_43.png'),\n",
       " PosixPath('../data/train_images/2200/masked/well_84.png'),\n",
       " PosixPath('../data/train_images/2200/masked/well_3829.png'),\n",
       " PosixPath('../data/train_images/2200/masked/well_734.png'),\n",
       " PosixPath('../data/train_images/2200/masked/well_3027.png'),\n",
       " PosixPath('../data/train_images/2200/masked/well_746.png'),\n",
       " PosixPath('../data/train_images/2200/masked/well_1931.png'),\n",
       " PosixPath('../data/train_images/2200/masked/well_3401.png'),\n",
       " PosixPath('../data/train_images/2200/masked/well_2508.png'),\n",
       " PosixPath('../data/train_images/2200/masked/well_903.png'),\n",
       " PosixPath('../data/train_images/2200/masked/well_1797.png'),\n",
       " PosixPath('../data/train_images/2200/masked/well_2310.png'),\n",
       " PosixPath('../data/train_images/2200/masked/well_114.png'),\n",
       " PosixPath('../data/train_images/2200/masked/well_1654.png'),\n",
       " PosixPath('../data/train_images/2200/masked/well_715.png'),\n",
       " PosixPath('../data/train_images/2200/masked/well_490.png'),\n",
       " PosixPath('../data/train_images/2200/masked/well_371.png'),\n",
       " PosixPath('../data/train_images/2200/masked/well_1424.png'),\n",
       " PosixPath('../data/train_images/2200/masked/well_1554.png'),\n",
       " PosixPath('../data/train_images/2200/masked/well_2403.png'),\n",
       " PosixPath('../data/train_images/2200/masked/well_3687.png'),\n",
       " PosixPath('../data/train_images/2200/masked/well_568.png'),\n",
       " PosixPath('../data/train_images/2200/masked/well_1475.png'),\n",
       " PosixPath('../data/train_images/2200/masked/well_1360.png'),\n",
       " PosixPath('../data/train_images/2200/masked/well_642.png'),\n",
       " PosixPath('../data/train_images/2200/masked/well_677.png'),\n",
       " PosixPath('../data/train_images/2200/masked/well_3570.png'),\n",
       " PosixPath('../data/train_images/2200/masked/well_3292.png'),\n",
       " PosixPath('../data/train_images/2200/masked/well_1742.png'),\n",
       " PosixPath('../data/train_images/2200/masked/well_512.png'),\n",
       " PosixPath('../data/train_images/2200/masked/well_1528.png'),\n",
       " PosixPath('../data/train_images/2200/masked/well_2353.png'),\n",
       " PosixPath('../data/train_images/2200/masked/well_2556.png'),\n",
       " PosixPath('../data/train_images/2200/masked/well_3781.png'),\n",
       " PosixPath('../data/train_images/2200/masked/well_620.png'),\n",
       " PosixPath('../data/train_images/2200/masked/well_2132.png'),\n",
       " PosixPath('../data/train_images/2200/masked/well_2036.png'),\n",
       " PosixPath('../data/train_images/2200/masked/well_2575.png'),\n",
       " PosixPath('../data/train_images/2200/masked/well_2696.png'),\n",
       " PosixPath('../data/train_images/2200/masked/well_2844.png'),\n",
       " PosixPath('../data/train_images/2200/masked/well_2762.png'),\n",
       " PosixPath('../data/train_images/2200/masked/well_3916.png'),\n",
       " PosixPath('../data/train_images/2200/masked/well_2942.png'),\n",
       " PosixPath('../data/train_images/2200/masked/well_1111.png'),\n",
       " PosixPath('../data/train_images/2200/masked/well_3839.png'),\n",
       " PosixPath('../data/train_images/2200/masked/well_3104.png'),\n",
       " PosixPath('../data/train_images/2200/masked/well_2242.png'),\n",
       " PosixPath('../data/train_images/2200/masked/well_1034.png'),\n",
       " PosixPath('../data/train_images/2200/masked/well_582.png'),\n",
       " PosixPath('../data/train_images/2200/masked/well_2694.png'),\n",
       " PosixPath('../data/train_images/2200/masked/well_1959.png'),\n",
       " PosixPath('../data/train_images/2200/masked/well_3006.png'),\n",
       " PosixPath('../data/train_images/2200/masked/well_3876.png'),\n",
       " PosixPath('../data/train_images/2200/masked/well_2388.png'),\n",
       " PosixPath('../data/train_images/2200/masked/well_350.png'),\n",
       " PosixPath('../data/train_images/2200/masked/well_57.png'),\n",
       " PosixPath('../data/train_images/2200/masked/well_1648.png'),\n",
       " PosixPath('../data/train_images/2200/masked/well_2034.png'),\n",
       " PosixPath('../data/train_images/2200/masked/well_945.png'),\n",
       " PosixPath('../data/train_images/2200/masked/well_2921.png'),\n",
       " PosixPath('../data/train_images/2200/masked/well_1117.png'),\n",
       " PosixPath('../data/train_images/2200/masked/well_1542.png'),\n",
       " PosixPath('../data/train_images/2200/masked/well_309.png'),\n",
       " PosixPath('../data/train_images/2200/masked/well_1169.png'),\n",
       " PosixPath('../data/train_images/2200/masked/well_189.png'),\n",
       " PosixPath('../data/train_images/2200/masked/well_474.png'),\n",
       " PosixPath('../data/train_images/2200/masked/well_333.png'),\n",
       " PosixPath('../data/train_images/2200/masked/well_327.png'),\n",
       " PosixPath('../data/train_images/2200/masked/well_1821.png'),\n",
       " PosixPath('../data/train_images/2200/masked/well_1580.png'),\n",
       " PosixPath('../data/train_images/2200/masked/well_3821.png'),\n",
       " PosixPath('../data/train_images/2200/masked/well_2398.png'),\n",
       " PosixPath('../data/train_images/2200/masked/well_3443.png'),\n",
       " PosixPath('../data/train_images/2200/masked/well_2701.png'),\n",
       " PosixPath('../data/train_images/2200/masked/well_2172.png'),\n",
       " PosixPath('../data/train_images/2200/masked/well_3140.png'),\n",
       " PosixPath('../data/train_images/2200/masked/well_33.png'),\n",
       " PosixPath('../data/train_images/2200/masked/well_355.png'),\n",
       " PosixPath('../data/train_images/2200/masked/well_258.png'),\n",
       " PosixPath('../data/train_images/2200/masked/well_3432.png'),\n",
       " PosixPath('../data/train_images/2200/masked/well_321.png'),\n",
       " PosixPath('../data/train_images/2200/masked/well_737.png'),\n",
       " PosixPath('../data/train_images/2200/masked/well_3011.png'),\n",
       " PosixPath('../data/train_images/2200/masked/well_1022.png'),\n",
       " PosixPath('../data/train_images/2200/masked/well_1379.png'),\n",
       " PosixPath('../data/train_images/2200/masked/well_2057.png'),\n",
       " PosixPath('../data/train_images/2200/masked/well_2490.png'),\n",
       " PosixPath('../data/train_images/2200/masked/well_3340.png'),\n",
       " PosixPath('../data/train_images/2200/masked/well_833.png'),\n",
       " PosixPath('../data/train_images/2200/masked/well_3766.png'),\n",
       " PosixPath('../data/train_images/2200/masked/well_1476.png'),\n",
       " PosixPath('../data/train_images/2200/masked/well_2642.png'),\n",
       " PosixPath('../data/train_images/2200/masked/well_1104.png'),\n",
       " PosixPath('../data/train_images/2200/masked/well_649.png'),\n",
       " PosixPath('../data/train_images/2200/masked/well_2545.png'),\n",
       " PosixPath('../data/train_images/2200/masked/well_1785.png'),\n",
       " PosixPath('../data/train_images/2200/masked/well_2896.png'),\n",
       " PosixPath('../data/train_images/2200/masked/well_2767.png'),\n",
       " PosixPath('../data/train_images/2200/masked/well_2721.png'),\n",
       " PosixPath('../data/train_images/2200/masked/well_3182.png'),\n",
       " PosixPath('../data/train_images/2200/masked/well_3478.png'),\n",
       " PosixPath('../data/train_images/2200/masked/well_1325.png'),\n",
       " PosixPath('../data/train_images/2200/masked/well_2746.png'),\n",
       " PosixPath('../data/train_images/2200/masked/well_475.png'),\n",
       " PosixPath('../data/train_images/2200/masked/well_1949.png'),\n",
       " PosixPath('../data/train_images/2200/masked/well_821.png'),\n",
       " PosixPath('../data/train_images/2200/masked/well_3395.png'),\n",
       " PosixPath('../data/train_images/2200/masked/well_815.png'),\n",
       " PosixPath('../data/train_images/2200/masked/well_1529.png'),\n",
       " PosixPath('../data/train_images/2200/masked/well_535.png'),\n",
       " PosixPath('../data/train_images/2200/masked/well_2007.png'),\n",
       " PosixPath('../data/train_images/2200/masked/well_3786.png'),\n",
       " PosixPath('../data/train_images/2200/masked/well_1450.png'),\n",
       " PosixPath('../data/train_images/2200/masked/well_2430.png'),\n",
       " PosixPath('../data/train_images/2200/masked/well_3495.png'),\n",
       " PosixPath('../data/train_images/2200/masked/well_1506.png'),\n",
       " PosixPath('../data/train_images/2200/masked/well_1386.png'),\n",
       " PosixPath('../data/train_images/2200/masked/well_2588.png'),\n",
       " PosixPath('../data/train_images/2200/masked/well_364.png'),\n",
       " PosixPath('../data/train_images/2200/masked/well_1484.png'),\n",
       " PosixPath('../data/train_images/2200/masked/well_2719.png'),\n",
       " PosixPath('../data/train_images/2200/masked/well_898.png'),\n",
       " PosixPath('../data/train_images/2200/masked/well_2835.png'),\n",
       " PosixPath('../data/train_images/2200/masked/well_641.png'),\n",
       " PosixPath('../data/train_images/2200/masked/well_578.png'),\n",
       " PosixPath('../data/train_images/2200/masked/well_2925.png'),\n",
       " PosixPath('../data/train_images/2200/masked/well_1250.png'),\n",
       " PosixPath('../data/train_images/2200/masked/well_2224.png'),\n",
       " PosixPath('../data/train_images/2200/masked/well_3580.png'),\n",
       " PosixPath('../data/train_images/2200/masked/well_1541.png'),\n",
       " PosixPath('../data/train_images/2200/masked/well_1037.png'),\n",
       " PosixPath('../data/train_images/2200/masked/well_1728.png'),\n",
       " PosixPath('../data/train_images/2200/masked/well_3435.png'),\n",
       " PosixPath('../data/train_images/2200/masked/well_1912.png'),\n",
       " PosixPath('../data/train_images/2200/masked/well_3528.png'),\n",
       " PosixPath('../data/train_images/2200/masked/well_3835.png'),\n",
       " PosixPath('../data/train_images/2200/masked/well_2118.png'),\n",
       " PosixPath('../data/train_images/2200/masked/well_3424.png'),\n",
       " PosixPath('../data/train_images/2200/masked/well_2429.png'),\n",
       " PosixPath('../data/train_images/2200/masked/well_401.png'),\n",
       " PosixPath('../data/train_images/2200/masked/well_2882.png'),\n",
       " PosixPath('../data/train_images/2200/masked/well_489.png'),\n",
       " PosixPath('../data/train_images/2200/masked/well_3044.png'),\n",
       " PosixPath('../data/train_images/2200/masked/well_3973.png'),\n",
       " PosixPath('../data/train_images/2200/masked/well_129.png'),\n",
       " PosixPath('../data/train_images/2200/masked/well_3741.png'),\n",
       " PosixPath('../data/train_images/2200/masked/well_825.png'),\n",
       " PosixPath('../data/train_images/2200/masked/well_1256.png'),\n",
       " PosixPath('../data/train_images/2200/masked/well_1574.png'),\n",
       " PosixPath('../data/train_images/2200/masked/well_3569.png'),\n",
       " PosixPath('../data/train_images/2200/masked/well_585.png'),\n",
       " PosixPath('../data/train_images/2200/masked/well_3082.png'),\n",
       " PosixPath('../data/train_images/2200/masked/well_758.png'),\n",
       " PosixPath('../data/train_images/2200/masked/well_3752.png'),\n",
       " PosixPath('../data/train_images/2200/masked/well_2209.png'),\n",
       " PosixPath('../data/train_images/2200/masked/well_1420.png'),\n",
       " PosixPath('../data/train_images/2200/masked/well_997.png'),\n",
       " PosixPath('../data/train_images/2200/masked/well_2801.png'),\n",
       " PosixPath('../data/train_images/2200/masked/well_2408.png'),\n",
       " PosixPath('../data/train_images/2200/masked/well_270.png'),\n",
       " PosixPath('../data/train_images/2200/masked/well_1230.png'),\n",
       " PosixPath('../data/train_images/2200/masked/well_2954.png'),\n",
       " PosixPath('../data/train_images/2200/masked/well_3704.png'),\n",
       " PosixPath('../data/train_images/2200/masked/well_1061.png'),\n",
       " PosixPath('../data/train_images/2200/masked/well_1840.png'),\n",
       " PosixPath('../data/train_images/2200/masked/well_2659.png'),\n",
       " PosixPath('../data/train_images/2200/masked/well_1505.png'),\n",
       " PosixPath('../data/train_images/2200/masked/well_1084.png'),\n",
       " PosixPath('../data/train_images/2200/masked/well_2497.png'),\n",
       " PosixPath('../data/train_images/2200/masked/well_577.png'),\n",
       " PosixPath('../data/train_images/2200/masked/well_2690.png'),\n",
       " PosixPath('../data/train_images/2200/masked/well_3664.png'),\n",
       " PosixPath('../data/train_images/2200/masked/well_948.png'),\n",
       " PosixPath('../data/train_images/2200/masked/well_3641.png'),\n",
       " PosixPath('../data/train_images/2200/masked/well_2757.png'),\n",
       " PosixPath('../data/train_images/2200/masked/well_50.png'),\n",
       " PosixPath('../data/train_images/2200/masked/well_2472.png'),\n",
       " PosixPath('../data/train_images/2200/masked/well_2188.png'),\n",
       " PosixPath('../data/train_images/2200/masked/well_1657.png'),\n",
       " PosixPath('../data/train_images/2200/masked/well_2437.png'),\n",
       " PosixPath('../data/train_images/2200/masked/well_472.png'),\n",
       " PosixPath('../data/train_images/2200/masked/well_2857.png'),\n",
       " PosixPath('../data/train_images/2200/masked/well_614.png'),\n",
       " PosixPath('../data/train_images/2200/masked/well_3739.png'),\n",
       " PosixPath('../data/train_images/2200/masked/well_3498.png'),\n",
       " PosixPath('../data/train_images/2200/masked/well_148.png'),\n",
       " PosixPath('../data/train_images/2200/masked/well_1409.png'),\n",
       " PosixPath('../data/train_images/2200/masked/well_453.png'),\n",
       " PosixPath('../data/train_images/2200/masked/well_2126.png'),\n",
       " PosixPath('../data/train_images/2200/masked/well_1896.png'),\n",
       " PosixPath('../data/train_images/2200/masked/well_410.png'),\n",
       " PosixPath('../data/train_images/2200/masked/well_2478.png'),\n",
       " PosixPath('../data/train_images/2200/masked/well_3865.png'),\n",
       " PosixPath('../data/train_images/2200/masked/well_85.png'),\n",
       " PosixPath('../data/train_images/2200/masked/well_1632.png'),\n",
       " PosixPath('../data/train_images/2200/masked/well_328.png'),\n",
       " PosixPath('../data/train_images/2200/masked/well_2147.png'),\n",
       " PosixPath('../data/train_images/2200/masked/well_3885.png'),\n",
       " PosixPath('../data/train_images/2200/masked/well_2415.png'),\n",
       " PosixPath('../data/train_images/2200/masked/well_661.png'),\n",
       " PosixPath('../data/train_images/2200/masked/well_301.png'),\n",
       " PosixPath('../data/train_images/2200/masked/well_2330.png'),\n",
       " PosixPath('../data/train_images/2200/masked/well_3276.png'),\n",
       " PosixPath('../data/train_images/2200/masked/well_2946.png'),\n",
       " PosixPath('../data/train_images/2200/masked/well_2064.png'),\n",
       " PosixPath('../data/train_images/2200/masked/well_3827.png'),\n",
       " PosixPath('../data/train_images/2200/masked/well_1280.png'),\n",
       " PosixPath('../data/train_images/2200/masked/well_3106.png'),\n",
       " PosixPath('../data/train_images/2200/masked/well_2645.png'),\n",
       " PosixPath('../data/train_images/2200/masked/well_131.png'),\n",
       " PosixPath('../data/train_images/2200/masked/well_2936.png'),\n",
       " PosixPath('../data/train_images/2200/masked/well_3706.png'),\n",
       " PosixPath('../data/train_images/2200/masked/well_1062.png'),\n",
       " PosixPath('../data/train_images/2200/masked/well_1620.png'),\n",
       " PosixPath('../data/train_images/2200/masked/well_824.png'),\n",
       " PosixPath('../data/train_images/2200/masked/well_1812.png'),\n",
       " PosixPath('../data/train_images/2200/masked/well_277.png'),\n",
       " PosixPath('../data/train_images/2200/masked/well_2683.png'),\n",
       " PosixPath('../data/train_images/2200/masked/well_3665.png'),\n",
       " PosixPath('../data/train_images/2200/masked/well_3919.png'),\n",
       " PosixPath('../data/train_images/2200/masked/well_3738.png'),\n",
       " PosixPath('../data/train_images/2200/masked/well_2298.png'),\n",
       " PosixPath('../data/train_images/2200/masked/well_134.png'),\n",
       " PosixPath('../data/train_images/2200/masked/well_2109.png'),\n",
       " PosixPath('../data/train_images/2200/masked/well_3844.png'),\n",
       " PosixPath('../data/train_images/2200/masked/well_447.png'),\n",
       " PosixPath('../data/train_images/2200/masked/well_1763.png'),\n",
       " PosixPath('../data/train_images/2200/masked/well_2613.png'),\n",
       " PosixPath('../data/train_images/2200/masked/well_1732.png'),\n",
       " PosixPath('../data/train_images/2200/masked/well_2367.png'),\n",
       " PosixPath('../data/train_images/2200/masked/well_2973.png'),\n",
       " PosixPath('../data/train_images/2200/masked/well_2548.png'),\n",
       " PosixPath('../data/train_images/2200/masked/well_1833.png'),\n",
       " PosixPath('../data/train_images/2200/masked/well_1593.png'),\n",
       " PosixPath('../data/train_images/2200/masked/well_1937.png'),\n",
       " PosixPath('../data/train_images/2200/masked/well_3907.png'),\n",
       " PosixPath('../data/train_images/2200/masked/well_1163.png'),\n",
       " PosixPath('../data/train_images/2200/masked/well_3047.png'),\n",
       " PosixPath('../data/train_images/2200/masked/well_3945.png'),\n",
       " PosixPath('../data/train_images/2200/masked/well_710.png'),\n",
       " PosixPath('../data/train_images/2200/masked/well_1430.png'),\n",
       " PosixPath('../data/train_images/2200/masked/well_1801.png'),\n",
       " PosixPath('../data/train_images/2200/masked/well_845.png'),\n",
       " PosixPath('../data/train_images/2200/masked/well_1796.png'),\n",
       " PosixPath('../data/train_images/2200/masked/well_2304.png'),\n",
       " PosixPath('../data/train_images/2200/masked/well_2912.png'),\n",
       " PosixPath('../data/train_images/2200/masked/well_1045.png'),\n",
       " PosixPath('../data/train_images/2200/masked/well_1901.png'),\n",
       " PosixPath('../data/train_images/2200/masked/well_443.png'),\n",
       " PosixPath('../data/train_images/2200/masked/well_1253.png'),\n",
       " PosixPath('../data/train_images/2200/masked/well_457.png'),\n",
       " PosixPath('../data/train_images/2200/masked/well_83.png'),\n",
       " PosixPath('../data/train_images/2200/masked/well_3842.png'),\n",
       " PosixPath('../data/train_images/2200/masked/well_2407.png'),\n",
       " PosixPath('../data/train_images/2200/masked/well_478.png'),\n",
       " PosixPath('../data/train_images/2200/masked/well_2766.png'),\n",
       " PosixPath('../data/train_images/2200/masked/well_2449.png'),\n",
       " PosixPath('../data/train_images/2200/masked/well_1814.png'),\n",
       " PosixPath('../data/train_images/2200/masked/well_2661.png'),\n",
       " PosixPath('../data/train_images/2200/masked/well_3394.png'),\n",
       " PosixPath('../data/train_images/2200/masked/well_2893.png'),\n",
       " PosixPath('../data/train_images/2200/masked/well_2325.png'),\n",
       " PosixPath('../data/train_images/2200/masked/well_2805.png'),\n",
       " PosixPath('../data/train_images/2200/masked/well_239.png'),\n",
       " PosixPath('../data/train_images/2200/masked/well_1584.png'),\n",
       " PosixPath('../data/train_images/2200/masked/well_209.png'),\n",
       " PosixPath('../data/train_images/2200/masked/well_653.png'),\n",
       " PosixPath('../data/train_images/2200/masked/well_873.png'),\n",
       " PosixPath('../data/train_images/2200/masked/well_1627.png'),\n",
       " PosixPath('../data/train_images/2200/masked/well_1120.png'),\n",
       " PosixPath('../data/train_images/2200/masked/well_1384.png'),\n",
       " PosixPath('../data/train_images/2200/masked/well_586.png'),\n",
       " PosixPath('../data/train_images/2200/masked/well_624.png'),\n",
       " PosixPath('../data/train_images/2200/masked/well_458.png'),\n",
       " PosixPath('../data/train_images/2200/masked/well_3290.png'),\n",
       " PosixPath('../data/train_images/2200/masked/well_3058.png'),\n",
       " PosixPath('../data/train_images/2200/masked/well_3067.png'),\n",
       " PosixPath('../data/train_images/2200/masked/well_3454.png'),\n",
       " PosixPath('../data/train_images/2200/masked/well_2090.png'),\n",
       " PosixPath('../data/train_images/2200/masked/well_3867.png'),\n",
       " PosixPath('../data/train_images/2200/masked/well_1823.png'),\n",
       " PosixPath('../data/train_images/2200/masked/well_1804.png'),\n",
       " PosixPath('../data/train_images/2200/masked/well_3312.png'),\n",
       " PosixPath('../data/train_images/2200/masked/well_1498.png'),\n",
       " PosixPath('../data/train_images/2200/masked/well_1464.png'),\n",
       " PosixPath('../data/train_images/2200/masked/well_402.png'),\n",
       " PosixPath('../data/train_images/2200/masked/well_3009.png'),\n",
       " PosixPath('../data/train_images/2200/masked/well_3707.png'),\n",
       " PosixPath('../data/train_images/2200/masked/well_2175.png'),\n",
       " PosixPath('../data/train_images/2200/masked/well_3607.png'),\n",
       " PosixPath('../data/train_images/2200/masked/well_2862.png'),\n",
       " PosixPath('../data/train_images/2200/masked/well_1874.png'),\n",
       " PosixPath('../data/train_images/2200/masked/well_3073.png'),\n",
       " PosixPath('../data/train_images/2200/masked/well_3946.png'),\n",
       " PosixPath('../data/train_images/2200/masked/well_2277.png'),\n",
       " PosixPath('../data/train_images/2200/masked/well_3392.png'),\n",
       " PosixPath('../data/train_images/2200/masked/well_1240.png'),\n",
       " PosixPath('../data/train_images/2200/masked/well_3403.png'),\n",
       " PosixPath('../data/train_images/2200/masked/well_150.png'),\n",
       " PosixPath('../data/train_images/2200/masked/well_3560.png'),\n",
       " PosixPath('../data/train_images/2200/masked/well_137.png'),\n",
       " PosixPath('../data/train_images/2200/masked/well_3410.png'),\n",
       " PosixPath('../data/train_images/2200/masked/well_3254.png'),\n",
       " PosixPath('../data/train_images/2200/masked/well_1954.png'),\n",
       " PosixPath('../data/train_images/2200/masked/well_2075.png'),\n",
       " PosixPath('../data/train_images/2200/masked/well_3455.png'),\n",
       " PosixPath('../data/train_images/2200/masked/well_2414.png'),\n",
       " PosixPath('../data/train_images/2200/masked/well_3695.png'),\n",
       " PosixPath('../data/train_images/2200/masked/well_2940.png'),\n",
       " PosixPath('../data/train_images/2200/masked/well_1147.png'),\n",
       " PosixPath('../data/train_images/2200/masked/well_2759.png'),\n",
       " PosixPath('../data/train_images/2200/masked/well_2981.png'),\n",
       " PosixPath('../data/train_images/2200/masked/well_1807.png'),\n",
       " PosixPath('../data/train_images/2200/masked/well_1020.png'),\n",
       " PosixPath('../data/train_images/2200/masked/well_1318.png'),\n",
       " PosixPath('../data/train_images/2200/masked/well_2738.png'),\n",
       " PosixPath('../data/train_images/2200/masked/well_1254.png'),\n",
       " PosixPath('../data/train_images/2200/masked/well_2402.png'),\n",
       " PosixPath('../data/train_images/2200/masked/well_3348.png'),\n",
       " PosixPath('../data/train_images/2200/masked/well_2137.png'),\n",
       " PosixPath('../data/train_images/2200/masked/well_2032.png'),\n",
       " PosixPath('../data/train_images/2200/masked/well_2131.png'),\n",
       " PosixPath('../data/train_images/2200/masked/well_3470.png'),\n",
       " PosixPath('../data/train_images/2200/masked/well_3850.png'),\n",
       " PosixPath('../data/train_images/2200/masked/well_594.png'),\n",
       " PosixPath('../data/train_images/2200/masked/well_2463.png'),\n",
       " PosixPath('../data/train_images/2200/masked/well_563.png'),\n",
       " PosixPath('../data/train_images/2200/masked/well_3020.png'),\n",
       " PosixPath('../data/train_images/2200/masked/well_341.png'),\n",
       " PosixPath('../data/train_images/2200/masked/well_2652.png'),\n",
       " PosixPath('../data/train_images/2200/masked/well_3864.png'),\n",
       " PosixPath('../data/train_images/2200/masked/well_3961.png'),\n",
       " PosixPath('../data/train_images/2200/masked/well_2625.png'),\n",
       " PosixPath('../data/train_images/2200/masked/well_3841.png'),\n",
       " PosixPath('../data/train_images/2200/masked/well_906.png'),\n",
       " PosixPath('../data/train_images/2200/masked/well_3753.png'),\n",
       " PosixPath('../data/train_images/2200/masked/well_1976.png'),\n",
       " PosixPath('../data/train_images/2200/masked/well_1908.png'),\n",
       " PosixPath('../data/train_images/2200/masked/well_1700.png'),\n",
       " PosixPath('../data/train_images/2200/masked/well_2697.png'),\n",
       " PosixPath('../data/train_images/2200/masked/well_2230.png'),\n",
       " PosixPath('../data/train_images/2200/masked/well_2979.png'),\n",
       " PosixPath('../data/train_images/2200/masked/well_367.png'),\n",
       " PosixPath('../data/train_images/2200/masked/well_2345.png'),\n",
       " PosixPath('../data/train_images/2200/masked/well_1063.png'),\n",
       " PosixPath('../data/train_images/2200/masked/well_516.png'),\n",
       " PosixPath('../data/train_images/2200/masked/well_2707.png'),\n",
       " PosixPath('../data/train_images/2200/masked/well_3990.png'),\n",
       " PosixPath('../data/train_images/2200/masked/well_3729.png'),\n",
       " PosixPath('../data/train_images/2200/masked/well_1875.png'),\n",
       " PosixPath('../data/train_images/2200/masked/well_2455.png'),\n",
       " PosixPath('../data/train_images/2200/masked/well_3170.png'),\n",
       " PosixPath('../data/train_images/2200/masked/well_1685.png'),\n",
       " PosixPath('../data/train_images/2200/masked/well_3302.png'),\n",
       " PosixPath('../data/train_images/2200/masked/well_1854.png'),\n",
       " PosixPath('../data/train_images/2200/masked/well_1526.png'),\n",
       " PosixPath('../data/train_images/2200/masked/well_3414.png'),\n",
       " PosixPath('../data/train_images/2200/masked/well_3567.png'),\n",
       " PosixPath('../data/train_images/2200/masked/well_1704.png'),\n",
       " PosixPath('../data/train_images/2200/masked/well_735.png'),\n",
       " PosixPath('../data/train_images/2200/masked/well_3999.png'),\n",
       " PosixPath('../data/train_images/2200/masked/well_2001.png'),\n",
       " PosixPath('../data/train_images/2200/masked/well_656.png'),\n",
       " PosixPath('../data/train_images/2200/masked/well_1247.png'),\n",
       " PosixPath('../data/train_images/2200/masked/well_3030.png'),\n",
       " PosixPath('../data/train_images/2200/masked/well_2409.png'),\n",
       " PosixPath('../data/train_images/2200/masked/well_3938.png'),\n",
       " PosixPath('../data/train_images/2200/masked/well_185.png'),\n",
       " PosixPath('../data/train_images/2200/masked/well_3936.png'),\n",
       " PosixPath('../data/train_images/2200/masked/well_820.png'),\n",
       " PosixPath('../data/train_images/2200/masked/well_3963.png'),\n",
       " PosixPath('../data/train_images/2200/masked/well_3328.png'),\n",
       " PosixPath('../data/train_images/2200/masked/well_940.png'),\n",
       " PosixPath('../data/train_images/2200/masked/well_2307.png'),\n",
       " PosixPath('../data/train_images/2200/masked/well_885.png'),\n",
       " PosixPath('../data/train_images/2200/masked/well_30.png'),\n",
       " PosixPath('../data/train_images/2200/masked/well_1720.png'),\n",
       " PosixPath('../data/train_images/2200/masked/well_2439.png'),\n",
       " PosixPath('../data/train_images/2200/masked/well_1460.png'),\n",
       " PosixPath('../data/train_images/2200/masked/well_569.png'),\n",
       " PosixPath('../data/train_images/2200/masked/well_1286.png'),\n",
       " PosixPath('../data/train_images/2200/masked/well_851.png'),\n",
       " PosixPath('../data/train_images/2200/masked/well_1552.png'),\n",
       " PosixPath('../data/train_images/2200/masked/well_268.png'),\n",
       " PosixPath('../data/train_images/2200/masked/well_648.png'),\n",
       " PosixPath('../data/train_images/2200/masked/well_3074.png'),\n",
       " PosixPath('../data/train_images/2200/masked/well_650.png'),\n",
       " PosixPath('../data/train_images/2200/masked/well_3587.png'),\n",
       " PosixPath('../data/train_images/2200/masked/well_1073.png'),\n",
       " PosixPath('../data/train_images/2200/masked/well_1328.png'),\n",
       " PosixPath('../data/train_images/2200/masked/well_112.png'),\n",
       " PosixPath('../data/train_images/2200/masked/well_1918.png'),\n",
       " PosixPath('../data/train_images/2200/masked/well_385.png'),\n",
       " PosixPath('../data/train_images/2200/masked/well_3622.png'),\n",
       " PosixPath('../data/train_images/2200/masked/well_3874.png'),\n",
       " PosixPath('../data/train_images/2200/masked/well_985.png'),\n",
       " PosixPath('../data/train_images/2200/masked/well_1719.png'),\n",
       " PosixPath('../data/train_images/2200/masked/well_1501.png'),\n",
       " PosixPath('../data/train_images/2200/masked/well_3771.png'),\n",
       " PosixPath('../data/train_images/2200/masked/well_352.png'),\n",
       " PosixPath('../data/train_images/2200/masked/well_3118.png'),\n",
       " PosixPath('../data/train_images/2200/masked/well_1816.png'),\n",
       " PosixPath('../data/train_images/2200/masked/well_1995.png'),\n",
       " PosixPath('../data/train_images/2200/masked/well_3314.png'),\n",
       " PosixPath('../data/train_images/2200/masked/well_2653.png'),\n",
       " PosixPath('../data/train_images/2200/masked/well_1275.png'),\n",
       " PosixPath('../data/train_images/2200/masked/well_2076.png'),\n",
       " PosixPath('../data/train_images/2200/masked/well_1569.png'),\n",
       " PosixPath('../data/train_images/2200/masked/well_36.png'),\n",
       " PosixPath('../data/train_images/2200/masked/well_2459.png'),\n",
       " PosixPath('../data/train_images/2200/masked/well_3503.png'),\n",
       " PosixPath('../data/train_images/2200/masked/well_2513.png'),\n",
       " PosixPath('../data/train_images/2200/masked/well_1822.png'),\n",
       " PosixPath('../data/train_images/2200/masked/well_2722.png'),\n",
       " PosixPath('../data/train_images/2200/masked/well_3521.png'),\n",
       " PosixPath('../data/train_images/2200/masked/well_2103.png'),\n",
       " PosixPath('../data/train_images/2200/masked/well_1545.png'),\n",
       " PosixPath('../data/train_images/2200/masked/well_3613.png'),\n",
       " PosixPath('../data/train_images/2200/masked/well_1107.png'),\n",
       " PosixPath('../data/train_images/2200/masked/well_1043.png'),\n",
       " PosixPath('../data/train_images/2200/masked/well_693.png'),\n",
       " PosixPath('../data/train_images/2200/masked/well_2493.png'),\n",
       " PosixPath('../data/train_images/2200/masked/well_515.png'),\n",
       " PosixPath('../data/train_images/2200/masked/well_529.png'),\n",
       " PosixPath('../data/train_images/2200/masked/well_1755.png'),\n",
       " PosixPath('../data/train_images/2200/masked/well_3294.png'),\n",
       " PosixPath('../data/train_images/2200/masked/well_2164.png'),\n",
       " PosixPath('../data/train_images/2200/masked/well_3819.png'),\n",
       " PosixPath('../data/train_images/2200/masked/well_184.png'),\n",
       " PosixPath('../data/train_images/2200/masked/well_2151.png'),\n",
       " PosixPath('../data/train_images/2200/masked/well_3555.png'),\n",
       " PosixPath('../data/train_images/2200/masked/well_3602.png'),\n",
       " PosixPath('../data/train_images/2200/masked/well_3774.png'),\n",
       " PosixPath('../data/train_images/2200/masked/well_1658.png'),\n",
       " PosixPath('../data/train_images/2200/masked/well_3415.png'),\n",
       " PosixPath('../data/train_images/2200/masked/well_510.png'),\n",
       " PosixPath('../data/train_images/2200/masked/well_3861.png'),\n",
       " PosixPath('../data/train_images/2200/masked/well_805.png'),\n",
       " PosixPath('../data/train_images/2200/masked/well_1619.png'),\n",
       " PosixPath('../data/train_images/2200/masked/well_2861.png'),\n",
       " PosixPath('../data/train_images/2200/masked/well_2016.png'),\n",
       " PosixPath('../data/train_images/2200/masked/well_3780.png'),\n",
       " PosixPath('../data/train_images/2200/masked/well_623.png'),\n",
       " PosixPath('../data/train_images/2200/masked/well_1242.png'),\n",
       " PosixPath('../data/train_images/2200/masked/well_1143.png'),\n",
       " PosixPath('../data/train_images/2200/masked/well_662.png'),\n",
       " PosixPath('../data/train_images/2200/masked/well_3643.png'),\n",
       " PosixPath('../data/train_images/2200/masked/well_1589.png'),\n",
       " PosixPath('../data/train_images/2200/masked/well_2830.png'),\n",
       " PosixPath('../data/train_images/2200/masked/well_3899.png'),\n",
       " PosixPath('../data/train_images/2200/masked/well_2146.png'),\n",
       " PosixPath('../data/train_images/2200/masked/well_1661.png'),\n",
       " PosixPath('../data/train_images/2200/masked/well_1119.png'),\n",
       " PosixPath('../data/train_images/2200/masked/well_199.png'),\n",
       " PosixPath('../data/train_images/2200/masked/well_928.png'),\n",
       " PosixPath('../data/train_images/2200/masked/well_1625.png'),\n",
       " PosixPath('../data/train_images/2200/masked/well_686.png'),\n",
       " PosixPath('../data/train_images/2200/masked/well_601.png'),\n",
       " PosixPath('../data/train_images/2200/masked/well_3100.png'),\n",
       " PosixPath('../data/train_images/2200/masked/well_2033.png'),\n",
       " PosixPath('../data/train_images/2200/masked/well_2534.png'),\n",
       " PosixPath('../data/train_images/2200/masked/well_3444.png'),\n",
       " PosixPath('../data/train_images/2200/masked/well_1518.png'),\n",
       " PosixPath('../data/train_images/2200/masked/well_1723.png'),\n",
       " PosixPath('../data/train_images/2200/masked/well_3536.png'),\n",
       " PosixPath('../data/train_images/2200/masked/well_3762.png'),\n",
       " PosixPath('../data/train_images/2200/masked/well_3090.png'),\n",
       " PosixPath('../data/train_images/2200/masked/well_3068.png'),\n",
       " PosixPath('../data/train_images/2200/masked/well_2074.png'),\n",
       " PosixPath('../data/train_images/2200/masked/well_1113.png'),\n",
       " PosixPath('../data/train_images/2200/masked/well_752.png'),\n",
       " PosixPath('../data/train_images/2200/masked/well_2895.png'),\n",
       " PosixPath('../data/train_images/2200/masked/well_293.png'),\n",
       " PosixPath('../data/train_images/2200/masked/well_716.png'),\n",
       " PosixPath('../data/train_images/2200/masked/well_832.png'),\n",
       " PosixPath('../data/train_images/2200/masked/well_3248.png'),\n",
       " PosixPath('../data/train_images/2200/masked/well_2091.png'),\n",
       " PosixPath('../data/train_images/2200/masked/well_3917.png'),\n",
       " PosixPath('../data/train_images/2200/masked/well_1309.png'),\n",
       " PosixPath('../data/train_images/2200/masked/well_3197.png'),\n",
       " PosixPath('../data/train_images/2200/masked/well_2603.png'),\n",
       " PosixPath('../data/train_images/2200/masked/well_1418.png'),\n",
       " PosixPath('../data/train_images/2200/masked/well_773.png'),\n",
       " PosixPath('../data/train_images/2200/masked/well_2648.png'),\n",
       " PosixPath('../data/train_images/2200/masked/well_2945.png'),\n",
       " PosixPath('../data/train_images/2200/masked/well_1214.png'),\n",
       " PosixPath('../data/train_images/2200/masked/well_3947.png'),\n",
       " PosixPath('../data/train_images/2200/masked/well_2970.png'),\n",
       " PosixPath('../data/train_images/2200/masked/well_240.png'),\n",
       " PosixPath('../data/train_images/2200/masked/well_2521.png'),\n",
       " PosixPath('../data/train_images/2200/masked/well_1382.png'),\n",
       " PosixPath('../data/train_images/2200/masked/well_1511.png'),\n",
       " PosixPath('../data/train_images/2200/masked/well_1746.png'),\n",
       " PosixPath('../data/train_images/2200/masked/well_3930.png'),\n",
       " PosixPath('../data/train_images/2200/masked/well_1462.png'),\n",
       " PosixPath('../data/train_images/2200/masked/well_2422.png'),\n",
       " PosixPath('../data/train_images/2200/masked/well_2564.png'),\n",
       " PosixPath('../data/train_images/2200/masked/well_3494.png'),\n",
       " PosixPath('../data/train_images/2200/masked/well_2399.png'),\n",
       " PosixPath('../data/train_images/2200/masked/well_3629.png'),\n",
       " PosixPath('../data/train_images/2200/masked/well_2479.png'),\n",
       " PosixPath('../data/train_images/2200/masked/well_3460.png'),\n",
       " PosixPath('../data/train_images/2200/masked/well_914.png'),\n",
       " PosixPath('../data/train_images/2200/masked/well_2379.png'),\n",
       " PosixPath('../data/train_images/2200/masked/well_2888.png'),\n",
       " PosixPath('../data/train_images/2200/masked/well_701.png'),\n",
       " PosixPath('../data/train_images/2200/masked/well_3305.png'),\n",
       " PosixPath('../data/train_images/2200/masked/well_417.png'),\n",
       " ...]"
      ]
     },
     "execution_count": 132,
     "metadata": {},
     "output_type": "execute_result"
    }
   ],
   "source": [
    "train_mask_names"
   ]
  },
  {
   "cell_type": "code",
   "execution_count": 133,
   "metadata": {},
   "outputs": [
    {
     "data": {
      "text/plain": [
       "array([ 14,  31,  44, 119, 120, 127, 160, 174, 180, 187, 199, 232, 255], dtype=uint8)"
      ]
     },
     "execution_count": 133,
     "metadata": {},
     "output_type": "execute_result"
    }
   ],
   "source": [
    "np.unique(np.asarray(pil_image.open(train_mask_names[0])))"
   ]
  },
  {
   "cell_type": "code",
   "execution_count": 134,
   "metadata": {},
   "outputs": [],
   "source": [
    "def get_colours(images):\n",
    "    for i, im in enumerate(images):\n",
    "        img=pil_image.open(im)\n",
    "        colors = img.convert('RGB').getcolors()\n",
    "        print(colors)\n",
    "        assert True==False"
   ]
  },
  {
   "cell_type": "code",
   "execution_count": 135,
   "metadata": {},
   "outputs": [],
   "source": [
    "unique_pixels=[\n",
    "    [255, 255, 255], \n",
    "    [174, 199, 232], \n",
    "    [31, 119, 180], \n",
    "    [44, 160, 44], \n",
    "    [255, 187, 120], \n",
    "    [255, 127, 14]]"
   ]
  },
  {
   "cell_type": "code",
   "execution_count": 136,
   "metadata": {},
   "outputs": [],
   "source": [
    "c_pixels=[\n",
    "    [0, 0, 0], \n",
    "    [1, 1, 1], \n",
    "    [2, 2, 2], \n",
    "    [3, 3, 3], \n",
    "    [4, 4, 4], \n",
    "    [5, 5, 5]]"
   ]
  },
  {
   "cell_type": "code",
   "execution_count": 137,
   "metadata": {},
   "outputs": [],
   "source": [
    "u_values=[]\n",
    "def get_all_uniques(images, subset=None):\n",
    "    for i, im in enumerate(images):\n",
    "        if subset and (i > subset):\n",
    "            return u_values\n",
    "        mask = np.asarray(pil_image.open(im))\n",
    "        print(mask.shape)\n",
    "        #remove opcacity\n",
    "        #a=mask[:,:,:-1]\n",
    "        a=mask[:,:1,:-1]\n",
    "        print(a.shape)\n",
    "        #u_values.extend(np.unique(mask.tolist()))\n",
    "        print(a)\n",
    "        assert True==False\n",
    "    return u_values"
   ]
  },
  {
   "cell_type": "code",
   "execution_count": 138,
   "metadata": {},
   "outputs": [],
   "source": [
    "def convert_masks_pixels(unique_pixels,unique_colours, images, save_path):\n",
    "    print(f'>>convert_masks_pixels() colours: {len(u_values)} images: {len(images)} to {save_path}')\n",
    "    for i, im in enumerate(images):\n",
    "        mask = np.asarray(pil_image.open(im))\n",
    "        mask_c=mask[:,:,:-1].copy()\n",
    "        for p, c in zip(unique_pixels, unique_colours):\n",
    "            mask_c[np.where((mask_c==p).all(axis=2))] = c\n",
    "        #print(f'mask_c: {mask_c}')\n",
    "        #print(f'mask: {mask}')\n",
    "        #print(f'mask_c: {mask_c.shape}, mask: {mask.shape}')\n",
    "        #assert True==False\n",
    "        image = pil_image.fromarray(mask_c)\n",
    "        name=im.name.split('.png')[0]\n",
    "        image.save(save_path/f'{name}_replaced.png')"
   ]
  },
  {
   "cell_type": "code",
   "execution_count": 139,
   "metadata": {},
   "outputs": [],
   "source": [
    "train_mask_names_mpl = get_image_files(cropped_train_mask)"
   ]
  },
  {
   "cell_type": "code",
   "execution_count": 140,
   "metadata": {},
   "outputs": [
    {
     "name": "stdout",
     "output_type": "stream",
     "text": [
      ">>convert_masks_pixels() colours: 0 images: 32000 to ../data/train_images/2200/masked/cropped_6_colour\n"
     ]
    }
   ],
   "source": [
    "convert_masks_pixels(unique_pixels, c_pixels, train_mask_names_mpl, cropped_train_mask_6_colour)"
   ]
  },
  {
   "cell_type": "markdown",
   "metadata": {},
   "source": [
    "### QC"
   ]
  },
  {
   "cell_type": "code",
   "execution_count": 62,
   "metadata": {},
   "outputs": [],
   "source": [
    "def get_unique_colours(img_name):\n",
    "    im = pil_image.open(img_name)\n",
    "    by_color = defaultdict(int)\n",
    "    for pixel in im.getdata():\n",
    "        by_color[pixel] += 1\n",
    "    return by_color"
   ]
  },
  {
   "cell_type": "code",
   "execution_count": 141,
   "metadata": {},
   "outputs": [
    {
     "data": {
      "text/plain": [
       "PosixPath('../data/train_images/2200/masked/cropped/well_3787_crop_4.png')"
      ]
     },
     "execution_count": 141,
     "metadata": {},
     "output_type": "execute_result"
    }
   ],
   "source": [
    "train_mask_names_mpl[4]"
   ]
  },
  {
   "cell_type": "code",
   "execution_count": 142,
   "metadata": {},
   "outputs": [],
   "source": [
    "crop_mask =data_dir/'train_images/cropped/mask_fill/train/masks'\n",
    "mask_6_colour_names = get_image_files(cropped_train_mask_6_colour)"
   ]
  },
  {
   "cell_type": "code",
   "execution_count": 143,
   "metadata": {},
   "outputs": [
    {
     "ename": "NameError",
     "evalue": "name 'get_unique_colours' is not defined",
     "output_type": "error",
     "traceback": [
      "\u001b[0;31m---------------------------------------------------------------------------\u001b[0m",
      "\u001b[0;31mNameError\u001b[0m                                 Traceback (most recent call last)",
      "\u001b[0;32m<ipython-input-143-38f7ba038034>\u001b[0m in \u001b[0;36m<module>\u001b[0;34m\u001b[0m\n\u001b[0;32m----> 1\u001b[0;31m \u001b[0mget_unique_colours\u001b[0m\u001b[0;34m(\u001b[0m\u001b[0mmask_6_colour_names\u001b[0m\u001b[0;34m[\u001b[0m\u001b[0;36m50\u001b[0m\u001b[0;34m]\u001b[0m\u001b[0;34m)\u001b[0m\u001b[0;34m\u001b[0m\u001b[0;34m\u001b[0m\u001b[0m\n\u001b[0m",
      "\u001b[0;31mNameError\u001b[0m: name 'get_unique_colours' is not defined"
     ]
    }
   ],
   "source": [
    "get_unique_colours(mask_6_colour_names[50])"
   ]
  },
  {
   "cell_type": "code",
   "execution_count": null,
   "metadata": {},
   "outputs": [],
   "source": [
    "mpl_im = pil_image.open(train_mask_names_mpl[10])\n",
    "mpl_a=np.array(mpl_im)\n",
    "mpl_a.shape"
   ]
  },
  {
   "cell_type": "code",
   "execution_count": null,
   "metadata": {},
   "outputs": [],
   "source": [
    "crop_im = pil_image.open(mask_6_colour_names[10])\n",
    "crop_a=np.array(crop_im)\n",
    "crop_a.shape"
   ]
  },
  {
   "cell_type": "code",
   "execution_count": null,
   "metadata": {},
   "outputs": [],
   "source": [
    "mask = open_mask(train_mask_names_mpl[10])\n",
    "mask.show(figsize=(18,4), alpha=1)"
   ]
  },
  {
   "cell_type": "code",
   "execution_count": null,
   "metadata": {},
   "outputs": [],
   "source": [
    "crop_mask = open_mask(mask_6_colour_names[10])\n",
    "crop_mask.show(figsize=(18,4), alpha=1)"
   ]
  },
  {
   "cell_type": "markdown",
   "metadata": {},
   "source": [
    "### End main section"
   ]
  },
  {
   "cell_type": "markdown",
   "metadata": {},
   "source": [
    "### Appendix\n",
    "\n",
    "If need to convert 3 channel RGB to single channel"
   ]
  },
  {
   "cell_type": "code",
   "execution_count": 97,
   "metadata": {},
   "outputs": [],
   "source": [
    "r=crop_a[:,:,1]"
   ]
  },
  {
   "cell_type": "code",
   "execution_count": 104,
   "metadata": {},
   "outputs": [],
   "source": [
    "r=r*40"
   ]
  },
  {
   "cell_type": "code",
   "execution_count": 105,
   "metadata": {},
   "outputs": [
    {
     "data": {
      "text/plain": [
       "(275, 275)"
      ]
     },
     "execution_count": 105,
     "metadata": {},
     "output_type": "execute_result"
    }
   ],
   "source": [
    "r.shape"
   ]
  },
  {
   "cell_type": "code",
   "execution_count": 106,
   "metadata": {},
   "outputs": [],
   "source": [
    "r_im=pil_image.fromarray(r)"
   ]
  },
  {
   "cell_type": "code",
   "execution_count": 107,
   "metadata": {},
   "outputs": [],
   "source": [
    "r_im.save('single_channel_mask.png')"
   ]
  },
  {
   "cell_type": "code",
   "execution_count": 113,
   "metadata": {},
   "outputs": [],
   "source": [
    "def convert_mask_to_single_channel(masks, out_path):\n",
    "    for m in masks:\n",
    "        name=m.name\n",
    "        crop_im = pil_image.open(m)\n",
    "        crop_a=np.array(crop_im)\n",
    "        r=crop_a[:,:,1]\n",
    "        r_im=pil_image.fromarray(r)\n",
    "        r_im.save(out_path/name)\n",
    "    "
   ]
  },
  {
   "cell_type": "code",
   "execution_count": 114,
   "metadata": {},
   "outputs": [],
   "source": [
    "sc_mask_path =data_dir/'train_images/cropped/mask_fill/train/sc_masks'\n",
    "convert_mask_to_single_channel(crop_mask_names,sc_mask_path)"
   ]
  },
  {
   "cell_type": "markdown",
   "metadata": {},
   "source": [
    "Create a list of RGB values in order of idx value to replace with, i.e. 0: [0,0,0], 1: [255,0,0]\n",
    "\n",
    "Note we have an extra colour for background (where GR is > log value but less than absolute GR cutoff)\n",
    "\n",
    "We use RGB not RGBA"
   ]
  },
  {
   "cell_type": "code",
   "execution_count": 38,
   "metadata": {},
   "outputs": [],
   "source": [
    "facies_rgb_list = [\n",
    "    [255, 255, 255],\n",
    "    [153, 102, 51],\n",
    "    [0, 128, 0],\n",
    "    [255, 0, 0],\n",
    "    [0, 0, 255],\n",
    "    [255, 255, 0]]"
   ]
  },
  {
   "cell_type": "code",
   "execution_count": 39,
   "metadata": {},
   "outputs": [],
   "source": [
    "def div_rgbs(rgb_list):\n",
    "    rgb_zero_one=[]\n",
    "    for l in rgb_list:\n",
    "        rgb_zero_one.append([i /255 for i in l])\n",
    "    return rgb_zero_one"
   ]
  },
  {
   "cell_type": "code",
   "execution_count": 40,
   "metadata": {},
   "outputs": [],
   "source": [
    "def convert_mask(old_mask, rgb_list, div):\n",
    "    '''\n",
    "    create a bytemask for pixels = rgb value to be replaced, \n",
    "    sum over all columns\n",
    "    fill in pixels with new idx value\n",
    "    '''\n",
    "    new_mask = torch.zeros((old_mask.shape[-2],old_mask.shape[-1]))\n",
    "    for idx, rgb in enumerate(rgb_list):\n",
    "        rgb_mask = torch.sum(old_mask.data.view((3,-1)).permute(1,0) == tensor(rgb),dim=1)==3 \n",
    "        new_mask.masked_fill_(rgb_mask.view(new_mask.shape), tensor(idx)) \n",
    "    if div: \n",
    "        new_mask.div_(255)\n",
    "    print(f'max: {torch.max(new_mask)}, div: {div}')\n",
    "    return ImageSegment(new_mask.unsqueeze(0))\n",
    "\n",
    "def open_mask_converted(fn:PathOrStr, div, convert_mode='RGB', after_open:Callable=None, rgb_list=facies_rgb_list)->ImageSegment:\n",
    "    '''Note we apply div after opening and conversion'''\n",
    "    return convert_mask(open_image(fn, div=False, convert_mode=convert_mode, cls=ImageSegment, after_open=after_open), rgb_list, div=div)"
   ]
  }
 ],
 "metadata": {
  "kernelspec": {
   "display_name": "Python 3",
   "language": "python",
   "name": "python3"
  },
  "language_info": {
   "codemirror_mode": {
    "name": "ipython",
    "version": 3
   },
   "file_extension": ".py",
   "mimetype": "text/x-python",
   "name": "python",
   "nbconvert_exporter": "python",
   "pygments_lexer": "ipython3",
   "version": "3.7.4"
  },
  "varInspector": {
   "cols": {
    "lenName": 16,
    "lenType": 16,
    "lenVar": 40
   },
   "kernels_config": {
    "python": {
     "delete_cmd_postfix": "",
     "delete_cmd_prefix": "del ",
     "library": "var_list.py",
     "varRefreshCmd": "print(var_dic_list())"
    },
    "r": {
     "delete_cmd_postfix": ") ",
     "delete_cmd_prefix": "rm(",
     "library": "var_list.r",
     "varRefreshCmd": "cat(var_dic_list()) "
    }
   },
   "types_to_exclude": [
    "module",
    "function",
    "builtin_function_or_method",
    "instance",
    "_Feature"
   ],
   "window_display": false
  }
 },
 "nbformat": 4,
 "nbformat_minor": 1
}
